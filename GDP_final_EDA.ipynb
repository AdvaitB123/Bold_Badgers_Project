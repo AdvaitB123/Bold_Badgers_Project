{
 "cells": [
  {
   "cell_type": "markdown",
   "metadata": {},
   "source": [
    "# Load data"
   ]
  },
  {
   "cell_type": "markdown",
   "metadata": {},
   "source": [
    "Our dataset contains the average GDP per capita of 227 countries from 1970 to 2017 as well as the average of other metrics such as Infant mortality (per 1000 births) and Literacy % for each country\n",
    "\n",
    "We want our model to be able to predict the GDP per capita for a country based on inputted values for the other metrics.\n",
    "\n",
    "Here is a link to our dataset: https://www.kaggle.com/code/noxmoon/world-countries-predicting-gdp/input\n",
    "\n",
    "Here is some more specific information on the columns:\n",
    "\n",
    "Arable %: Percentage of land capable of cultivating crops\n",
    "<br>\n",
    "Crop %: percentage of arable land that is actually under cultivation and used for growing crops\n",
    "<br>\n",
    "Other %: percentage of arable land that is not used for crops\n",
    "<br>\n",
    "Agriculture: percentage of GDP that comes from agriculture\n",
    "<br>\n",
    "Industry: percentage of GDP that comes from industrial activities\n",
    "<br>\n",
    "Service: percentage of GDP from the service industry"
   ]
  },
  {
   "cell_type": "code",
   "execution_count": 16,
   "id": "adf3b87e",
   "metadata": {},
   "outputs": [],
   "source": [
    "import pandas as pd\n",
    "\n",
    "file = 'countries of the world.csv'\n",
    "\n",
    "df = pd.read_csv(file, decimal = ',')"
   ]
  },
  {
   "cell_type": "markdown",
   "id": "0e1fc6fb",
   "metadata": {},
   "source": [
    "# Preprocessing for data analysis"
   ]
  },
  {
   "cell_type": "code",
   "execution_count": null,
   "id": "08f1e94f",
   "metadata": {},
   "outputs": [],
   "source": [
    "# Fills null values with the average column value by region \n",
    "\n",
    "for col in df.columns.values:\n",
    "  if df[col].isnull().sum() == 0: # if column does not have null values\n",
    "    continue \n",
    "  #otherwise\n",
    "  med_values = df.groupby('Region')[col].median()\n",
    "  for region in df['Region'].unique():\n",
    "    # replace value where value is null and df[Region] = region\n",
    "    df[col].loc[(df[col].isnull()) & (df['Region'] == region)] = med_values[region] "
   ]
  },
  {
   "cell_type": "code",
   "execution_count": 18,
   "id": "95c1f98b",
   "metadata": {},
   "outputs": [],
   "source": [
    "# Save preprocessed data before dummy variables to use for data analysis\n",
    "\n",
    "graph_data = df"
   ]
  },
  {
   "cell_type": "markdown",
   "id": "7d3a7f44",
   "metadata": {},
   "source": [
    "# Data Analysis and Graphs"
   ]
  },
  {
   "cell_type": "code",
   "execution_count": 19,
   "id": "552920ce",
   "metadata": {},
   "outputs": [
    {
     "name": "stdout",
     "output_type": "stream",
     "text": [
      "Population, St Pierre & Miquelon , 7026\n",
      "Area (sq. mi.), Monaco , 2\n",
      "Pop. Density (per sq. mi.), Greenland , 0.0\n",
      "Coastline (coast/area ratio), Afghanistan , 0.0\n",
      "Net migration, Micronesia, Fed. St. , -20.99\n",
      "Infant mortality (per 1000 births), Singapore , 2.29\n",
      "GDP ($ per capita), East Timor , 500.0\n",
      "Literacy (%), Niger , 17.6\n",
      "Phones (per 1000), Congo, Dem. Rep. , 0.2\n",
      "Arable (%), Anguilla , 0.0\n",
      "Crops (%), Andorra , 0.0\n",
      "Other (%), Tonga , 33.33\n",
      "Climate, Afghanistan , 1.0\n",
      "Birthrate, Hong Kong , 7.29\n",
      "Deathrate, N. Mariana Islands , 2.29\n",
      "Agriculture, Singapore , 0.0\n",
      "Industry, Jersey , 0.02\n",
      "Service, Equatorial Guinea , 0.062\n"
     ]
    }
   ],
   "source": [
    "# min column values with country name\n",
    "\n",
    "for col in df.columns.values[2:]:\n",
    "  index_of_min = df[col].idxmin()\n",
    "  min_country = df['Country'].loc[index_of_min]\n",
    "  min_value = df[col].min()\n",
    "  print(col + \", \" + min_country + \", \" + str(min_value))"
   ]
  },
  {
   "cell_type": "code",
   "execution_count": 20,
   "id": "3ec4680d",
   "metadata": {},
   "outputs": [
    {
     "name": "stdout",
     "output_type": "stream",
     "text": [
      "Population, China , 1313973713\n",
      "Area (sq. mi.), Russia , 17075200\n",
      "Pop. Density (per sq. mi.), Monaco , 16271.5\n",
      "Coastline (coast/area ratio), Micronesia, Fed. St. , 870.66\n",
      "Net migration, Afghanistan , 23.06\n",
      "Infant mortality (per 1000 births), Angola , 191.19\n",
      "GDP ($ per capita), Luxembourg , 55100.0\n",
      "Literacy (%), Andorra , 100.0\n",
      "Phones (per 1000), Monaco , 1035.6\n",
      "Arable (%), Bangladesh , 62.11\n",
      "Crops (%), Kiribati , 50.68\n",
      "Other (%), Anguilla , 100.0\n",
      "Climate, Armenia , 4.0\n",
      "Birthrate, Niger , 50.73\n",
      "Deathrate, Swaziland , 29.74\n",
      "Agriculture, Liberia , 0.769\n",
      "Industry, Equatorial Guinea , 0.906\n",
      "Service, Cayman Islands , 0.954\n"
     ]
    }
   ],
   "source": [
    "# max column values with country name\n",
    "\n",
    "for col in df.columns.values[2:]:\n",
    "  index_of_max = df[col].idxmax()\n",
    "  max_country = df['Country'].loc[index_of_max]\n",
    "  max_value = df[col].max()\n",
    "  print(col + \", \" + max_country + \", \" + str(max_value))"
   ]
  },
  {
   "cell_type": "markdown",
   "id": "c4c6350e",
   "metadata": {},
   "source": [
    "### Heatmap\n",
    "\n",
    "Below is a correlation map of all columns in the dataframe \n",
    "<br>\n",
    "Values close to -1 or 1 are a good indicator of important features in the dataset \n",
    "<br>\n",
    "For example, GDP is highly correlated to Phones per 1000 people (0.83)"
   ]
  },
  {
   "cell_type": "code",
   "execution_count": 21,
   "id": "a1dfded3",
   "metadata": {},
   "outputs": [
    {
     "data": {
      "application/vnd.plotly.v1+json": {
       "config": {
        "plotlyServerURL": "https://plot.ly"
       },
       "data": [
        {
         "coloraxis": "coloraxis",
         "hovertemplate": "x: %{x}<br>y: %{y}<br>color: %{z}<extra></extra>",
         "name": "0",
         "texttemplate": "%{z}",
         "type": "heatmap",
         "x": [
          "Population",
          "Area (sq. mi.)",
          "Pop. Density (per sq. mi.)",
          "Coastline (coast/area ratio)",
          "Net migration",
          "Infant mortality (per 1000 births)",
          "GDP ($ per capita)",
          "Literacy (%)",
          "Phones (per 1000)",
          "Arable (%)",
          "Crops (%)",
          "Other (%)",
          "Climate",
          "Birthrate",
          "Deathrate",
          "Agriculture",
          "Industry",
          "Service"
         ],
         "xaxis": "x",
         "y": [
          "Population",
          "Area (sq. mi.)",
          "Pop. Density (per sq. mi.)",
          "Coastline (coast/area ratio)",
          "Net migration",
          "Infant mortality (per 1000 births)",
          "GDP ($ per capita)",
          "Literacy (%)",
          "Phones (per 1000)",
          "Arable (%)",
          "Crops (%)",
          "Other (%)",
          "Climate",
          "Birthrate",
          "Deathrate",
          "Agriculture",
          "Industry",
          "Service"
         ],
         "yaxis": "y",
         "z": [
          [
           1,
           0.46998508371848186,
           -0.02819047419507408,
           -0.06819893686118715,
           0.00012197596119944466,
           0.02448832345067717,
           -0.038914573702449155,
           -0.05160995990263664,
           -0.029234656823301904,
           0.18833658300565578,
           -0.059617400727107535,
           -0.12111786823613734,
           -0.02978313000564158,
           -0.044150814747904804,
           -0.025973618067412083,
           0.004866616998047224,
           0.10573248021851495,
           -0.08735604396272696
          ],
          [
           0.46998508371848186,
           1,
           -0.06691699842088768,
           -0.09562748502395603,
           0.047537093562062795,
           -0.0051200118584673595,
           0.07246003726768048,
           0.025953873181093053,
           0.05502620046304673,
           -0.0792704364752415,
           -0.14223358854725457,
           0.13795574931106175,
           -0.06745454122606503,
           -0.06482194268884643,
           0.04241763738258006,
           -0.04882070193079003,
           0.12740083566882665,
           -0.057226990321064396
          ],
          [
           -0.02819047419507408,
           -0.06691699842088768,
           1,
           0.24168951946874723,
           0.1780884754085168,
           -0.14274131006126678,
           0.19606284042244132,
           0.09848749919998952,
           0.2808184638635084,
           -0.08085709330119265,
           -0.03245954623232804,
           0.0820655984506061,
           0.06945495534425557,
           -0.15790917317967582,
           -0.06791037155844548,
           -0.1102353588663079,
           -0.11673409131600326,
           0.2292227654182715
          ],
          [
           -0.06819893686118715,
           -0.09562748502395603,
           0.24168951946874723,
           1,
           -0.1339469553645472,
           -0.13822297259781743,
           0.04956115858498951,
           0.1331122337640817,
           0.1532037843715537,
           -0.12076010066943359,
           0.3388885666467854,
           -0.07831159747253688,
           -0.002934635583532357,
           -0.07402133702384993,
           -0.16270469271148877,
           -0.03630098670039027,
           -0.21481869606240336,
           0.21020056612490498
          ],
          [
           0.00012197596119944466,
           0.047537093562062795,
           0.1780884754085168,
           -0.1339469553645472,
           1,
           -0.024875560972641746,
           0.38202859162572833,
           -0.015620274143781934,
           0.23915980473808038,
           -0.05933377087498091,
           -0.3443374400473231,
           0.22574004695330868,
           0.026244505317197894,
           -0.06494675796874397,
           0.0335754372660692,
           -0.10710548179087483,
           -0.019155804410756618,
           0.11010301801711832
          ],
          [
           0.02448832345067717,
           -0.0051200118584673595,
           -0.14274131006126678,
           -0.13822297259781743,
           -0.024875560972641746,
           1,
           -0.5954315328601326,
           -0.7587023384256675,
           -0.6666993069987005,
           -0.1136074096716378,
           -0.07019668625236594,
           0.1280633960184025,
           -0.37216476960700556,
           0.8444416698563232,
           0.6558907145617281,
           0.7067340427664893,
           0.028858762534378444,
           -0.6400071853964491
          ],
          [
           -0.038914573702449155,
           0.07246003726768048,
           0.19606284042244132,
           0.04956115858498951,
           0.38202859162572833,
           -0.5954315328601326,
           1,
           0.5088387202481168,
           0.8323640369760106,
           0.023936588770589955,
           -0.2180934624402418,
           0.09373711796858653,
           0.3691295162261547,
           -0.6431988198383183,
           -0.1963216846805327,
           -0.5859866916174662,
           -0.034992579754979485,
           0.5539942592780367
          ],
          [
           -0.05160995990263664,
           0.025953873181093053,
           0.09848749919998952,
           0.1331122337640817,
           -0.015620274143781934,
           -0.7587023384256675,
           0.5088387202481168,
           1,
           0.5874403038797763,
           0.08526860241593506,
           0.03837191972022937,
           -0.08852159664505015,
           0.4172137736135398,
           -0.7769463078530835,
           -0.3767563816237851,
           -0.5940623097499179,
           0.019528275420228232,
           0.5056183969460392
          ],
          [
           -0.029234656823301904,
           0.05502620046304673,
           0.2808184638635084,
           0.1532037843715537,
           0.23915980473808038,
           -0.6666993069987005,
           0.8323640369760106,
           0.5874403038797763,
           1,
           0.06885311877586564,
           -0.15069975618986883,
           0.022292569160530414,
           0.42870151495907743,
           -0.7210986128209224,
           -0.2530331017606004,
           -0.5994050402040635,
           -0.15817790401433643,
           0.670933129719948
          ],
          [
           0.18833658300565578,
           -0.0792704364752415,
           -0.08085709330119265,
           -0.12076010066943359,
           -0.05933377087498091,
           -0.1136074096716378,
           0.023936588770589955,
           0.08526860241593506,
           0.06885311877586564,
           1,
           0.09461443626387897,
           -0.8567696328212391,
           0.373295962105353,
           -0.19509970897741782,
           0.06015312998444192,
           -0.023226789461919372,
           -0.048443523488854896,
           0.06655013854324812
          ],
          [
           -0.059617400727107535,
           -0.14223358854725457,
           -0.03245954623232804,
           0.3388885666467854,
           -0.3443374400473231,
           -0.07019668625236594,
           -0.2180934624402418,
           0.03837191972022937,
           -0.15069975618986883,
           0.09461443626387897,
           1,
           -0.594412848935981,
           -0.016145974074861645,
           0.11774380837154438,
           -0.20942516637782826,
           0.06281505233275377,
           -0.11890030630720658,
           0.042806173794516525
          ],
          [
           -0.12111786823613734,
           0.13795574931106175,
           0.0820655984506061,
           -0.07831159747253688,
           0.22574004695330868,
           0.1280633960184025,
           0.09373711796858653,
           -0.08852159664505015,
           0.022292569160530414,
           -0.8567696328212391,
           -0.594412848935981,
           1,
           -0.29329294284339064,
           0.09616844449741471,
           0.06005793513890404,
           -0.013929943874448396,
           0.10113459421653966,
           -0.07597040040990245
          ],
          [
           -0.02978313000564158,
           -0.06745454122606503,
           0.06945495534425557,
           -0.002934635583532357,
           0.026244505317197894,
           -0.37216476960700556,
           0.3691295162261547,
           0.4172137736135398,
           0.42870151495907743,
           0.373295962105353,
           -0.016145974074861645,
           -0.29329294284339064,
           1,
           -0.47317573581665684,
           0.04738536169644283,
           -0.21266688842755005,
           -0.10454358931641788,
           0.28441929139709005
          ],
          [
           -0.044150814747904804,
           -0.06482194268884643,
           -0.15790917317967582,
           -0.07402133702384993,
           -0.06494675796874397,
           0.8444416698563232,
           -0.6431988198383183,
           -0.7769463078530835,
           -0.7210986128209224,
           -0.19509970897741782,
           0.11774380837154438,
           0.09616844449741471,
           -0.47317573581665684,
           1,
           0.39189260036025214,
           0.6760236739747743,
           -0.045458928881057306,
           -0.5612259107953175
          ],
          [
           -0.025973618067412083,
           0.04241763738258006,
           -0.06791037155844548,
           -0.16270469271148877,
           0.0335754372660692,
           0.6558907145617281,
           -0.1963216846805327,
           -0.3767563816237851,
           -0.2530331017606004,
           0.06015312998444192,
           -0.20942516637782826,
           0.06005793513890404,
           0.04738536169644283,
           0.39189260036025214,
           1,
           0.3767605130889807,
           0.05055604953395608,
           -0.3560142287835583
          ],
          [
           0.004866616998047224,
           -0.04882070193079003,
           -0.1102353588663079,
           -0.03630098670039027,
           -0.10710548179087483,
           0.7067340427664893,
           -0.5859866916174662,
           -0.5940623097499179,
           -0.5994050402040635,
           -0.023226789461919372,
           0.06281505233275377,
           -0.013929943874448396,
           -0.21266688842755005,
           0.6760236739747743,
           0.3767605130889807,
           1,
           -0.3101394066615926,
           -0.6228512232753625
          ],
          [
           0.10573248021851495,
           0.12740083566882665,
           -0.11673409131600326,
           -0.21481869606240336,
           -0.019155804410756618,
           0.028858762534378444,
           -0.034992579754979485,
           0.019528275420228232,
           -0.15817790401433643,
           -0.048443523488854896,
           -0.11890030630720658,
           0.10113459421653966,
           -0.10454358931641788,
           -0.045458928881057306,
           0.05055604953395608,
           -0.3101394066615926,
           1,
           -0.544294580882851
          ],
          [
           -0.08735604396272696,
           -0.057226990321064396,
           0.2292227654182715,
           0.21020056612490498,
           0.11010301801711832,
           -0.6400071853964491,
           0.5539942592780367,
           0.5056183969460392,
           0.670933129719948,
           0.06655013854324812,
           0.042806173794516525,
           -0.07597040040990245,
           0.28441929139709005,
           -0.5612259107953175,
           -0.3560142287835583,
           -0.6228512232753625,
           -0.544294580882851,
           1
          ]
         ]
        }
       ],
       "layout": {
        "coloraxis": {
         "colorscale": [
          [
           0,
           "#0d0887"
          ],
          [
           0.1111111111111111,
           "#46039f"
          ],
          [
           0.2222222222222222,
           "#7201a8"
          ],
          [
           0.3333333333333333,
           "#9c179e"
          ],
          [
           0.4444444444444444,
           "#bd3786"
          ],
          [
           0.5555555555555556,
           "#d8576b"
          ],
          [
           0.6666666666666666,
           "#ed7953"
          ],
          [
           0.7777777777777778,
           "#fb9f3a"
          ],
          [
           0.8888888888888888,
           "#fdca26"
          ],
          [
           1,
           "#f0f921"
          ]
         ]
        },
        "height": 1300,
        "margin": {
         "t": 60
        },
        "template": {
         "data": {
          "bar": [
           {
            "error_x": {
             "color": "#2a3f5f"
            },
            "error_y": {
             "color": "#2a3f5f"
            },
            "marker": {
             "line": {
              "color": "#E5ECF6",
              "width": 0.5
             },
             "pattern": {
              "fillmode": "overlay",
              "size": 10,
              "solidity": 0.2
             }
            },
            "type": "bar"
           }
          ],
          "barpolar": [
           {
            "marker": {
             "line": {
              "color": "#E5ECF6",
              "width": 0.5
             },
             "pattern": {
              "fillmode": "overlay",
              "size": 10,
              "solidity": 0.2
             }
            },
            "type": "barpolar"
           }
          ],
          "carpet": [
           {
            "aaxis": {
             "endlinecolor": "#2a3f5f",
             "gridcolor": "white",
             "linecolor": "white",
             "minorgridcolor": "white",
             "startlinecolor": "#2a3f5f"
            },
            "baxis": {
             "endlinecolor": "#2a3f5f",
             "gridcolor": "white",
             "linecolor": "white",
             "minorgridcolor": "white",
             "startlinecolor": "#2a3f5f"
            },
            "type": "carpet"
           }
          ],
          "choropleth": [
           {
            "colorbar": {
             "outlinewidth": 0,
             "ticks": ""
            },
            "type": "choropleth"
           }
          ],
          "contour": [
           {
            "colorbar": {
             "outlinewidth": 0,
             "ticks": ""
            },
            "colorscale": [
             [
              0,
              "#0d0887"
             ],
             [
              0.1111111111111111,
              "#46039f"
             ],
             [
              0.2222222222222222,
              "#7201a8"
             ],
             [
              0.3333333333333333,
              "#9c179e"
             ],
             [
              0.4444444444444444,
              "#bd3786"
             ],
             [
              0.5555555555555556,
              "#d8576b"
             ],
             [
              0.6666666666666666,
              "#ed7953"
             ],
             [
              0.7777777777777778,
              "#fb9f3a"
             ],
             [
              0.8888888888888888,
              "#fdca26"
             ],
             [
              1,
              "#f0f921"
             ]
            ],
            "type": "contour"
           }
          ],
          "contourcarpet": [
           {
            "colorbar": {
             "outlinewidth": 0,
             "ticks": ""
            },
            "type": "contourcarpet"
           }
          ],
          "heatmap": [
           {
            "colorbar": {
             "outlinewidth": 0,
             "ticks": ""
            },
            "colorscale": [
             [
              0,
              "#0d0887"
             ],
             [
              0.1111111111111111,
              "#46039f"
             ],
             [
              0.2222222222222222,
              "#7201a8"
             ],
             [
              0.3333333333333333,
              "#9c179e"
             ],
             [
              0.4444444444444444,
              "#bd3786"
             ],
             [
              0.5555555555555556,
              "#d8576b"
             ],
             [
              0.6666666666666666,
              "#ed7953"
             ],
             [
              0.7777777777777778,
              "#fb9f3a"
             ],
             [
              0.8888888888888888,
              "#fdca26"
             ],
             [
              1,
              "#f0f921"
             ]
            ],
            "type": "heatmap"
           }
          ],
          "heatmapgl": [
           {
            "colorbar": {
             "outlinewidth": 0,
             "ticks": ""
            },
            "colorscale": [
             [
              0,
              "#0d0887"
             ],
             [
              0.1111111111111111,
              "#46039f"
             ],
             [
              0.2222222222222222,
              "#7201a8"
             ],
             [
              0.3333333333333333,
              "#9c179e"
             ],
             [
              0.4444444444444444,
              "#bd3786"
             ],
             [
              0.5555555555555556,
              "#d8576b"
             ],
             [
              0.6666666666666666,
              "#ed7953"
             ],
             [
              0.7777777777777778,
              "#fb9f3a"
             ],
             [
              0.8888888888888888,
              "#fdca26"
             ],
             [
              1,
              "#f0f921"
             ]
            ],
            "type": "heatmapgl"
           }
          ],
          "histogram": [
           {
            "marker": {
             "pattern": {
              "fillmode": "overlay",
              "size": 10,
              "solidity": 0.2
             }
            },
            "type": "histogram"
           }
          ],
          "histogram2d": [
           {
            "colorbar": {
             "outlinewidth": 0,
             "ticks": ""
            },
            "colorscale": [
             [
              0,
              "#0d0887"
             ],
             [
              0.1111111111111111,
              "#46039f"
             ],
             [
              0.2222222222222222,
              "#7201a8"
             ],
             [
              0.3333333333333333,
              "#9c179e"
             ],
             [
              0.4444444444444444,
              "#bd3786"
             ],
             [
              0.5555555555555556,
              "#d8576b"
             ],
             [
              0.6666666666666666,
              "#ed7953"
             ],
             [
              0.7777777777777778,
              "#fb9f3a"
             ],
             [
              0.8888888888888888,
              "#fdca26"
             ],
             [
              1,
              "#f0f921"
             ]
            ],
            "type": "histogram2d"
           }
          ],
          "histogram2dcontour": [
           {
            "colorbar": {
             "outlinewidth": 0,
             "ticks": ""
            },
            "colorscale": [
             [
              0,
              "#0d0887"
             ],
             [
              0.1111111111111111,
              "#46039f"
             ],
             [
              0.2222222222222222,
              "#7201a8"
             ],
             [
              0.3333333333333333,
              "#9c179e"
             ],
             [
              0.4444444444444444,
              "#bd3786"
             ],
             [
              0.5555555555555556,
              "#d8576b"
             ],
             [
              0.6666666666666666,
              "#ed7953"
             ],
             [
              0.7777777777777778,
              "#fb9f3a"
             ],
             [
              0.8888888888888888,
              "#fdca26"
             ],
             [
              1,
              "#f0f921"
             ]
            ],
            "type": "histogram2dcontour"
           }
          ],
          "mesh3d": [
           {
            "colorbar": {
             "outlinewidth": 0,
             "ticks": ""
            },
            "type": "mesh3d"
           }
          ],
          "parcoords": [
           {
            "line": {
             "colorbar": {
              "outlinewidth": 0,
              "ticks": ""
             }
            },
            "type": "parcoords"
           }
          ],
          "pie": [
           {
            "automargin": true,
            "type": "pie"
           }
          ],
          "scatter": [
           {
            "fillpattern": {
             "fillmode": "overlay",
             "size": 10,
             "solidity": 0.2
            },
            "type": "scatter"
           }
          ],
          "scatter3d": [
           {
            "line": {
             "colorbar": {
              "outlinewidth": 0,
              "ticks": ""
             }
            },
            "marker": {
             "colorbar": {
              "outlinewidth": 0,
              "ticks": ""
             }
            },
            "type": "scatter3d"
           }
          ],
          "scattercarpet": [
           {
            "marker": {
             "colorbar": {
              "outlinewidth": 0,
              "ticks": ""
             }
            },
            "type": "scattercarpet"
           }
          ],
          "scattergeo": [
           {
            "marker": {
             "colorbar": {
              "outlinewidth": 0,
              "ticks": ""
             }
            },
            "type": "scattergeo"
           }
          ],
          "scattergl": [
           {
            "marker": {
             "colorbar": {
              "outlinewidth": 0,
              "ticks": ""
             }
            },
            "type": "scattergl"
           }
          ],
          "scattermapbox": [
           {
            "marker": {
             "colorbar": {
              "outlinewidth": 0,
              "ticks": ""
             }
            },
            "type": "scattermapbox"
           }
          ],
          "scatterpolar": [
           {
            "marker": {
             "colorbar": {
              "outlinewidth": 0,
              "ticks": ""
             }
            },
            "type": "scatterpolar"
           }
          ],
          "scatterpolargl": [
           {
            "marker": {
             "colorbar": {
              "outlinewidth": 0,
              "ticks": ""
             }
            },
            "type": "scatterpolargl"
           }
          ],
          "scatterternary": [
           {
            "marker": {
             "colorbar": {
              "outlinewidth": 0,
              "ticks": ""
             }
            },
            "type": "scatterternary"
           }
          ],
          "surface": [
           {
            "colorbar": {
             "outlinewidth": 0,
             "ticks": ""
            },
            "colorscale": [
             [
              0,
              "#0d0887"
             ],
             [
              0.1111111111111111,
              "#46039f"
             ],
             [
              0.2222222222222222,
              "#7201a8"
             ],
             [
              0.3333333333333333,
              "#9c179e"
             ],
             [
              0.4444444444444444,
              "#bd3786"
             ],
             [
              0.5555555555555556,
              "#d8576b"
             ],
             [
              0.6666666666666666,
              "#ed7953"
             ],
             [
              0.7777777777777778,
              "#fb9f3a"
             ],
             [
              0.8888888888888888,
              "#fdca26"
             ],
             [
              1,
              "#f0f921"
             ]
            ],
            "type": "surface"
           }
          ],
          "table": [
           {
            "cells": {
             "fill": {
              "color": "#EBF0F8"
             },
             "line": {
              "color": "white"
             }
            },
            "header": {
             "fill": {
              "color": "#C8D4E3"
             },
             "line": {
              "color": "white"
             }
            },
            "type": "table"
           }
          ]
         },
         "layout": {
          "annotationdefaults": {
           "arrowcolor": "#2a3f5f",
           "arrowhead": 0,
           "arrowwidth": 1
          },
          "autotypenumbers": "strict",
          "coloraxis": {
           "colorbar": {
            "outlinewidth": 0,
            "ticks": ""
           }
          },
          "colorscale": {
           "diverging": [
            [
             0,
             "#8e0152"
            ],
            [
             0.1,
             "#c51b7d"
            ],
            [
             0.2,
             "#de77ae"
            ],
            [
             0.3,
             "#f1b6da"
            ],
            [
             0.4,
             "#fde0ef"
            ],
            [
             0.5,
             "#f7f7f7"
            ],
            [
             0.6,
             "#e6f5d0"
            ],
            [
             0.7,
             "#b8e186"
            ],
            [
             0.8,
             "#7fbc41"
            ],
            [
             0.9,
             "#4d9221"
            ],
            [
             1,
             "#276419"
            ]
           ],
           "sequential": [
            [
             0,
             "#0d0887"
            ],
            [
             0.1111111111111111,
             "#46039f"
            ],
            [
             0.2222222222222222,
             "#7201a8"
            ],
            [
             0.3333333333333333,
             "#9c179e"
            ],
            [
             0.4444444444444444,
             "#bd3786"
            ],
            [
             0.5555555555555556,
             "#d8576b"
            ],
            [
             0.6666666666666666,
             "#ed7953"
            ],
            [
             0.7777777777777778,
             "#fb9f3a"
            ],
            [
             0.8888888888888888,
             "#fdca26"
            ],
            [
             1,
             "#f0f921"
            ]
           ],
           "sequentialminus": [
            [
             0,
             "#0d0887"
            ],
            [
             0.1111111111111111,
             "#46039f"
            ],
            [
             0.2222222222222222,
             "#7201a8"
            ],
            [
             0.3333333333333333,
             "#9c179e"
            ],
            [
             0.4444444444444444,
             "#bd3786"
            ],
            [
             0.5555555555555556,
             "#d8576b"
            ],
            [
             0.6666666666666666,
             "#ed7953"
            ],
            [
             0.7777777777777778,
             "#fb9f3a"
            ],
            [
             0.8888888888888888,
             "#fdca26"
            ],
            [
             1,
             "#f0f921"
            ]
           ]
          },
          "colorway": [
           "#636efa",
           "#EF553B",
           "#00cc96",
           "#ab63fa",
           "#FFA15A",
           "#19d3f3",
           "#FF6692",
           "#B6E880",
           "#FF97FF",
           "#FECB52"
          ],
          "font": {
           "color": "#2a3f5f"
          },
          "geo": {
           "bgcolor": "white",
           "lakecolor": "white",
           "landcolor": "#E5ECF6",
           "showlakes": true,
           "showland": true,
           "subunitcolor": "white"
          },
          "hoverlabel": {
           "align": "left"
          },
          "hovermode": "closest",
          "mapbox": {
           "style": "light"
          },
          "paper_bgcolor": "white",
          "plot_bgcolor": "#E5ECF6",
          "polar": {
           "angularaxis": {
            "gridcolor": "white",
            "linecolor": "white",
            "ticks": ""
           },
           "bgcolor": "#E5ECF6",
           "radialaxis": {
            "gridcolor": "white",
            "linecolor": "white",
            "ticks": ""
           }
          },
          "scene": {
           "xaxis": {
            "backgroundcolor": "#E5ECF6",
            "gridcolor": "white",
            "gridwidth": 2,
            "linecolor": "white",
            "showbackground": true,
            "ticks": "",
            "zerolinecolor": "white"
           },
           "yaxis": {
            "backgroundcolor": "#E5ECF6",
            "gridcolor": "white",
            "gridwidth": 2,
            "linecolor": "white",
            "showbackground": true,
            "ticks": "",
            "zerolinecolor": "white"
           },
           "zaxis": {
            "backgroundcolor": "#E5ECF6",
            "gridcolor": "white",
            "gridwidth": 2,
            "linecolor": "white",
            "showbackground": true,
            "ticks": "",
            "zerolinecolor": "white"
           }
          },
          "shapedefaults": {
           "line": {
            "color": "#2a3f5f"
           }
          },
          "ternary": {
           "aaxis": {
            "gridcolor": "white",
            "linecolor": "white",
            "ticks": ""
           },
           "baxis": {
            "gridcolor": "white",
            "linecolor": "white",
            "ticks": ""
           },
           "bgcolor": "#E5ECF6",
           "caxis": {
            "gridcolor": "white",
            "linecolor": "white",
            "ticks": ""
           }
          },
          "title": {
           "x": 0.05
          },
          "xaxis": {
           "automargin": true,
           "gridcolor": "white",
           "linecolor": "white",
           "ticks": "",
           "title": {
            "standoff": 15
           },
           "zerolinecolor": "white",
           "zerolinewidth": 2
          },
          "yaxis": {
           "automargin": true,
           "gridcolor": "white",
           "linecolor": "white",
           "ticks": "",
           "title": {
            "standoff": 15
           },
           "zerolinecolor": "white",
           "zerolinewidth": 2
          }
         }
        },
        "width": 1300,
        "xaxis": {
         "anchor": "y",
         "constrain": "domain",
         "domain": [
          0,
          1
         ],
         "scaleanchor": "y"
        },
        "yaxis": {
         "anchor": "x",
         "autorange": "reversed",
         "constrain": "domain",
         "domain": [
          0,
          1
         ]
        }
       }
      },
      "text/html": [
       "<div>                            <div id=\"134071ec-0333-4dcf-a63a-aaa43240c9cf\" class=\"plotly-graph-div\" style=\"height:1300px; width:1300px;\"></div>            <script type=\"text/javascript\">                require([\"plotly\"], function(Plotly) {                    window.PLOTLYENV=window.PLOTLYENV || {};                                    if (document.getElementById(\"134071ec-0333-4dcf-a63a-aaa43240c9cf\")) {                    Plotly.newPlot(                        \"134071ec-0333-4dcf-a63a-aaa43240c9cf\",                        [{\"coloraxis\":\"coloraxis\",\"name\":\"0\",\"texttemplate\":\"%{z}\",\"x\":[\"Population\",\"Area (sq. mi.)\",\"Pop. Density (per sq. mi.)\",\"Coastline (coast\\u002farea ratio)\",\"Net migration\",\"Infant mortality (per 1000 births)\",\"GDP ($ per capita)\",\"Literacy (%)\",\"Phones (per 1000)\",\"Arable (%)\",\"Crops (%)\",\"Other (%)\",\"Climate\",\"Birthrate\",\"Deathrate\",\"Agriculture\",\"Industry\",\"Service\"],\"y\":[\"Population\",\"Area (sq. mi.)\",\"Pop. Density (per sq. mi.)\",\"Coastline (coast\\u002farea ratio)\",\"Net migration\",\"Infant mortality (per 1000 births)\",\"GDP ($ per capita)\",\"Literacy (%)\",\"Phones (per 1000)\",\"Arable (%)\",\"Crops (%)\",\"Other (%)\",\"Climate\",\"Birthrate\",\"Deathrate\",\"Agriculture\",\"Industry\",\"Service\"],\"z\":[[1.0,0.46998508371848186,-0.02819047419507408,-0.06819893686118715,0.00012197596119944466,0.02448832345067717,-0.038914573702449155,-0.05160995990263664,-0.029234656823301904,0.18833658300565578,-0.059617400727107535,-0.12111786823613734,-0.02978313000564158,-0.044150814747904804,-0.025973618067412083,0.004866616998047224,0.10573248021851495,-0.08735604396272696],[0.46998508371848186,1.0,-0.06691699842088768,-0.09562748502395603,0.047537093562062795,-0.0051200118584673595,0.07246003726768048,0.025953873181093053,0.05502620046304673,-0.0792704364752415,-0.14223358854725457,0.13795574931106175,-0.06745454122606503,-0.06482194268884643,0.04241763738258006,-0.04882070193079003,0.12740083566882665,-0.057226990321064396],[-0.02819047419507408,-0.06691699842088768,1.0,0.24168951946874723,0.1780884754085168,-0.14274131006126678,0.19606284042244132,0.09848749919998952,0.2808184638635084,-0.08085709330119265,-0.03245954623232804,0.0820655984506061,0.06945495534425557,-0.15790917317967582,-0.06791037155844548,-0.1102353588663079,-0.11673409131600326,0.2292227654182715],[-0.06819893686118715,-0.09562748502395603,0.24168951946874723,1.0,-0.1339469553645472,-0.13822297259781743,0.04956115858498951,0.1331122337640817,0.1532037843715537,-0.12076010066943359,0.3388885666467854,-0.07831159747253688,-0.002934635583532357,-0.07402133702384993,-0.16270469271148877,-0.03630098670039027,-0.21481869606240336,0.21020056612490498],[0.00012197596119944466,0.047537093562062795,0.1780884754085168,-0.1339469553645472,1.0,-0.024875560972641746,0.38202859162572833,-0.015620274143781934,0.23915980473808038,-0.05933377087498091,-0.3443374400473231,0.22574004695330868,0.026244505317197894,-0.06494675796874397,0.0335754372660692,-0.10710548179087483,-0.019155804410756618,0.11010301801711832],[0.02448832345067717,-0.0051200118584673595,-0.14274131006126678,-0.13822297259781743,-0.024875560972641746,1.0,-0.5954315328601326,-0.7587023384256675,-0.6666993069987005,-0.1136074096716378,-0.07019668625236594,0.1280633960184025,-0.37216476960700556,0.8444416698563232,0.6558907145617281,0.7067340427664893,0.028858762534378444,-0.6400071853964491],[-0.038914573702449155,0.07246003726768048,0.19606284042244132,0.04956115858498951,0.38202859162572833,-0.5954315328601326,1.0,0.5088387202481168,0.8323640369760106,0.023936588770589955,-0.2180934624402418,0.09373711796858653,0.3691295162261547,-0.6431988198383183,-0.1963216846805327,-0.5859866916174662,-0.034992579754979485,0.5539942592780367],[-0.05160995990263664,0.025953873181093053,0.09848749919998952,0.1331122337640817,-0.015620274143781934,-0.7587023384256675,0.5088387202481168,1.0,0.5874403038797763,0.08526860241593506,0.03837191972022937,-0.08852159664505015,0.4172137736135398,-0.7769463078530835,-0.3767563816237851,-0.5940623097499179,0.019528275420228232,0.5056183969460392],[-0.029234656823301904,0.05502620046304673,0.2808184638635084,0.1532037843715537,0.23915980473808038,-0.6666993069987005,0.8323640369760106,0.5874403038797763,1.0,0.06885311877586564,-0.15069975618986883,0.022292569160530414,0.42870151495907743,-0.7210986128209224,-0.2530331017606004,-0.5994050402040635,-0.15817790401433643,0.670933129719948],[0.18833658300565578,-0.0792704364752415,-0.08085709330119265,-0.12076010066943359,-0.05933377087498091,-0.1136074096716378,0.023936588770589955,0.08526860241593506,0.06885311877586564,1.0,0.09461443626387897,-0.8567696328212391,0.373295962105353,-0.19509970897741782,0.06015312998444192,-0.023226789461919372,-0.048443523488854896,0.06655013854324812],[-0.059617400727107535,-0.14223358854725457,-0.03245954623232804,0.3388885666467854,-0.3443374400473231,-0.07019668625236594,-0.2180934624402418,0.03837191972022937,-0.15069975618986883,0.09461443626387897,1.0,-0.594412848935981,-0.016145974074861645,0.11774380837154438,-0.20942516637782826,0.06281505233275377,-0.11890030630720658,0.042806173794516525],[-0.12111786823613734,0.13795574931106175,0.0820655984506061,-0.07831159747253688,0.22574004695330868,0.1280633960184025,0.09373711796858653,-0.08852159664505015,0.022292569160530414,-0.8567696328212391,-0.594412848935981,1.0,-0.29329294284339064,0.09616844449741471,0.06005793513890404,-0.013929943874448396,0.10113459421653966,-0.07597040040990245],[-0.02978313000564158,-0.06745454122606503,0.06945495534425557,-0.002934635583532357,0.026244505317197894,-0.37216476960700556,0.3691295162261547,0.4172137736135398,0.42870151495907743,0.373295962105353,-0.016145974074861645,-0.29329294284339064,1.0,-0.47317573581665684,0.04738536169644283,-0.21266688842755005,-0.10454358931641788,0.28441929139709005],[-0.044150814747904804,-0.06482194268884643,-0.15790917317967582,-0.07402133702384993,-0.06494675796874397,0.8444416698563232,-0.6431988198383183,-0.7769463078530835,-0.7210986128209224,-0.19509970897741782,0.11774380837154438,0.09616844449741471,-0.47317573581665684,1.0,0.39189260036025214,0.6760236739747743,-0.045458928881057306,-0.5612259107953175],[-0.025973618067412083,0.04241763738258006,-0.06791037155844548,-0.16270469271148877,0.0335754372660692,0.6558907145617281,-0.1963216846805327,-0.3767563816237851,-0.2530331017606004,0.06015312998444192,-0.20942516637782826,0.06005793513890404,0.04738536169644283,0.39189260036025214,1.0,0.3767605130889807,0.05055604953395608,-0.3560142287835583],[0.004866616998047224,-0.04882070193079003,-0.1102353588663079,-0.03630098670039027,-0.10710548179087483,0.7067340427664893,-0.5859866916174662,-0.5940623097499179,-0.5994050402040635,-0.023226789461919372,0.06281505233275377,-0.013929943874448396,-0.21266688842755005,0.6760236739747743,0.3767605130889807,1.0,-0.3101394066615926,-0.6228512232753625],[0.10573248021851495,0.12740083566882665,-0.11673409131600326,-0.21481869606240336,-0.019155804410756618,0.028858762534378444,-0.034992579754979485,0.019528275420228232,-0.15817790401433643,-0.048443523488854896,-0.11890030630720658,0.10113459421653966,-0.10454358931641788,-0.045458928881057306,0.05055604953395608,-0.3101394066615926,1.0,-0.544294580882851],[-0.08735604396272696,-0.057226990321064396,0.2292227654182715,0.21020056612490498,0.11010301801711832,-0.6400071853964491,0.5539942592780367,0.5056183969460392,0.670933129719948,0.06655013854324812,0.042806173794516525,-0.07597040040990245,0.28441929139709005,-0.5612259107953175,-0.3560142287835583,-0.6228512232753625,-0.544294580882851,1.0]],\"type\":\"heatmap\",\"xaxis\":\"x\",\"yaxis\":\"y\",\"hovertemplate\":\"x: %{x}\\u003cbr\\u003ey: %{y}\\u003cbr\\u003ecolor: %{z}\\u003cextra\\u003e\\u003c\\u002fextra\\u003e\"}],                        {\"template\":{\"data\":{\"histogram2dcontour\":[{\"type\":\"histogram2dcontour\",\"colorbar\":{\"outlinewidth\":0,\"ticks\":\"\"},\"colorscale\":[[0.0,\"#0d0887\"],[0.1111111111111111,\"#46039f\"],[0.2222222222222222,\"#7201a8\"],[0.3333333333333333,\"#9c179e\"],[0.4444444444444444,\"#bd3786\"],[0.5555555555555556,\"#d8576b\"],[0.6666666666666666,\"#ed7953\"],[0.7777777777777778,\"#fb9f3a\"],[0.8888888888888888,\"#fdca26\"],[1.0,\"#f0f921\"]]}],\"choropleth\":[{\"type\":\"choropleth\",\"colorbar\":{\"outlinewidth\":0,\"ticks\":\"\"}}],\"histogram2d\":[{\"type\":\"histogram2d\",\"colorbar\":{\"outlinewidth\":0,\"ticks\":\"\"},\"colorscale\":[[0.0,\"#0d0887\"],[0.1111111111111111,\"#46039f\"],[0.2222222222222222,\"#7201a8\"],[0.3333333333333333,\"#9c179e\"],[0.4444444444444444,\"#bd3786\"],[0.5555555555555556,\"#d8576b\"],[0.6666666666666666,\"#ed7953\"],[0.7777777777777778,\"#fb9f3a\"],[0.8888888888888888,\"#fdca26\"],[1.0,\"#f0f921\"]]}],\"heatmap\":[{\"type\":\"heatmap\",\"colorbar\":{\"outlinewidth\":0,\"ticks\":\"\"},\"colorscale\":[[0.0,\"#0d0887\"],[0.1111111111111111,\"#46039f\"],[0.2222222222222222,\"#7201a8\"],[0.3333333333333333,\"#9c179e\"],[0.4444444444444444,\"#bd3786\"],[0.5555555555555556,\"#d8576b\"],[0.6666666666666666,\"#ed7953\"],[0.7777777777777778,\"#fb9f3a\"],[0.8888888888888888,\"#fdca26\"],[1.0,\"#f0f921\"]]}],\"heatmapgl\":[{\"type\":\"heatmapgl\",\"colorbar\":{\"outlinewidth\":0,\"ticks\":\"\"},\"colorscale\":[[0.0,\"#0d0887\"],[0.1111111111111111,\"#46039f\"],[0.2222222222222222,\"#7201a8\"],[0.3333333333333333,\"#9c179e\"],[0.4444444444444444,\"#bd3786\"],[0.5555555555555556,\"#d8576b\"],[0.6666666666666666,\"#ed7953\"],[0.7777777777777778,\"#fb9f3a\"],[0.8888888888888888,\"#fdca26\"],[1.0,\"#f0f921\"]]}],\"contourcarpet\":[{\"type\":\"contourcarpet\",\"colorbar\":{\"outlinewidth\":0,\"ticks\":\"\"}}],\"contour\":[{\"type\":\"contour\",\"colorbar\":{\"outlinewidth\":0,\"ticks\":\"\"},\"colorscale\":[[0.0,\"#0d0887\"],[0.1111111111111111,\"#46039f\"],[0.2222222222222222,\"#7201a8\"],[0.3333333333333333,\"#9c179e\"],[0.4444444444444444,\"#bd3786\"],[0.5555555555555556,\"#d8576b\"],[0.6666666666666666,\"#ed7953\"],[0.7777777777777778,\"#fb9f3a\"],[0.8888888888888888,\"#fdca26\"],[1.0,\"#f0f921\"]]}],\"surface\":[{\"type\":\"surface\",\"colorbar\":{\"outlinewidth\":0,\"ticks\":\"\"},\"colorscale\":[[0.0,\"#0d0887\"],[0.1111111111111111,\"#46039f\"],[0.2222222222222222,\"#7201a8\"],[0.3333333333333333,\"#9c179e\"],[0.4444444444444444,\"#bd3786\"],[0.5555555555555556,\"#d8576b\"],[0.6666666666666666,\"#ed7953\"],[0.7777777777777778,\"#fb9f3a\"],[0.8888888888888888,\"#fdca26\"],[1.0,\"#f0f921\"]]}],\"mesh3d\":[{\"type\":\"mesh3d\",\"colorbar\":{\"outlinewidth\":0,\"ticks\":\"\"}}],\"scatter\":[{\"fillpattern\":{\"fillmode\":\"overlay\",\"size\":10,\"solidity\":0.2},\"type\":\"scatter\"}],\"parcoords\":[{\"type\":\"parcoords\",\"line\":{\"colorbar\":{\"outlinewidth\":0,\"ticks\":\"\"}}}],\"scatterpolargl\":[{\"type\":\"scatterpolargl\",\"marker\":{\"colorbar\":{\"outlinewidth\":0,\"ticks\":\"\"}}}],\"bar\":[{\"error_x\":{\"color\":\"#2a3f5f\"},\"error_y\":{\"color\":\"#2a3f5f\"},\"marker\":{\"line\":{\"color\":\"#E5ECF6\",\"width\":0.5},\"pattern\":{\"fillmode\":\"overlay\",\"size\":10,\"solidity\":0.2}},\"type\":\"bar\"}],\"scattergeo\":[{\"type\":\"scattergeo\",\"marker\":{\"colorbar\":{\"outlinewidth\":0,\"ticks\":\"\"}}}],\"scatterpolar\":[{\"type\":\"scatterpolar\",\"marker\":{\"colorbar\":{\"outlinewidth\":0,\"ticks\":\"\"}}}],\"histogram\":[{\"marker\":{\"pattern\":{\"fillmode\":\"overlay\",\"size\":10,\"solidity\":0.2}},\"type\":\"histogram\"}],\"scattergl\":[{\"type\":\"scattergl\",\"marker\":{\"colorbar\":{\"outlinewidth\":0,\"ticks\":\"\"}}}],\"scatter3d\":[{\"type\":\"scatter3d\",\"line\":{\"colorbar\":{\"outlinewidth\":0,\"ticks\":\"\"}},\"marker\":{\"colorbar\":{\"outlinewidth\":0,\"ticks\":\"\"}}}],\"scattermapbox\":[{\"type\":\"scattermapbox\",\"marker\":{\"colorbar\":{\"outlinewidth\":0,\"ticks\":\"\"}}}],\"scatterternary\":[{\"type\":\"scatterternary\",\"marker\":{\"colorbar\":{\"outlinewidth\":0,\"ticks\":\"\"}}}],\"scattercarpet\":[{\"type\":\"scattercarpet\",\"marker\":{\"colorbar\":{\"outlinewidth\":0,\"ticks\":\"\"}}}],\"carpet\":[{\"aaxis\":{\"endlinecolor\":\"#2a3f5f\",\"gridcolor\":\"white\",\"linecolor\":\"white\",\"minorgridcolor\":\"white\",\"startlinecolor\":\"#2a3f5f\"},\"baxis\":{\"endlinecolor\":\"#2a3f5f\",\"gridcolor\":\"white\",\"linecolor\":\"white\",\"minorgridcolor\":\"white\",\"startlinecolor\":\"#2a3f5f\"},\"type\":\"carpet\"}],\"table\":[{\"cells\":{\"fill\":{\"color\":\"#EBF0F8\"},\"line\":{\"color\":\"white\"}},\"header\":{\"fill\":{\"color\":\"#C8D4E3\"},\"line\":{\"color\":\"white\"}},\"type\":\"table\"}],\"barpolar\":[{\"marker\":{\"line\":{\"color\":\"#E5ECF6\",\"width\":0.5},\"pattern\":{\"fillmode\":\"overlay\",\"size\":10,\"solidity\":0.2}},\"type\":\"barpolar\"}],\"pie\":[{\"automargin\":true,\"type\":\"pie\"}]},\"layout\":{\"autotypenumbers\":\"strict\",\"colorway\":[\"#636efa\",\"#EF553B\",\"#00cc96\",\"#ab63fa\",\"#FFA15A\",\"#19d3f3\",\"#FF6692\",\"#B6E880\",\"#FF97FF\",\"#FECB52\"],\"font\":{\"color\":\"#2a3f5f\"},\"hovermode\":\"closest\",\"hoverlabel\":{\"align\":\"left\"},\"paper_bgcolor\":\"white\",\"plot_bgcolor\":\"#E5ECF6\",\"polar\":{\"bgcolor\":\"#E5ECF6\",\"angularaxis\":{\"gridcolor\":\"white\",\"linecolor\":\"white\",\"ticks\":\"\"},\"radialaxis\":{\"gridcolor\":\"white\",\"linecolor\":\"white\",\"ticks\":\"\"}},\"ternary\":{\"bgcolor\":\"#E5ECF6\",\"aaxis\":{\"gridcolor\":\"white\",\"linecolor\":\"white\",\"ticks\":\"\"},\"baxis\":{\"gridcolor\":\"white\",\"linecolor\":\"white\",\"ticks\":\"\"},\"caxis\":{\"gridcolor\":\"white\",\"linecolor\":\"white\",\"ticks\":\"\"}},\"coloraxis\":{\"colorbar\":{\"outlinewidth\":0,\"ticks\":\"\"}},\"colorscale\":{\"sequential\":[[0.0,\"#0d0887\"],[0.1111111111111111,\"#46039f\"],[0.2222222222222222,\"#7201a8\"],[0.3333333333333333,\"#9c179e\"],[0.4444444444444444,\"#bd3786\"],[0.5555555555555556,\"#d8576b\"],[0.6666666666666666,\"#ed7953\"],[0.7777777777777778,\"#fb9f3a\"],[0.8888888888888888,\"#fdca26\"],[1.0,\"#f0f921\"]],\"sequentialminus\":[[0.0,\"#0d0887\"],[0.1111111111111111,\"#46039f\"],[0.2222222222222222,\"#7201a8\"],[0.3333333333333333,\"#9c179e\"],[0.4444444444444444,\"#bd3786\"],[0.5555555555555556,\"#d8576b\"],[0.6666666666666666,\"#ed7953\"],[0.7777777777777778,\"#fb9f3a\"],[0.8888888888888888,\"#fdca26\"],[1.0,\"#f0f921\"]],\"diverging\":[[0,\"#8e0152\"],[0.1,\"#c51b7d\"],[0.2,\"#de77ae\"],[0.3,\"#f1b6da\"],[0.4,\"#fde0ef\"],[0.5,\"#f7f7f7\"],[0.6,\"#e6f5d0\"],[0.7,\"#b8e186\"],[0.8,\"#7fbc41\"],[0.9,\"#4d9221\"],[1,\"#276419\"]]},\"xaxis\":{\"gridcolor\":\"white\",\"linecolor\":\"white\",\"ticks\":\"\",\"title\":{\"standoff\":15},\"zerolinecolor\":\"white\",\"automargin\":true,\"zerolinewidth\":2},\"yaxis\":{\"gridcolor\":\"white\",\"linecolor\":\"white\",\"ticks\":\"\",\"title\":{\"standoff\":15},\"zerolinecolor\":\"white\",\"automargin\":true,\"zerolinewidth\":2},\"scene\":{\"xaxis\":{\"backgroundcolor\":\"#E5ECF6\",\"gridcolor\":\"white\",\"linecolor\":\"white\",\"showbackground\":true,\"ticks\":\"\",\"zerolinecolor\":\"white\",\"gridwidth\":2},\"yaxis\":{\"backgroundcolor\":\"#E5ECF6\",\"gridcolor\":\"white\",\"linecolor\":\"white\",\"showbackground\":true,\"ticks\":\"\",\"zerolinecolor\":\"white\",\"gridwidth\":2},\"zaxis\":{\"backgroundcolor\":\"#E5ECF6\",\"gridcolor\":\"white\",\"linecolor\":\"white\",\"showbackground\":true,\"ticks\":\"\",\"zerolinecolor\":\"white\",\"gridwidth\":2}},\"shapedefaults\":{\"line\":{\"color\":\"#2a3f5f\"}},\"annotationdefaults\":{\"arrowcolor\":\"#2a3f5f\",\"arrowhead\":0,\"arrowwidth\":1},\"geo\":{\"bgcolor\":\"white\",\"landcolor\":\"#E5ECF6\",\"subunitcolor\":\"white\",\"showland\":true,\"showlakes\":true,\"lakecolor\":\"white\"},\"title\":{\"x\":0.05},\"mapbox\":{\"style\":\"light\"}}},\"xaxis\":{\"anchor\":\"y\",\"domain\":[0.0,1.0],\"scaleanchor\":\"y\",\"constrain\":\"domain\"},\"yaxis\":{\"anchor\":\"x\",\"domain\":[0.0,1.0],\"autorange\":\"reversed\",\"constrain\":\"domain\"},\"coloraxis\":{\"colorscale\":[[0.0,\"#0d0887\"],[0.1111111111111111,\"#46039f\"],[0.2222222222222222,\"#7201a8\"],[0.3333333333333333,\"#9c179e\"],[0.4444444444444444,\"#bd3786\"],[0.5555555555555556,\"#d8576b\"],[0.6666666666666666,\"#ed7953\"],[0.7777777777777778,\"#fb9f3a\"],[0.8888888888888888,\"#fdca26\"],[1.0,\"#f0f921\"]]},\"margin\":{\"t\":60},\"height\":1300,\"width\":1300},                        {\"responsive\": true}                    ).then(function(){\n",
       "                            \n",
       "var gd = document.getElementById('134071ec-0333-4dcf-a63a-aaa43240c9cf');\n",
       "var x = new MutationObserver(function (mutations, observer) {{\n",
       "        var display = window.getComputedStyle(gd).display;\n",
       "        if (!display || display === 'none') {{\n",
       "            console.log([gd, 'removed!']);\n",
       "            Plotly.purge(gd);\n",
       "            observer.disconnect();\n",
       "        }}\n",
       "}});\n",
       "\n",
       "// Listen for the removal of the full notebook cells\n",
       "var notebookContainer = gd.closest('#notebook-container');\n",
       "if (notebookContainer) {{\n",
       "    x.observe(notebookContainer, {childList: true});\n",
       "}}\n",
       "\n",
       "// Listen for the clearing of the current output cell\n",
       "var outputEl = gd.closest('.output');\n",
       "if (outputEl) {{\n",
       "    x.observe(outputEl, {childList: true});\n",
       "}}\n",
       "\n",
       "                        })                };                });            </script>        </div>"
      ]
     },
     "metadata": {},
     "output_type": "display_data"
    }
   ],
   "source": [
    "# Heatmap\n",
    "\n",
    "import plotly_express as px\n",
    "\n",
    "corr = graph_data[graph_data.columns.values[2:]].corr() # we only want to take the columns that have numerical data, so we leave out the country and region columns\n",
    "fig= px.imshow(corr, text_auto=True, width=1300, height=1300)\n",
    "fig.show()"
   ]
  },
  {
   "cell_type": "markdown",
   "id": "33cf0705",
   "metadata": {},
   "source": [
    "### Scatterplots"
   ]
  },
  {
   "cell_type": "markdown",
   "id": "bcbda942",
   "metadata": {},
   "source": [
    "Below is a scatterplot of Phones (per 1000) vs GDP ($ per capita). We can see that the relationship between the two variables is somewhat logarithmic. "
   ]
  },
  {
   "cell_type": "code",
   "execution_count": 31,
   "id": "b7b24241",
   "metadata": {},
   "outputs": [
    {
     "data": {
      "application/vnd.plotly.v1+json": {
       "config": {
        "plotlyServerURL": "https://plot.ly"
       },
       "data": [
        {
         "customdata": [
          [
           "Afghanistan "
          ],
          [
           "Albania "
          ],
          [
           "Algeria "
          ],
          [
           "American Samoa "
          ],
          [
           "Andorra "
          ],
          [
           "Angola "
          ],
          [
           "Anguilla "
          ],
          [
           "Antigua & Barbuda "
          ],
          [
           "Argentina "
          ],
          [
           "Armenia "
          ],
          [
           "Aruba "
          ],
          [
           "Australia "
          ],
          [
           "Austria "
          ],
          [
           "Azerbaijan "
          ],
          [
           "Bahamas, The "
          ],
          [
           "Bahrain "
          ],
          [
           "Bangladesh "
          ],
          [
           "Barbados "
          ],
          [
           "Belarus "
          ],
          [
           "Belgium "
          ],
          [
           "Belize "
          ],
          [
           "Benin "
          ],
          [
           "Bermuda "
          ],
          [
           "Bhutan "
          ],
          [
           "Bolivia "
          ],
          [
           "Bosnia & Herzegovina "
          ],
          [
           "Botswana "
          ],
          [
           "Brazil "
          ],
          [
           "British Virgin Is. "
          ],
          [
           "Brunei "
          ],
          [
           "Bulgaria "
          ],
          [
           "Burkina Faso "
          ],
          [
           "Burma "
          ],
          [
           "Burundi "
          ],
          [
           "Cambodia "
          ],
          [
           "Cameroon "
          ],
          [
           "Canada "
          ],
          [
           "Cape Verde "
          ],
          [
           "Cayman Islands "
          ],
          [
           "Central African Rep. "
          ],
          [
           "Chad "
          ],
          [
           "Chile "
          ],
          [
           "China "
          ],
          [
           "Colombia "
          ],
          [
           "Comoros "
          ],
          [
           "Congo, Dem. Rep. "
          ],
          [
           "Congo, Repub. of the "
          ],
          [
           "Cook Islands "
          ],
          [
           "Costa Rica "
          ],
          [
           "Cote d'Ivoire "
          ],
          [
           "Croatia "
          ],
          [
           "Cuba "
          ],
          [
           "Cyprus "
          ],
          [
           "Czech Republic "
          ],
          [
           "Denmark "
          ],
          [
           "Djibouti "
          ],
          [
           "Dominica "
          ],
          [
           "Dominican Republic "
          ],
          [
           "East Timor "
          ],
          [
           "Ecuador "
          ],
          [
           "Egypt "
          ],
          [
           "El Salvador "
          ],
          [
           "Equatorial Guinea "
          ],
          [
           "Eritrea "
          ],
          [
           "Estonia "
          ],
          [
           "Ethiopia "
          ],
          [
           "Faroe Islands "
          ],
          [
           "Fiji "
          ],
          [
           "Finland "
          ],
          [
           "France "
          ],
          [
           "French Guiana "
          ],
          [
           "French Polynesia "
          ],
          [
           "Gabon "
          ],
          [
           "Gambia, The "
          ],
          [
           "Gaza Strip "
          ],
          [
           "Georgia "
          ],
          [
           "Germany "
          ],
          [
           "Ghana "
          ],
          [
           "Gibraltar "
          ],
          [
           "Greece "
          ],
          [
           "Greenland "
          ],
          [
           "Grenada "
          ],
          [
           "Guadeloupe "
          ],
          [
           "Guam "
          ],
          [
           "Guatemala "
          ],
          [
           "Guernsey "
          ],
          [
           "Guinea "
          ],
          [
           "Guinea-Bissau "
          ],
          [
           "Guyana "
          ],
          [
           "Haiti "
          ],
          [
           "Honduras "
          ],
          [
           "Hong Kong "
          ],
          [
           "Hungary "
          ],
          [
           "Iceland "
          ],
          [
           "India "
          ],
          [
           "Indonesia "
          ],
          [
           "Iran "
          ],
          [
           "Iraq "
          ],
          [
           "Ireland "
          ],
          [
           "Isle of Man "
          ],
          [
           "Israel "
          ],
          [
           "Italy "
          ],
          [
           "Jamaica "
          ],
          [
           "Japan "
          ],
          [
           "Jersey "
          ],
          [
           "Jordan "
          ],
          [
           "Kazakhstan "
          ],
          [
           "Kenya "
          ],
          [
           "Kiribati "
          ],
          [
           "Korea, North "
          ],
          [
           "Korea, South "
          ],
          [
           "Kuwait "
          ],
          [
           "Kyrgyzstan "
          ],
          [
           "Laos "
          ],
          [
           "Latvia "
          ],
          [
           "Lebanon "
          ],
          [
           "Lesotho "
          ],
          [
           "Liberia "
          ],
          [
           "Libya "
          ],
          [
           "Liechtenstein "
          ],
          [
           "Lithuania "
          ],
          [
           "Luxembourg "
          ],
          [
           "Macau "
          ],
          [
           "Macedonia "
          ],
          [
           "Madagascar "
          ],
          [
           "Malawi "
          ],
          [
           "Malaysia "
          ],
          [
           "Maldives "
          ],
          [
           "Mali "
          ],
          [
           "Malta "
          ],
          [
           "Marshall Islands "
          ],
          [
           "Martinique "
          ],
          [
           "Mauritania "
          ],
          [
           "Mauritius "
          ],
          [
           "Mayotte "
          ],
          [
           "Mexico "
          ],
          [
           "Micronesia, Fed. St. "
          ],
          [
           "Moldova "
          ],
          [
           "Monaco "
          ],
          [
           "Mongolia "
          ],
          [
           "Montserrat "
          ],
          [
           "Morocco "
          ],
          [
           "Mozambique "
          ],
          [
           "Namibia "
          ],
          [
           "Nauru "
          ],
          [
           "Nepal "
          ],
          [
           "Netherlands "
          ],
          [
           "Netherlands Antilles "
          ],
          [
           "New Caledonia "
          ],
          [
           "New Zealand "
          ],
          [
           "Nicaragua "
          ],
          [
           "Niger "
          ],
          [
           "Nigeria "
          ],
          [
           "N. Mariana Islands "
          ],
          [
           "Norway "
          ],
          [
           "Oman "
          ],
          [
           "Pakistan "
          ],
          [
           "Palau "
          ],
          [
           "Panama "
          ],
          [
           "Papua New Guinea "
          ],
          [
           "Paraguay "
          ],
          [
           "Peru "
          ],
          [
           "Philippines "
          ],
          [
           "Poland "
          ],
          [
           "Portugal "
          ],
          [
           "Puerto Rico "
          ],
          [
           "Qatar "
          ],
          [
           "Reunion "
          ],
          [
           "Romania "
          ],
          [
           "Russia "
          ],
          [
           "Rwanda "
          ],
          [
           "Saint Helena "
          ],
          [
           "Saint Kitts & Nevis "
          ],
          [
           "Saint Lucia "
          ],
          [
           "St Pierre & Miquelon "
          ],
          [
           "Saint Vincent and the Grenadines "
          ],
          [
           "Samoa "
          ],
          [
           "San Marino "
          ],
          [
           "Sao Tome & Principe "
          ],
          [
           "Saudi Arabia "
          ],
          [
           "Senegal "
          ],
          [
           "Serbia "
          ],
          [
           "Seychelles "
          ],
          [
           "Sierra Leone "
          ],
          [
           "Singapore "
          ],
          [
           "Slovakia "
          ],
          [
           "Slovenia "
          ],
          [
           "Solomon Islands "
          ],
          [
           "Somalia "
          ],
          [
           "South Africa "
          ],
          [
           "Spain "
          ],
          [
           "Sri Lanka "
          ],
          [
           "Sudan "
          ],
          [
           "Suriname "
          ],
          [
           "Swaziland "
          ],
          [
           "Sweden "
          ],
          [
           "Switzerland "
          ],
          [
           "Syria "
          ],
          [
           "Taiwan "
          ],
          [
           "Tajikistan "
          ],
          [
           "Tanzania "
          ],
          [
           "Thailand "
          ],
          [
           "Togo "
          ],
          [
           "Tonga "
          ],
          [
           "Trinidad & Tobago "
          ],
          [
           "Tunisia "
          ],
          [
           "Turkey "
          ],
          [
           "Turkmenistan "
          ],
          [
           "Turks & Caicos Is "
          ],
          [
           "Tuvalu "
          ],
          [
           "Uganda "
          ],
          [
           "Ukraine "
          ],
          [
           "United Arab Emirates "
          ],
          [
           "United Kingdom "
          ],
          [
           "United States "
          ],
          [
           "Uruguay "
          ],
          [
           "Uzbekistan "
          ],
          [
           "Vanuatu "
          ],
          [
           "Venezuela "
          ],
          [
           "Vietnam "
          ],
          [
           "Virgin Islands "
          ],
          [
           "Wallis and Futuna "
          ],
          [
           "West Bank "
          ],
          [
           "Western Sahara "
          ],
          [
           "Yemen "
          ],
          [
           "Zambia "
          ],
          [
           "Zimbabwe "
          ]
         ],
         "hovertemplate": "GDP ($ per capita)=%{x}<br>Phones (per 1000)=%{y}<br>Country=%{customdata[0]}<extra></extra>",
         "legendgroup": "",
         "marker": {
          "color": "#636efa",
          "symbol": "circle"
         },
         "mode": "markers",
         "name": "",
         "orientation": "v",
         "showlegend": false,
         "type": "scatter",
         "x": [
          700,
          4500,
          6000,
          8000,
          19000,
          1900,
          8600,
          11000,
          11200,
          3500,
          28000,
          29000,
          30000,
          3400,
          16700,
          16900,
          1900,
          15700,
          6100,
          29100,
          4900,
          1100,
          36000,
          1300,
          2400,
          6100,
          9000,
          7600,
          16000,
          18600,
          7600,
          1100,
          1800,
          600,
          1900,
          1800,
          29800,
          1400,
          35000,
          1100,
          1200,
          9900,
          5000,
          6300,
          700,
          700,
          700,
          5000,
          9100,
          1400,
          10600,
          2900,
          19200,
          15700,
          31100,
          1300,
          5400,
          6000,
          500,
          3300,
          4000,
          4800,
          2700,
          700,
          12300,
          700,
          22000,
          5800,
          27400,
          27600,
          8300,
          17500,
          5500,
          1700,
          600,
          2500,
          27600,
          2200,
          17500,
          20000,
          20000,
          5000,
          8000,
          21000,
          4100,
          20000,
          2100,
          800,
          4000,
          1600,
          2600,
          28800,
          13900,
          30900,
          2900,
          3200,
          7000,
          1500,
          29600,
          21000,
          19800,
          26700,
          3900,
          28200,
          24800,
          4300,
          6300,
          1000,
          800,
          1300,
          17800,
          19000,
          1600,
          1700,
          10200,
          4800,
          3000,
          1000,
          6400,
          25000,
          11400,
          55100,
          19400,
          6700,
          800,
          600,
          9000,
          3900,
          900,
          17700,
          1600,
          14400,
          1800,
          11400,
          2600,
          9000,
          2000,
          1800,
          27000,
          1800,
          3400,
          4000,
          1200,
          7200,
          5000,
          1400,
          28600,
          11400,
          15000,
          21600,
          2300,
          800,
          900,
          12500,
          37800,
          13100,
          2100,
          9000,
          6300,
          2200,
          4700,
          5100,
          4600,
          11100,
          18000,
          16800,
          21500,
          5800,
          7000,
          8900,
          1300,
          2500,
          8800,
          5400,
          6900,
          2900,
          5600,
          34600,
          1200,
          11800,
          1600,
          2200,
          7800,
          500,
          23700,
          13300,
          19000,
          1700,
          500,
          10700,
          22000,
          3700,
          1900,
          4000,
          4900,
          26800,
          32700,
          3300,
          23400,
          1000,
          600,
          7400,
          1500,
          2200,
          9500,
          6900,
          6700,
          5800,
          9600,
          1100,
          1400,
          5400,
          23200,
          27700,
          37800,
          12800,
          1700,
          2900,
          4800,
          2500,
          17200,
          3700,
          800,
          6000,
          800,
          800,
          1900
         ],
         "xaxis": "x",
         "y": [
          3.2,
          71.2,
          78.1,
          259.5,
          497.2,
          7.8,
          460,
          549.9,
          220.4,
          195.7,
          516.1,
          565.5,
          452.2,
          137.1,
          460.6,
          281.3,
          7.3,
          481.9,
          319.1,
          462.6,
          115.7,
          9.7,
          851.4,
          14.3,
          71.9,
          215.4,
          80.5,
          225.3,
          506.5,
          237.2,
          336.3,
          7,
          10.1,
          3.4,
          2.6,
          5.7,
          552.2,
          169.6,
          836.3,
          2.3,
          1.3,
          213,
          266.7,
          176.2,
          24.5,
          0.2,
          3.7,
          289.9,
          340.7,
          14.6,
          420.4,
          74.7,
          211,
          314.3,
          614.6,
          22.8,
          304.8,
          97.4,
          61.5,
          125.6,
          131.8,
          142.4,
          18.5,
          7.9,
          333.8,
          8.2,
          503.8,
          112.6,
          405.3,
          586.4,
          255.6,
          194.5,
          27.4,
          26.8,
          244.3,
          146.6,
          667.9,
          14.4,
          877.7,
          589.7,
          448.9,
          364.5,
          463.8,
          492,
          92.1,
          842.4,
          2.7,
          7.4,
          143.5,
          16.9,
          67.5,
          546.7,
          336.2,
          647.7,
          45.4,
          52,
          276.4,
          38.6,
          500.5,
          676,
          462.3,
          430.9,
          124,
          461.2,
          811.3,
          104.5,
          164.1,
          8.1,
          42.7,
          42.4,
          486.1,
          211,
          84,
          14.1,
          321.4,
          255.6,
          23.7,
          2.3,
          127.1,
          585.5,
          223.4,
          515.4,
          384.9,
          260,
          3.6,
          7.9,
          179,
          90,
          6.4,
          505,
          91.2,
          394.4,
          12.9,
          289.3,
          49.7,
          181.6,
          114.8,
          208.1,
          1035.6,
          55.1,
          222.85000000000002,
          40.4,
          3.5,
          62.6,
          143,
          15.9,
          460.8,
          365.3,
          252.2,
          441.7,
          39.7,
          1.9,
          9.3,
          254.7,
          461.7,
          85.5,
          31.8,
          325.6,
          137.9,
          10.9,
          49.2,
          79.5,
          38.4,
          306.3,
          399.2,
          283.1,
          232,
          380.9,
          196.9,
          280.6,
          2.7,
          293.3,
          638.9,
          303.3,
          683.2,
          190.9,
          75.2,
          704.3,
          36.2,
          140.6,
          22.2,
          285.8,
          262.4,
          4,
          411.4,
          220.1,
          406.1,
          13.4,
          11.3,
          107,
          453.5,
          61.5,
          16.3,
          184.7,
          30.8,
          715,
          680.9,
          153.8,
          591,
          33.5,
          4,
          108.9,
          10.6,
          97.7,
          303.5,
          123.6,
          269.5,
          74.6,
          269.5,
          59.3,
          3.6,
          259.9,
          475.3,
          543.5,
          898,
          291.4,
          62.9,
          32.6,
          140.1,
          187.7,
          652.8,
          118.6,
          145.2,
          123.6,
          37.2,
          8.2,
          26.8
         ],
         "yaxis": "y"
        },
        {
         "hovertemplate": "<b>OLS trendline</b><br>Phones (per 1000) = 355.097 * log10(GDP ($ per capita)) + -1086.55<br>R<sup>2</sup>=0.662877<br><br>GDP ($ per capita)=%{x}<br>Phones (per 1000)=%{y} <b>(trend)</b><extra></extra>",
         "legendgroup": "",
         "marker": {
          "color": "#636efa",
          "symbol": "circle"
         },
         "mode": "lines",
         "name": "",
         "showlegend": false,
         "type": "scatter",
         "x": [
          500,
          500,
          500,
          600,
          600,
          600,
          600,
          700,
          700,
          700,
          700,
          700,
          700,
          800,
          800,
          800,
          800,
          800,
          800,
          800,
          900,
          900,
          1000,
          1000,
          1000,
          1100,
          1100,
          1100,
          1100,
          1200,
          1200,
          1200,
          1300,
          1300,
          1300,
          1300,
          1400,
          1400,
          1400,
          1400,
          1500,
          1500,
          1600,
          1600,
          1600,
          1600,
          1700,
          1700,
          1700,
          1700,
          1800,
          1800,
          1800,
          1800,
          1800,
          1900,
          1900,
          1900,
          1900,
          1900,
          2000,
          2100,
          2100,
          2200,
          2200,
          2200,
          2200,
          2300,
          2400,
          2500,
          2500,
          2500,
          2600,
          2600,
          2700,
          2900,
          2900,
          2900,
          2900,
          3000,
          3200,
          3300,
          3300,
          3400,
          3400,
          3500,
          3700,
          3700,
          3900,
          3900,
          4000,
          4000,
          4000,
          4000,
          4100,
          4300,
          4500,
          4600,
          4700,
          4800,
          4800,
          4800,
          4900,
          4900,
          5000,
          5000,
          5000,
          5000,
          5100,
          5400,
          5400,
          5400,
          5500,
          5600,
          5800,
          5800,
          5800,
          6000,
          6000,
          6000,
          6100,
          6100,
          6300,
          6300,
          6300,
          6400,
          6700,
          6700,
          6900,
          6900,
          7000,
          7000,
          7200,
          7400,
          7600,
          7600,
          7800,
          8000,
          8000,
          8300,
          8600,
          8800,
          8900,
          9000,
          9000,
          9000,
          9000,
          9100,
          9500,
          9600,
          9900,
          10200,
          10600,
          10700,
          11000,
          11100,
          11200,
          11400,
          11400,
          11400,
          11800,
          12300,
          12500,
          12800,
          13100,
          13300,
          13900,
          14400,
          15000,
          15700,
          15700,
          16000,
          16700,
          16800,
          16900,
          17200,
          17500,
          17500,
          17700,
          17800,
          18000,
          18600,
          19000,
          19000,
          19000,
          19200,
          19400,
          19800,
          20000,
          20000,
          20000,
          21000,
          21000,
          21500,
          21600,
          22000,
          22000,
          23200,
          23400,
          23700,
          24800,
          25000,
          26700,
          26800,
          27000,
          27400,
          27600,
          27600,
          27700,
          28000,
          28200,
          28600,
          28800,
          29000,
          29100,
          29600,
          29800,
          30000,
          30900,
          31100,
          32700,
          34600,
          35000,
          36000,
          37800,
          37800,
          55100
         ],
         "xaxis": "x",
         "y": [
          -128.15737228796297,
          -128.15737228796297,
          -128.15737228796297,
          -100.04032356440416,
          -100.04032356440416,
          -100.04032356440416,
          -100.04032356440416,
          -76.2676975969166,
          -76.2676975969166,
          -76.2676975969166,
          -76.2676975969166,
          -76.2676975969166,
          -76.2676975969166,
          -55.67491230827727,
          -55.67491230827727,
          -55.67491230827727,
          -55.67491230827727,
          -55.67491230827727,
          -55.67491230827727,
          -55.67491230827727,
          -37.51078838023409,
          -37.51078838023409,
          -21.26242584766578,
          -21.26242584766578,
          -21.26242584766578,
          -6.563994041064461,
          -6.563994041064461,
          -6.563994041064461,
          -6.563994041064461,
          6.854622875892801,
          6.854622875892801,
          6.854622875892801,
          19.19855384707148,
          19.19855384707148,
          19.19855384707148,
          19.19855384707148,
          30.627248843380585,
          30.627248843380585,
          30.627248843380585,
          30.627248843380585,
          41.26710933650429,
          41.26710933650429,
          51.22003413201969,
          51.22003413201969,
          51.22003413201969,
          51.22003413201969,
          60.569369862990925,
          60.569369862990925,
          60.569369862990925,
          60.569369862990925,
          69.3841580600631,
          69.3841580600631,
          69.3841580600631,
          69.3841580600631,
          69.3841580600631,
          77.7222324026477,
          77.7222324026477,
          77.7222324026477,
          77.7222324026477,
          77.7222324026477,
          85.63252059263118,
          93.15678402755066,
          93.15678402755066,
          100.3309523992325,
          100.3309523992325,
          100.3309523992325,
          100.3309523992325,
          107.18616138291145,
          113.74956931618999,
          120.04500705324267,
          120.04500705324267,
          120.04500705324267,
          126.09350028736867,
          126.09350028736867,
          131.9136932442334,
          142.9338666529743,
          142.9338666529743,
          142.9338666529743,
          142.9338666529743,
          148.16205577680148,
          158.11498057231665,
          162.8604875834028,
          162.8604875834028,
          167.46431630328811,
          167.46431630328811,
          171.93468174428904,
          180.5044868729633,
          180.5044868729633,
          188.62303547153874,
          188.62303547153874,
          192.52746703292837,
          192.52746703292837,
          192.52746703292837,
          192.52746703292837,
          196.33548295558762,
          203.68052869558392,
          210.69159096097155,
          214.0811078232084,
          217.39772616878372,
          220.64451575648695,
          220.64451575648695,
          220.64451575648695,
          223.8243564353354,
          223.8243564353354,
          226.93995349353963,
          226.93995349353963,
          226.93995349353963,
          226.93995349353963,
          229.9938514874582,
          238.80863968453036,
          238.80863968453036,
          238.80863968453036,
          241.63838530014118,
          244.4171417239745,
          249.8288130932715,
          249.8288130932715,
          249.8288130932715,
          255.05700221709867,
          255.05700221709867,
          255.05700221709867,
          257.60609842108624,
          257.60609842108624,
          262.5812656520179,
          262.5812656520179,
          262.5812656520179,
          265.00992701261384,
          272.07452748688,
          272.07452748688,
          276.6106430073785,
          276.6106430073785,
          278.8296281845862,
          278.8296281845862,
          283.17405094065725,
          287.3994333132605,
          291.5121252832421,
          291.5121252832421,
          295.51798191183593,
          299.42241347322533,
          299.42241347322533,
          305.09974693944287,
          310.5754751358811,
          314.1208452798269,
          315.86342663562573,
          317.58653740126874,
          317.58653740126874,
          317.58653740126874,
          317.58653740126874,
          319.2906078793235,
          325.92461174385335,
          327.53946219678414,
          332.2849692078703,
          336.8887979277554,
          342.82094501594383,
          344.2690008112129,
          348.53333174043837,
          349.9289684974308,
          351.3120881642717,
          354.04166046741216,
          354.04166046741216,
          354.04166046741216,
          359.36000850004825,
          365.7599645800551,
          368.2473863944483,
          371.90487345291103,
          375.4776234121307,
          377.8142864348997,
          384.6190730512417,
          390.0689973809542,
          396.3644351180071,
          403.3983426258817,
          403.3983426258817,
          406.3173599135225,
          412.9209232458368,
          413.841623348442,
          414.7568593233116,
          417.47042157617807,
          420.1370610854947,
          420.1370610854947,
          421.88954368421855,
          422.7583730759227,
          424.48148384156593,
          429.53822568911824,
          432.81955818415054,
          432.81955818415054,
          432.81955818415054,
          434.4344086370811,
          436.0325245873505,
          439.17991564816725,
          440.729846374134,
          440.729846374134,
          440.729846374134,
          448.2541098090535,
          448.2541098090535,
          451.88290803678933,
          452.5985325651245,
          455.42827818073556,
          455.42827818073556,
          463.6187059738654,
          464.94246353630297,
          466.90703544306575,
          473.9036369452449,
          475.1423328347453,
          485.287908260093,
          485.86442036747417,
          487.01101902573623,
          489.2789541507043,
          490.40053588797286,
          490.40053588797286,
          490.9582826410392,
          492.6195210651804,
          493.71715423354794,
          495.8892578754726,
          496.9639438212514,
          498.03119243447713,
          498.56205977152035,
          501.18932619385464,
          502.2278271494099,
          503.2593815583041,
          507.817845721567,
          508.81279632832,
          516.5494308903867,
          525.2593810078768,
          527.0320075257916,
          531.3764302818631,
          538.9006937167824,
          538.9006937167824,
          597.0158506847908
         ],
         "yaxis": "y"
        }
       ],
       "layout": {
        "legend": {
         "tracegroupgap": 0
        },
        "margin": {
         "t": 60
        },
        "template": {
         "data": {
          "bar": [
           {
            "error_x": {
             "color": "#2a3f5f"
            },
            "error_y": {
             "color": "#2a3f5f"
            },
            "marker": {
             "line": {
              "color": "#E5ECF6",
              "width": 0.5
             },
             "pattern": {
              "fillmode": "overlay",
              "size": 10,
              "solidity": 0.2
             }
            },
            "type": "bar"
           }
          ],
          "barpolar": [
           {
            "marker": {
             "line": {
              "color": "#E5ECF6",
              "width": 0.5
             },
             "pattern": {
              "fillmode": "overlay",
              "size": 10,
              "solidity": 0.2
             }
            },
            "type": "barpolar"
           }
          ],
          "carpet": [
           {
            "aaxis": {
             "endlinecolor": "#2a3f5f",
             "gridcolor": "white",
             "linecolor": "white",
             "minorgridcolor": "white",
             "startlinecolor": "#2a3f5f"
            },
            "baxis": {
             "endlinecolor": "#2a3f5f",
             "gridcolor": "white",
             "linecolor": "white",
             "minorgridcolor": "white",
             "startlinecolor": "#2a3f5f"
            },
            "type": "carpet"
           }
          ],
          "choropleth": [
           {
            "colorbar": {
             "outlinewidth": 0,
             "ticks": ""
            },
            "type": "choropleth"
           }
          ],
          "contour": [
           {
            "colorbar": {
             "outlinewidth": 0,
             "ticks": ""
            },
            "colorscale": [
             [
              0,
              "#0d0887"
             ],
             [
              0.1111111111111111,
              "#46039f"
             ],
             [
              0.2222222222222222,
              "#7201a8"
             ],
             [
              0.3333333333333333,
              "#9c179e"
             ],
             [
              0.4444444444444444,
              "#bd3786"
             ],
             [
              0.5555555555555556,
              "#d8576b"
             ],
             [
              0.6666666666666666,
              "#ed7953"
             ],
             [
              0.7777777777777778,
              "#fb9f3a"
             ],
             [
              0.8888888888888888,
              "#fdca26"
             ],
             [
              1,
              "#f0f921"
             ]
            ],
            "type": "contour"
           }
          ],
          "contourcarpet": [
           {
            "colorbar": {
             "outlinewidth": 0,
             "ticks": ""
            },
            "type": "contourcarpet"
           }
          ],
          "heatmap": [
           {
            "colorbar": {
             "outlinewidth": 0,
             "ticks": ""
            },
            "colorscale": [
             [
              0,
              "#0d0887"
             ],
             [
              0.1111111111111111,
              "#46039f"
             ],
             [
              0.2222222222222222,
              "#7201a8"
             ],
             [
              0.3333333333333333,
              "#9c179e"
             ],
             [
              0.4444444444444444,
              "#bd3786"
             ],
             [
              0.5555555555555556,
              "#d8576b"
             ],
             [
              0.6666666666666666,
              "#ed7953"
             ],
             [
              0.7777777777777778,
              "#fb9f3a"
             ],
             [
              0.8888888888888888,
              "#fdca26"
             ],
             [
              1,
              "#f0f921"
             ]
            ],
            "type": "heatmap"
           }
          ],
          "heatmapgl": [
           {
            "colorbar": {
             "outlinewidth": 0,
             "ticks": ""
            },
            "colorscale": [
             [
              0,
              "#0d0887"
             ],
             [
              0.1111111111111111,
              "#46039f"
             ],
             [
              0.2222222222222222,
              "#7201a8"
             ],
             [
              0.3333333333333333,
              "#9c179e"
             ],
             [
              0.4444444444444444,
              "#bd3786"
             ],
             [
              0.5555555555555556,
              "#d8576b"
             ],
             [
              0.6666666666666666,
              "#ed7953"
             ],
             [
              0.7777777777777778,
              "#fb9f3a"
             ],
             [
              0.8888888888888888,
              "#fdca26"
             ],
             [
              1,
              "#f0f921"
             ]
            ],
            "type": "heatmapgl"
           }
          ],
          "histogram": [
           {
            "marker": {
             "pattern": {
              "fillmode": "overlay",
              "size": 10,
              "solidity": 0.2
             }
            },
            "type": "histogram"
           }
          ],
          "histogram2d": [
           {
            "colorbar": {
             "outlinewidth": 0,
             "ticks": ""
            },
            "colorscale": [
             [
              0,
              "#0d0887"
             ],
             [
              0.1111111111111111,
              "#46039f"
             ],
             [
              0.2222222222222222,
              "#7201a8"
             ],
             [
              0.3333333333333333,
              "#9c179e"
             ],
             [
              0.4444444444444444,
              "#bd3786"
             ],
             [
              0.5555555555555556,
              "#d8576b"
             ],
             [
              0.6666666666666666,
              "#ed7953"
             ],
             [
              0.7777777777777778,
              "#fb9f3a"
             ],
             [
              0.8888888888888888,
              "#fdca26"
             ],
             [
              1,
              "#f0f921"
             ]
            ],
            "type": "histogram2d"
           }
          ],
          "histogram2dcontour": [
           {
            "colorbar": {
             "outlinewidth": 0,
             "ticks": ""
            },
            "colorscale": [
             [
              0,
              "#0d0887"
             ],
             [
              0.1111111111111111,
              "#46039f"
             ],
             [
              0.2222222222222222,
              "#7201a8"
             ],
             [
              0.3333333333333333,
              "#9c179e"
             ],
             [
              0.4444444444444444,
              "#bd3786"
             ],
             [
              0.5555555555555556,
              "#d8576b"
             ],
             [
              0.6666666666666666,
              "#ed7953"
             ],
             [
              0.7777777777777778,
              "#fb9f3a"
             ],
             [
              0.8888888888888888,
              "#fdca26"
             ],
             [
              1,
              "#f0f921"
             ]
            ],
            "type": "histogram2dcontour"
           }
          ],
          "mesh3d": [
           {
            "colorbar": {
             "outlinewidth": 0,
             "ticks": ""
            },
            "type": "mesh3d"
           }
          ],
          "parcoords": [
           {
            "line": {
             "colorbar": {
              "outlinewidth": 0,
              "ticks": ""
             }
            },
            "type": "parcoords"
           }
          ],
          "pie": [
           {
            "automargin": true,
            "type": "pie"
           }
          ],
          "scatter": [
           {
            "fillpattern": {
             "fillmode": "overlay",
             "size": 10,
             "solidity": 0.2
            },
            "type": "scatter"
           }
          ],
          "scatter3d": [
           {
            "line": {
             "colorbar": {
              "outlinewidth": 0,
              "ticks": ""
             }
            },
            "marker": {
             "colorbar": {
              "outlinewidth": 0,
              "ticks": ""
             }
            },
            "type": "scatter3d"
           }
          ],
          "scattercarpet": [
           {
            "marker": {
             "colorbar": {
              "outlinewidth": 0,
              "ticks": ""
             }
            },
            "type": "scattercarpet"
           }
          ],
          "scattergeo": [
           {
            "marker": {
             "colorbar": {
              "outlinewidth": 0,
              "ticks": ""
             }
            },
            "type": "scattergeo"
           }
          ],
          "scattergl": [
           {
            "marker": {
             "colorbar": {
              "outlinewidth": 0,
              "ticks": ""
             }
            },
            "type": "scattergl"
           }
          ],
          "scattermapbox": [
           {
            "marker": {
             "colorbar": {
              "outlinewidth": 0,
              "ticks": ""
             }
            },
            "type": "scattermapbox"
           }
          ],
          "scatterpolar": [
           {
            "marker": {
             "colorbar": {
              "outlinewidth": 0,
              "ticks": ""
             }
            },
            "type": "scatterpolar"
           }
          ],
          "scatterpolargl": [
           {
            "marker": {
             "colorbar": {
              "outlinewidth": 0,
              "ticks": ""
             }
            },
            "type": "scatterpolargl"
           }
          ],
          "scatterternary": [
           {
            "marker": {
             "colorbar": {
              "outlinewidth": 0,
              "ticks": ""
             }
            },
            "type": "scatterternary"
           }
          ],
          "surface": [
           {
            "colorbar": {
             "outlinewidth": 0,
             "ticks": ""
            },
            "colorscale": [
             [
              0,
              "#0d0887"
             ],
             [
              0.1111111111111111,
              "#46039f"
             ],
             [
              0.2222222222222222,
              "#7201a8"
             ],
             [
              0.3333333333333333,
              "#9c179e"
             ],
             [
              0.4444444444444444,
              "#bd3786"
             ],
             [
              0.5555555555555556,
              "#d8576b"
             ],
             [
              0.6666666666666666,
              "#ed7953"
             ],
             [
              0.7777777777777778,
              "#fb9f3a"
             ],
             [
              0.8888888888888888,
              "#fdca26"
             ],
             [
              1,
              "#f0f921"
             ]
            ],
            "type": "surface"
           }
          ],
          "table": [
           {
            "cells": {
             "fill": {
              "color": "#EBF0F8"
             },
             "line": {
              "color": "white"
             }
            },
            "header": {
             "fill": {
              "color": "#C8D4E3"
             },
             "line": {
              "color": "white"
             }
            },
            "type": "table"
           }
          ]
         },
         "layout": {
          "annotationdefaults": {
           "arrowcolor": "#2a3f5f",
           "arrowhead": 0,
           "arrowwidth": 1
          },
          "autotypenumbers": "strict",
          "coloraxis": {
           "colorbar": {
            "outlinewidth": 0,
            "ticks": ""
           }
          },
          "colorscale": {
           "diverging": [
            [
             0,
             "#8e0152"
            ],
            [
             0.1,
             "#c51b7d"
            ],
            [
             0.2,
             "#de77ae"
            ],
            [
             0.3,
             "#f1b6da"
            ],
            [
             0.4,
             "#fde0ef"
            ],
            [
             0.5,
             "#f7f7f7"
            ],
            [
             0.6,
             "#e6f5d0"
            ],
            [
             0.7,
             "#b8e186"
            ],
            [
             0.8,
             "#7fbc41"
            ],
            [
             0.9,
             "#4d9221"
            ],
            [
             1,
             "#276419"
            ]
           ],
           "sequential": [
            [
             0,
             "#0d0887"
            ],
            [
             0.1111111111111111,
             "#46039f"
            ],
            [
             0.2222222222222222,
             "#7201a8"
            ],
            [
             0.3333333333333333,
             "#9c179e"
            ],
            [
             0.4444444444444444,
             "#bd3786"
            ],
            [
             0.5555555555555556,
             "#d8576b"
            ],
            [
             0.6666666666666666,
             "#ed7953"
            ],
            [
             0.7777777777777778,
             "#fb9f3a"
            ],
            [
             0.8888888888888888,
             "#fdca26"
            ],
            [
             1,
             "#f0f921"
            ]
           ],
           "sequentialminus": [
            [
             0,
             "#0d0887"
            ],
            [
             0.1111111111111111,
             "#46039f"
            ],
            [
             0.2222222222222222,
             "#7201a8"
            ],
            [
             0.3333333333333333,
             "#9c179e"
            ],
            [
             0.4444444444444444,
             "#bd3786"
            ],
            [
             0.5555555555555556,
             "#d8576b"
            ],
            [
             0.6666666666666666,
             "#ed7953"
            ],
            [
             0.7777777777777778,
             "#fb9f3a"
            ],
            [
             0.8888888888888888,
             "#fdca26"
            ],
            [
             1,
             "#f0f921"
            ]
           ]
          },
          "colorway": [
           "#636efa",
           "#EF553B",
           "#00cc96",
           "#ab63fa",
           "#FFA15A",
           "#19d3f3",
           "#FF6692",
           "#B6E880",
           "#FF97FF",
           "#FECB52"
          ],
          "font": {
           "color": "#2a3f5f"
          },
          "geo": {
           "bgcolor": "white",
           "lakecolor": "white",
           "landcolor": "#E5ECF6",
           "showlakes": true,
           "showland": true,
           "subunitcolor": "white"
          },
          "hoverlabel": {
           "align": "left"
          },
          "hovermode": "closest",
          "mapbox": {
           "style": "light"
          },
          "paper_bgcolor": "white",
          "plot_bgcolor": "#E5ECF6",
          "polar": {
           "angularaxis": {
            "gridcolor": "white",
            "linecolor": "white",
            "ticks": ""
           },
           "bgcolor": "#E5ECF6",
           "radialaxis": {
            "gridcolor": "white",
            "linecolor": "white",
            "ticks": ""
           }
          },
          "scene": {
           "xaxis": {
            "backgroundcolor": "#E5ECF6",
            "gridcolor": "white",
            "gridwidth": 2,
            "linecolor": "white",
            "showbackground": true,
            "ticks": "",
            "zerolinecolor": "white"
           },
           "yaxis": {
            "backgroundcolor": "#E5ECF6",
            "gridcolor": "white",
            "gridwidth": 2,
            "linecolor": "white",
            "showbackground": true,
            "ticks": "",
            "zerolinecolor": "white"
           },
           "zaxis": {
            "backgroundcolor": "#E5ECF6",
            "gridcolor": "white",
            "gridwidth": 2,
            "linecolor": "white",
            "showbackground": true,
            "ticks": "",
            "zerolinecolor": "white"
           }
          },
          "shapedefaults": {
           "line": {
            "color": "#2a3f5f"
           }
          },
          "ternary": {
           "aaxis": {
            "gridcolor": "white",
            "linecolor": "white",
            "ticks": ""
           },
           "baxis": {
            "gridcolor": "white",
            "linecolor": "white",
            "ticks": ""
           },
           "bgcolor": "#E5ECF6",
           "caxis": {
            "gridcolor": "white",
            "linecolor": "white",
            "ticks": ""
           }
          },
          "title": {
           "x": 0.05
          },
          "xaxis": {
           "automargin": true,
           "gridcolor": "white",
           "linecolor": "white",
           "ticks": "",
           "title": {
            "standoff": 15
           },
           "zerolinecolor": "white",
           "zerolinewidth": 2
          },
          "yaxis": {
           "automargin": true,
           "gridcolor": "white",
           "linecolor": "white",
           "ticks": "",
           "title": {
            "standoff": 15
           },
           "zerolinecolor": "white",
           "zerolinewidth": 2
          }
         }
        },
        "xaxis": {
         "anchor": "y",
         "domain": [
          0,
          1
         ],
         "title": {
          "text": "GDP ($ per capita)"
         }
        },
        "yaxis": {
         "anchor": "x",
         "domain": [
          0,
          1
         ],
         "title": {
          "text": "Phones (per 1000)"
         }
        }
       }
      },
      "text/html": [
       "<div>                            <div id=\"ab52788a-0a2a-4b72-9ee1-3bb36f46c337\" class=\"plotly-graph-div\" style=\"height:525px; width:100%;\"></div>            <script type=\"text/javascript\">                require([\"plotly\"], function(Plotly) {                    window.PLOTLYENV=window.PLOTLYENV || {};                                    if (document.getElementById(\"ab52788a-0a2a-4b72-9ee1-3bb36f46c337\")) {                    Plotly.newPlot(                        \"ab52788a-0a2a-4b72-9ee1-3bb36f46c337\",                        [{\"customdata\":[[\"Afghanistan \"],[\"Albania \"],[\"Algeria \"],[\"American Samoa \"],[\"Andorra \"],[\"Angola \"],[\"Anguilla \"],[\"Antigua & Barbuda \"],[\"Argentina \"],[\"Armenia \"],[\"Aruba \"],[\"Australia \"],[\"Austria \"],[\"Azerbaijan \"],[\"Bahamas, The \"],[\"Bahrain \"],[\"Bangladesh \"],[\"Barbados \"],[\"Belarus \"],[\"Belgium \"],[\"Belize \"],[\"Benin \"],[\"Bermuda \"],[\"Bhutan \"],[\"Bolivia \"],[\"Bosnia & Herzegovina \"],[\"Botswana \"],[\"Brazil \"],[\"British Virgin Is. \"],[\"Brunei \"],[\"Bulgaria \"],[\"Burkina Faso \"],[\"Burma \"],[\"Burundi \"],[\"Cambodia \"],[\"Cameroon \"],[\"Canada \"],[\"Cape Verde \"],[\"Cayman Islands \"],[\"Central African Rep. \"],[\"Chad \"],[\"Chile \"],[\"China \"],[\"Colombia \"],[\"Comoros \"],[\"Congo, Dem. Rep. \"],[\"Congo, Repub. of the \"],[\"Cook Islands \"],[\"Costa Rica \"],[\"Cote d'Ivoire \"],[\"Croatia \"],[\"Cuba \"],[\"Cyprus \"],[\"Czech Republic \"],[\"Denmark \"],[\"Djibouti \"],[\"Dominica \"],[\"Dominican Republic \"],[\"East Timor \"],[\"Ecuador \"],[\"Egypt \"],[\"El Salvador \"],[\"Equatorial Guinea \"],[\"Eritrea \"],[\"Estonia \"],[\"Ethiopia \"],[\"Faroe Islands \"],[\"Fiji \"],[\"Finland \"],[\"France \"],[\"French Guiana \"],[\"French Polynesia \"],[\"Gabon \"],[\"Gambia, The \"],[\"Gaza Strip \"],[\"Georgia \"],[\"Germany \"],[\"Ghana \"],[\"Gibraltar \"],[\"Greece \"],[\"Greenland \"],[\"Grenada \"],[\"Guadeloupe \"],[\"Guam \"],[\"Guatemala \"],[\"Guernsey \"],[\"Guinea \"],[\"Guinea-Bissau \"],[\"Guyana \"],[\"Haiti \"],[\"Honduras \"],[\"Hong Kong \"],[\"Hungary \"],[\"Iceland \"],[\"India \"],[\"Indonesia \"],[\"Iran \"],[\"Iraq \"],[\"Ireland \"],[\"Isle of Man \"],[\"Israel \"],[\"Italy \"],[\"Jamaica \"],[\"Japan \"],[\"Jersey \"],[\"Jordan \"],[\"Kazakhstan \"],[\"Kenya \"],[\"Kiribati \"],[\"Korea, North \"],[\"Korea, South \"],[\"Kuwait \"],[\"Kyrgyzstan \"],[\"Laos \"],[\"Latvia \"],[\"Lebanon \"],[\"Lesotho \"],[\"Liberia \"],[\"Libya \"],[\"Liechtenstein \"],[\"Lithuania \"],[\"Luxembourg \"],[\"Macau \"],[\"Macedonia \"],[\"Madagascar \"],[\"Malawi \"],[\"Malaysia \"],[\"Maldives \"],[\"Mali \"],[\"Malta \"],[\"Marshall Islands \"],[\"Martinique \"],[\"Mauritania \"],[\"Mauritius \"],[\"Mayotte \"],[\"Mexico \"],[\"Micronesia, Fed. St. \"],[\"Moldova \"],[\"Monaco \"],[\"Mongolia \"],[\"Montserrat \"],[\"Morocco \"],[\"Mozambique \"],[\"Namibia \"],[\"Nauru \"],[\"Nepal \"],[\"Netherlands \"],[\"Netherlands Antilles \"],[\"New Caledonia \"],[\"New Zealand \"],[\"Nicaragua \"],[\"Niger \"],[\"Nigeria \"],[\"N. Mariana Islands \"],[\"Norway \"],[\"Oman \"],[\"Pakistan \"],[\"Palau \"],[\"Panama \"],[\"Papua New Guinea \"],[\"Paraguay \"],[\"Peru \"],[\"Philippines \"],[\"Poland \"],[\"Portugal \"],[\"Puerto Rico \"],[\"Qatar \"],[\"Reunion \"],[\"Romania \"],[\"Russia \"],[\"Rwanda \"],[\"Saint Helena \"],[\"Saint Kitts & Nevis \"],[\"Saint Lucia \"],[\"St Pierre & Miquelon \"],[\"Saint Vincent and the Grenadines \"],[\"Samoa \"],[\"San Marino \"],[\"Sao Tome & Principe \"],[\"Saudi Arabia \"],[\"Senegal \"],[\"Serbia \"],[\"Seychelles \"],[\"Sierra Leone \"],[\"Singapore \"],[\"Slovakia \"],[\"Slovenia \"],[\"Solomon Islands \"],[\"Somalia \"],[\"South Africa \"],[\"Spain \"],[\"Sri Lanka \"],[\"Sudan \"],[\"Suriname \"],[\"Swaziland \"],[\"Sweden \"],[\"Switzerland \"],[\"Syria \"],[\"Taiwan \"],[\"Tajikistan \"],[\"Tanzania \"],[\"Thailand \"],[\"Togo \"],[\"Tonga \"],[\"Trinidad & Tobago \"],[\"Tunisia \"],[\"Turkey \"],[\"Turkmenistan \"],[\"Turks & Caicos Is \"],[\"Tuvalu \"],[\"Uganda \"],[\"Ukraine \"],[\"United Arab Emirates \"],[\"United Kingdom \"],[\"United States \"],[\"Uruguay \"],[\"Uzbekistan \"],[\"Vanuatu \"],[\"Venezuela \"],[\"Vietnam \"],[\"Virgin Islands \"],[\"Wallis and Futuna \"],[\"West Bank \"],[\"Western Sahara \"],[\"Yemen \"],[\"Zambia \"],[\"Zimbabwe \"]],\"hovertemplate\":\"GDP ($ per capita)=%{x}\\u003cbr\\u003ePhones (per 1000)=%{y}\\u003cbr\\u003eCountry=%{customdata[0]}\\u003cextra\\u003e\\u003c\\u002fextra\\u003e\",\"legendgroup\":\"\",\"marker\":{\"color\":\"#636efa\",\"symbol\":\"circle\"},\"mode\":\"markers\",\"name\":\"\",\"orientation\":\"v\",\"showlegend\":false,\"x\":[700.0,4500.0,6000.0,8000.0,19000.0,1900.0,8600.0,11000.0,11200.0,3500.0,28000.0,29000.0,30000.0,3400.0,16700.0,16900.0,1900.0,15700.0,6100.0,29100.0,4900.0,1100.0,36000.0,1300.0,2400.0,6100.0,9000.0,7600.0,16000.0,18600.0,7600.0,1100.0,1800.0,600.0,1900.0,1800.0,29800.0,1400.0,35000.0,1100.0,1200.0,9900.0,5000.0,6300.0,700.0,700.0,700.0,5000.0,9100.0,1400.0,10600.0,2900.0,19200.0,15700.0,31100.0,1300.0,5400.0,6000.0,500.0,3300.0,4000.0,4800.0,2700.0,700.0,12300.0,700.0,22000.0,5800.0,27400.0,27600.0,8300.0,17500.0,5500.0,1700.0,600.0,2500.0,27600.0,2200.0,17500.0,20000.0,20000.0,5000.0,8000.0,21000.0,4100.0,20000.0,2100.0,800.0,4000.0,1600.0,2600.0,28800.0,13900.0,30900.0,2900.0,3200.0,7000.0,1500.0,29600.0,21000.0,19800.0,26700.0,3900.0,28200.0,24800.0,4300.0,6300.0,1000.0,800.0,1300.0,17800.0,19000.0,1600.0,1700.0,10200.0,4800.0,3000.0,1000.0,6400.0,25000.0,11400.0,55100.0,19400.0,6700.0,800.0,600.0,9000.0,3900.0,900.0,17700.0,1600.0,14400.0,1800.0,11400.0,2600.0,9000.0,2000.0,1800.0,27000.0,1800.0,3400.0,4000.0,1200.0,7200.0,5000.0,1400.0,28600.0,11400.0,15000.0,21600.0,2300.0,800.0,900.0,12500.0,37800.0,13100.0,2100.0,9000.0,6300.0,2200.0,4700.0,5100.0,4600.0,11100.0,18000.0,16800.0,21500.0,5800.0,7000.0,8900.0,1300.0,2500.0,8800.0,5400.0,6900.0,2900.0,5600.0,34600.0,1200.0,11800.0,1600.0,2200.0,7800.0,500.0,23700.0,13300.0,19000.0,1700.0,500.0,10700.0,22000.0,3700.0,1900.0,4000.0,4900.0,26800.0,32700.0,3300.0,23400.0,1000.0,600.0,7400.0,1500.0,2200.0,9500.0,6900.0,6700.0,5800.0,9600.0,1100.0,1400.0,5400.0,23200.0,27700.0,37800.0,12800.0,1700.0,2900.0,4800.0,2500.0,17200.0,3700.0,800.0,6000.0,800.0,800.0,1900.0],\"xaxis\":\"x\",\"y\":[3.2,71.2,78.1,259.5,497.2,7.8,460.0,549.9,220.4,195.7,516.1,565.5,452.2,137.1,460.6,281.3,7.3,481.9,319.1,462.6,115.7,9.7,851.4,14.3,71.9,215.4,80.5,225.3,506.5,237.2,336.3,7.0,10.1,3.4,2.6,5.7,552.2,169.6,836.3,2.3,1.3,213.0,266.7,176.2,24.5,0.2,3.7,289.9,340.7,14.6,420.4,74.7,211.0,314.3,614.6,22.8,304.8,97.4,61.5,125.6,131.8,142.4,18.5,7.9,333.8,8.2,503.8,112.6,405.3,586.4,255.6,194.5,27.4,26.8,244.3,146.6,667.9,14.4,877.7,589.7,448.9,364.5,463.8,492.0,92.1,842.4,2.7,7.4,143.5,16.9,67.5,546.7,336.2,647.7,45.4,52.0,276.4,38.6,500.5,676.0,462.3,430.9,124.0,461.2,811.3,104.5,164.1,8.1,42.7,42.4,486.1,211.0,84.0,14.1,321.4,255.6,23.7,2.3,127.1,585.5,223.4,515.4,384.9,260.0,3.6,7.9,179.0,90.0,6.4,505.0,91.2,394.4,12.9,289.3,49.7,181.6,114.8,208.1,1035.6,55.1,222.85000000000002,40.4,3.5,62.6,143.0,15.9,460.8,365.3,252.2,441.7,39.7,1.9,9.3,254.7,461.7,85.5,31.8,325.6,137.9,10.9,49.2,79.5,38.4,306.3,399.2,283.1,232.0,380.9,196.9,280.6,2.7,293.3,638.9,303.3,683.2,190.9,75.2,704.3,36.2,140.6,22.2,285.8,262.4,4.0,411.4,220.1,406.1,13.4,11.3,107.0,453.5,61.5,16.3,184.7,30.8,715.0,680.9,153.8,591.0,33.5,4.0,108.9,10.6,97.7,303.5,123.6,269.5,74.6,269.5,59.3,3.6,259.9,475.3,543.5,898.0,291.4,62.9,32.6,140.1,187.7,652.8,118.6,145.2,123.6,37.2,8.2,26.8],\"yaxis\":\"y\",\"type\":\"scatter\"},{\"hovertemplate\":\"\\u003cb\\u003eOLS trendline\\u003c\\u002fb\\u003e\\u003cbr\\u003ePhones (per 1000) = 355.097 * log10(GDP ($ per capita)) + -1086.55\\u003cbr\\u003eR\\u003csup\\u003e2\\u003c\\u002fsup\\u003e=0.662877\\u003cbr\\u003e\\u003cbr\\u003eGDP ($ per capita)=%{x}\\u003cbr\\u003ePhones (per 1000)=%{y} \\u003cb\\u003e(trend)\\u003c\\u002fb\\u003e\\u003cextra\\u003e\\u003c\\u002fextra\\u003e\",\"legendgroup\":\"\",\"marker\":{\"color\":\"#636efa\",\"symbol\":\"circle\"},\"mode\":\"lines\",\"name\":\"\",\"showlegend\":false,\"x\":[500.0,500.0,500.0,600.0,600.0,600.0,600.0,700.0,700.0,700.0,700.0,700.0,700.0,800.0,800.0,800.0,800.0,800.0,800.0,800.0,900.0,900.0,1000.0,1000.0,1000.0,1100.0,1100.0,1100.0,1100.0,1200.0,1200.0,1200.0,1300.0,1300.0,1300.0,1300.0,1400.0,1400.0,1400.0,1400.0,1500.0,1500.0,1600.0,1600.0,1600.0,1600.0,1700.0,1700.0,1700.0,1700.0,1800.0,1800.0,1800.0,1800.0,1800.0,1900.0,1900.0,1900.0,1900.0,1900.0,2000.0,2100.0,2100.0,2200.0,2200.0,2200.0,2200.0,2300.0,2400.0,2500.0,2500.0,2500.0,2600.0,2600.0,2700.0,2900.0,2900.0,2900.0,2900.0,3000.0,3200.0,3300.0,3300.0,3400.0,3400.0,3500.0,3700.0,3700.0,3900.0,3900.0,4000.0,4000.0,4000.0,4000.0,4100.0,4300.0,4500.0,4600.0,4700.0,4800.0,4800.0,4800.0,4900.0,4900.0,5000.0,5000.0,5000.0,5000.0,5100.0,5400.0,5400.0,5400.0,5500.0,5600.0,5800.0,5800.0,5800.0,6000.0,6000.0,6000.0,6100.0,6100.0,6300.0,6300.0,6300.0,6400.0,6700.0,6700.0,6900.0,6900.0,7000.0,7000.0,7200.0,7400.0,7600.0,7600.0,7800.0,8000.0,8000.0,8300.0,8600.0,8800.0,8900.0,9000.0,9000.0,9000.0,9000.0,9100.0,9500.0,9600.0,9900.0,10200.0,10600.0,10700.0,11000.0,11100.0,11200.0,11400.0,11400.0,11400.0,11800.0,12300.0,12500.0,12800.0,13100.0,13300.0,13900.0,14400.0,15000.0,15700.0,15700.0,16000.0,16700.0,16800.0,16900.0,17200.0,17500.0,17500.0,17700.0,17800.0,18000.0,18600.0,19000.0,19000.0,19000.0,19200.0,19400.0,19800.0,20000.0,20000.0,20000.0,21000.0,21000.0,21500.0,21600.0,22000.0,22000.0,23200.0,23400.0,23700.0,24800.0,25000.0,26700.0,26800.0,27000.0,27400.0,27600.0,27600.0,27700.0,28000.0,28200.0,28600.0,28800.0,29000.0,29100.0,29600.0,29800.0,30000.0,30900.0,31100.0,32700.0,34600.0,35000.0,36000.0,37800.0,37800.0,55100.0],\"xaxis\":\"x\",\"y\":[-128.15737228796297,-128.15737228796297,-128.15737228796297,-100.04032356440416,-100.04032356440416,-100.04032356440416,-100.04032356440416,-76.2676975969166,-76.2676975969166,-76.2676975969166,-76.2676975969166,-76.2676975969166,-76.2676975969166,-55.67491230827727,-55.67491230827727,-55.67491230827727,-55.67491230827727,-55.67491230827727,-55.67491230827727,-55.67491230827727,-37.51078838023409,-37.51078838023409,-21.26242584766578,-21.26242584766578,-21.26242584766578,-6.563994041064461,-6.563994041064461,-6.563994041064461,-6.563994041064461,6.854622875892801,6.854622875892801,6.854622875892801,19.19855384707148,19.19855384707148,19.19855384707148,19.19855384707148,30.627248843380585,30.627248843380585,30.627248843380585,30.627248843380585,41.26710933650429,41.26710933650429,51.22003413201969,51.22003413201969,51.22003413201969,51.22003413201969,60.569369862990925,60.569369862990925,60.569369862990925,60.569369862990925,69.3841580600631,69.3841580600631,69.3841580600631,69.3841580600631,69.3841580600631,77.7222324026477,77.7222324026477,77.7222324026477,77.7222324026477,77.7222324026477,85.63252059263118,93.15678402755066,93.15678402755066,100.3309523992325,100.3309523992325,100.3309523992325,100.3309523992325,107.18616138291145,113.74956931618999,120.04500705324267,120.04500705324267,120.04500705324267,126.09350028736867,126.09350028736867,131.9136932442334,142.9338666529743,142.9338666529743,142.9338666529743,142.9338666529743,148.16205577680148,158.11498057231665,162.8604875834028,162.8604875834028,167.46431630328811,167.46431630328811,171.93468174428904,180.5044868729633,180.5044868729633,188.62303547153874,188.62303547153874,192.52746703292837,192.52746703292837,192.52746703292837,192.52746703292837,196.33548295558762,203.68052869558392,210.69159096097155,214.0811078232084,217.39772616878372,220.64451575648695,220.64451575648695,220.64451575648695,223.8243564353354,223.8243564353354,226.93995349353963,226.93995349353963,226.93995349353963,226.93995349353963,229.9938514874582,238.80863968453036,238.80863968453036,238.80863968453036,241.63838530014118,244.4171417239745,249.8288130932715,249.8288130932715,249.8288130932715,255.05700221709867,255.05700221709867,255.05700221709867,257.60609842108624,257.60609842108624,262.5812656520179,262.5812656520179,262.5812656520179,265.00992701261384,272.07452748688,272.07452748688,276.6106430073785,276.6106430073785,278.8296281845862,278.8296281845862,283.17405094065725,287.3994333132605,291.5121252832421,291.5121252832421,295.51798191183593,299.42241347322533,299.42241347322533,305.09974693944287,310.5754751358811,314.1208452798269,315.86342663562573,317.58653740126874,317.58653740126874,317.58653740126874,317.58653740126874,319.2906078793235,325.92461174385335,327.53946219678414,332.2849692078703,336.8887979277554,342.82094501594383,344.2690008112129,348.53333174043837,349.9289684974308,351.3120881642717,354.04166046741216,354.04166046741216,354.04166046741216,359.36000850004825,365.7599645800551,368.2473863944483,371.90487345291103,375.4776234121307,377.8142864348997,384.6190730512417,390.0689973809542,396.3644351180071,403.3983426258817,403.3983426258817,406.3173599135225,412.9209232458368,413.841623348442,414.7568593233116,417.47042157617807,420.1370610854947,420.1370610854947,421.88954368421855,422.7583730759227,424.48148384156593,429.53822568911824,432.81955818415054,432.81955818415054,432.81955818415054,434.4344086370811,436.0325245873505,439.17991564816725,440.729846374134,440.729846374134,440.729846374134,448.2541098090535,448.2541098090535,451.88290803678933,452.5985325651245,455.42827818073556,455.42827818073556,463.6187059738654,464.94246353630297,466.90703544306575,473.9036369452449,475.1423328347453,485.287908260093,485.86442036747417,487.01101902573623,489.2789541507043,490.40053588797286,490.40053588797286,490.9582826410392,492.6195210651804,493.71715423354794,495.8892578754726,496.9639438212514,498.03119243447713,498.56205977152035,501.18932619385464,502.2278271494099,503.2593815583041,507.817845721567,508.81279632832,516.5494308903867,525.2593810078768,527.0320075257916,531.3764302818631,538.9006937167824,538.9006937167824,597.0158506847908],\"yaxis\":\"y\",\"type\":\"scatter\"}],                        {\"template\":{\"data\":{\"histogram2dcontour\":[{\"type\":\"histogram2dcontour\",\"colorbar\":{\"outlinewidth\":0,\"ticks\":\"\"},\"colorscale\":[[0.0,\"#0d0887\"],[0.1111111111111111,\"#46039f\"],[0.2222222222222222,\"#7201a8\"],[0.3333333333333333,\"#9c179e\"],[0.4444444444444444,\"#bd3786\"],[0.5555555555555556,\"#d8576b\"],[0.6666666666666666,\"#ed7953\"],[0.7777777777777778,\"#fb9f3a\"],[0.8888888888888888,\"#fdca26\"],[1.0,\"#f0f921\"]]}],\"choropleth\":[{\"type\":\"choropleth\",\"colorbar\":{\"outlinewidth\":0,\"ticks\":\"\"}}],\"histogram2d\":[{\"type\":\"histogram2d\",\"colorbar\":{\"outlinewidth\":0,\"ticks\":\"\"},\"colorscale\":[[0.0,\"#0d0887\"],[0.1111111111111111,\"#46039f\"],[0.2222222222222222,\"#7201a8\"],[0.3333333333333333,\"#9c179e\"],[0.4444444444444444,\"#bd3786\"],[0.5555555555555556,\"#d8576b\"],[0.6666666666666666,\"#ed7953\"],[0.7777777777777778,\"#fb9f3a\"],[0.8888888888888888,\"#fdca26\"],[1.0,\"#f0f921\"]]}],\"heatmap\":[{\"type\":\"heatmap\",\"colorbar\":{\"outlinewidth\":0,\"ticks\":\"\"},\"colorscale\":[[0.0,\"#0d0887\"],[0.1111111111111111,\"#46039f\"],[0.2222222222222222,\"#7201a8\"],[0.3333333333333333,\"#9c179e\"],[0.4444444444444444,\"#bd3786\"],[0.5555555555555556,\"#d8576b\"],[0.6666666666666666,\"#ed7953\"],[0.7777777777777778,\"#fb9f3a\"],[0.8888888888888888,\"#fdca26\"],[1.0,\"#f0f921\"]]}],\"heatmapgl\":[{\"type\":\"heatmapgl\",\"colorbar\":{\"outlinewidth\":0,\"ticks\":\"\"},\"colorscale\":[[0.0,\"#0d0887\"],[0.1111111111111111,\"#46039f\"],[0.2222222222222222,\"#7201a8\"],[0.3333333333333333,\"#9c179e\"],[0.4444444444444444,\"#bd3786\"],[0.5555555555555556,\"#d8576b\"],[0.6666666666666666,\"#ed7953\"],[0.7777777777777778,\"#fb9f3a\"],[0.8888888888888888,\"#fdca26\"],[1.0,\"#f0f921\"]]}],\"contourcarpet\":[{\"type\":\"contourcarpet\",\"colorbar\":{\"outlinewidth\":0,\"ticks\":\"\"}}],\"contour\":[{\"type\":\"contour\",\"colorbar\":{\"outlinewidth\":0,\"ticks\":\"\"},\"colorscale\":[[0.0,\"#0d0887\"],[0.1111111111111111,\"#46039f\"],[0.2222222222222222,\"#7201a8\"],[0.3333333333333333,\"#9c179e\"],[0.4444444444444444,\"#bd3786\"],[0.5555555555555556,\"#d8576b\"],[0.6666666666666666,\"#ed7953\"],[0.7777777777777778,\"#fb9f3a\"],[0.8888888888888888,\"#fdca26\"],[1.0,\"#f0f921\"]]}],\"surface\":[{\"type\":\"surface\",\"colorbar\":{\"outlinewidth\":0,\"ticks\":\"\"},\"colorscale\":[[0.0,\"#0d0887\"],[0.1111111111111111,\"#46039f\"],[0.2222222222222222,\"#7201a8\"],[0.3333333333333333,\"#9c179e\"],[0.4444444444444444,\"#bd3786\"],[0.5555555555555556,\"#d8576b\"],[0.6666666666666666,\"#ed7953\"],[0.7777777777777778,\"#fb9f3a\"],[0.8888888888888888,\"#fdca26\"],[1.0,\"#f0f921\"]]}],\"mesh3d\":[{\"type\":\"mesh3d\",\"colorbar\":{\"outlinewidth\":0,\"ticks\":\"\"}}],\"scatter\":[{\"fillpattern\":{\"fillmode\":\"overlay\",\"size\":10,\"solidity\":0.2},\"type\":\"scatter\"}],\"parcoords\":[{\"type\":\"parcoords\",\"line\":{\"colorbar\":{\"outlinewidth\":0,\"ticks\":\"\"}}}],\"scatterpolargl\":[{\"type\":\"scatterpolargl\",\"marker\":{\"colorbar\":{\"outlinewidth\":0,\"ticks\":\"\"}}}],\"bar\":[{\"error_x\":{\"color\":\"#2a3f5f\"},\"error_y\":{\"color\":\"#2a3f5f\"},\"marker\":{\"line\":{\"color\":\"#E5ECF6\",\"width\":0.5},\"pattern\":{\"fillmode\":\"overlay\",\"size\":10,\"solidity\":0.2}},\"type\":\"bar\"}],\"scattergeo\":[{\"type\":\"scattergeo\",\"marker\":{\"colorbar\":{\"outlinewidth\":0,\"ticks\":\"\"}}}],\"scatterpolar\":[{\"type\":\"scatterpolar\",\"marker\":{\"colorbar\":{\"outlinewidth\":0,\"ticks\":\"\"}}}],\"histogram\":[{\"marker\":{\"pattern\":{\"fillmode\":\"overlay\",\"size\":10,\"solidity\":0.2}},\"type\":\"histogram\"}],\"scattergl\":[{\"type\":\"scattergl\",\"marker\":{\"colorbar\":{\"outlinewidth\":0,\"ticks\":\"\"}}}],\"scatter3d\":[{\"type\":\"scatter3d\",\"line\":{\"colorbar\":{\"outlinewidth\":0,\"ticks\":\"\"}},\"marker\":{\"colorbar\":{\"outlinewidth\":0,\"ticks\":\"\"}}}],\"scattermapbox\":[{\"type\":\"scattermapbox\",\"marker\":{\"colorbar\":{\"outlinewidth\":0,\"ticks\":\"\"}}}],\"scatterternary\":[{\"type\":\"scatterternary\",\"marker\":{\"colorbar\":{\"outlinewidth\":0,\"ticks\":\"\"}}}],\"scattercarpet\":[{\"type\":\"scattercarpet\",\"marker\":{\"colorbar\":{\"outlinewidth\":0,\"ticks\":\"\"}}}],\"carpet\":[{\"aaxis\":{\"endlinecolor\":\"#2a3f5f\",\"gridcolor\":\"white\",\"linecolor\":\"white\",\"minorgridcolor\":\"white\",\"startlinecolor\":\"#2a3f5f\"},\"baxis\":{\"endlinecolor\":\"#2a3f5f\",\"gridcolor\":\"white\",\"linecolor\":\"white\",\"minorgridcolor\":\"white\",\"startlinecolor\":\"#2a3f5f\"},\"type\":\"carpet\"}],\"table\":[{\"cells\":{\"fill\":{\"color\":\"#EBF0F8\"},\"line\":{\"color\":\"white\"}},\"header\":{\"fill\":{\"color\":\"#C8D4E3\"},\"line\":{\"color\":\"white\"}},\"type\":\"table\"}],\"barpolar\":[{\"marker\":{\"line\":{\"color\":\"#E5ECF6\",\"width\":0.5},\"pattern\":{\"fillmode\":\"overlay\",\"size\":10,\"solidity\":0.2}},\"type\":\"barpolar\"}],\"pie\":[{\"automargin\":true,\"type\":\"pie\"}]},\"layout\":{\"autotypenumbers\":\"strict\",\"colorway\":[\"#636efa\",\"#EF553B\",\"#00cc96\",\"#ab63fa\",\"#FFA15A\",\"#19d3f3\",\"#FF6692\",\"#B6E880\",\"#FF97FF\",\"#FECB52\"],\"font\":{\"color\":\"#2a3f5f\"},\"hovermode\":\"closest\",\"hoverlabel\":{\"align\":\"left\"},\"paper_bgcolor\":\"white\",\"plot_bgcolor\":\"#E5ECF6\",\"polar\":{\"bgcolor\":\"#E5ECF6\",\"angularaxis\":{\"gridcolor\":\"white\",\"linecolor\":\"white\",\"ticks\":\"\"},\"radialaxis\":{\"gridcolor\":\"white\",\"linecolor\":\"white\",\"ticks\":\"\"}},\"ternary\":{\"bgcolor\":\"#E5ECF6\",\"aaxis\":{\"gridcolor\":\"white\",\"linecolor\":\"white\",\"ticks\":\"\"},\"baxis\":{\"gridcolor\":\"white\",\"linecolor\":\"white\",\"ticks\":\"\"},\"caxis\":{\"gridcolor\":\"white\",\"linecolor\":\"white\",\"ticks\":\"\"}},\"coloraxis\":{\"colorbar\":{\"outlinewidth\":0,\"ticks\":\"\"}},\"colorscale\":{\"sequential\":[[0.0,\"#0d0887\"],[0.1111111111111111,\"#46039f\"],[0.2222222222222222,\"#7201a8\"],[0.3333333333333333,\"#9c179e\"],[0.4444444444444444,\"#bd3786\"],[0.5555555555555556,\"#d8576b\"],[0.6666666666666666,\"#ed7953\"],[0.7777777777777778,\"#fb9f3a\"],[0.8888888888888888,\"#fdca26\"],[1.0,\"#f0f921\"]],\"sequentialminus\":[[0.0,\"#0d0887\"],[0.1111111111111111,\"#46039f\"],[0.2222222222222222,\"#7201a8\"],[0.3333333333333333,\"#9c179e\"],[0.4444444444444444,\"#bd3786\"],[0.5555555555555556,\"#d8576b\"],[0.6666666666666666,\"#ed7953\"],[0.7777777777777778,\"#fb9f3a\"],[0.8888888888888888,\"#fdca26\"],[1.0,\"#f0f921\"]],\"diverging\":[[0,\"#8e0152\"],[0.1,\"#c51b7d\"],[0.2,\"#de77ae\"],[0.3,\"#f1b6da\"],[0.4,\"#fde0ef\"],[0.5,\"#f7f7f7\"],[0.6,\"#e6f5d0\"],[0.7,\"#b8e186\"],[0.8,\"#7fbc41\"],[0.9,\"#4d9221\"],[1,\"#276419\"]]},\"xaxis\":{\"gridcolor\":\"white\",\"linecolor\":\"white\",\"ticks\":\"\",\"title\":{\"standoff\":15},\"zerolinecolor\":\"white\",\"automargin\":true,\"zerolinewidth\":2},\"yaxis\":{\"gridcolor\":\"white\",\"linecolor\":\"white\",\"ticks\":\"\",\"title\":{\"standoff\":15},\"zerolinecolor\":\"white\",\"automargin\":true,\"zerolinewidth\":2},\"scene\":{\"xaxis\":{\"backgroundcolor\":\"#E5ECF6\",\"gridcolor\":\"white\",\"linecolor\":\"white\",\"showbackground\":true,\"ticks\":\"\",\"zerolinecolor\":\"white\",\"gridwidth\":2},\"yaxis\":{\"backgroundcolor\":\"#E5ECF6\",\"gridcolor\":\"white\",\"linecolor\":\"white\",\"showbackground\":true,\"ticks\":\"\",\"zerolinecolor\":\"white\",\"gridwidth\":2},\"zaxis\":{\"backgroundcolor\":\"#E5ECF6\",\"gridcolor\":\"white\",\"linecolor\":\"white\",\"showbackground\":true,\"ticks\":\"\",\"zerolinecolor\":\"white\",\"gridwidth\":2}},\"shapedefaults\":{\"line\":{\"color\":\"#2a3f5f\"}},\"annotationdefaults\":{\"arrowcolor\":\"#2a3f5f\",\"arrowhead\":0,\"arrowwidth\":1},\"geo\":{\"bgcolor\":\"white\",\"landcolor\":\"#E5ECF6\",\"subunitcolor\":\"white\",\"showland\":true,\"showlakes\":true,\"lakecolor\":\"white\"},\"title\":{\"x\":0.05},\"mapbox\":{\"style\":\"light\"}}},\"xaxis\":{\"anchor\":\"y\",\"domain\":[0.0,1.0],\"title\":{\"text\":\"GDP ($ per capita)\"}},\"yaxis\":{\"anchor\":\"x\",\"domain\":[0.0,1.0],\"title\":{\"text\":\"Phones (per 1000)\"}},\"legend\":{\"tracegroupgap\":0},\"margin\":{\"t\":60}},                        {\"responsive\": true}                    ).then(function(){\n",
       "                            \n",
       "var gd = document.getElementById('ab52788a-0a2a-4b72-9ee1-3bb36f46c337');\n",
       "var x = new MutationObserver(function (mutations, observer) {{\n",
       "        var display = window.getComputedStyle(gd).display;\n",
       "        if (!display || display === 'none') {{\n",
       "            console.log([gd, 'removed!']);\n",
       "            Plotly.purge(gd);\n",
       "            observer.disconnect();\n",
       "        }}\n",
       "}});\n",
       "\n",
       "// Listen for the removal of the full notebook cells\n",
       "var notebookContainer = gd.closest('#notebook-container');\n",
       "if (notebookContainer) {{\n",
       "    x.observe(notebookContainer, {childList: true});\n",
       "}}\n",
       "\n",
       "// Listen for the clearing of the current output cell\n",
       "var outputEl = gd.closest('.output');\n",
       "if (outputEl) {{\n",
       "    x.observe(outputEl, {childList: true});\n",
       "}}\n",
       "\n",
       "                        })                };                });            </script>        </div>"
      ]
     },
     "metadata": {},
     "output_type": "display_data"
    }
   ],
   "source": [
    "# Scatter Plot\n",
    "\n",
    "px.scatter(\n",
    "    graph_data, \n",
    "    x=\"GDP ($ per capita)\",\n",
    "    y=\"Phones (per 1000)\", \n",
    "    trendline=\"ols\", \n",
    "    hover_data=\"Country\",\n",
    "    log_x=False,trendline_options=dict(log_x=True))"
   ]
  },
  {
   "cell_type": "markdown",
   "id": "b7b24241",
   "metadata": {},
   "source": [
    "Below is a scatterplot of GDP ($ per capita) vs Infant mortality (per 1000 births). We can see that the relationship between the two variables is logarithmic. "
   ]
  },
  {
   "cell_type": "code",
   "execution_count": null,
   "id": "e3dbf94f",
   "metadata": {},
   "outputs": [],
   "source": [
    "px.scatter(\n",
    "    graph_data, \n",
    "    x=\"Infant mortality (per 1000 births)\",\n",
    "    y=\"GDP ($ per capita)\", \n",
    "    trendline=\"ols\", \n",
    "    hover_data=\"Country\",\n",
    "    log_x=False,trendline_options=dict(log_x=True))"
   ]
  },
  {
   "cell_type": "code",
   "execution_count": null,
   "id": "8645ae4b",
   "metadata": {},
   "outputs": [],
   "source": []
  },
  {
   "cell_type": "markdown",
   "id": "ce8e8f8c",
   "metadata": {},
   "source": [
    "Looking at a Scatter Matrix of our target + a subsection of our features can help us see and understand relationships between variables, especially trhe type of relationship. "
   ]
  },
  {
   "cell_type": "code",
   "execution_count": null,
   "id": "d6dd1f27",
   "metadata": {},
   "outputs": [
    {
     "data": {
      "application/vnd.plotly.v1+json": {
       "config": {
        "plotlyServerURL": "https://plot.ly"
       },
       "data": [
        {
         "customdata": [
          [
           "Afghanistan "
          ],
          [
           "Bangladesh "
          ],
          [
           "Bhutan "
          ],
          [
           "Brunei "
          ],
          [
           "Burma "
          ],
          [
           "Cambodia "
          ],
          [
           "China "
          ],
          [
           "East Timor "
          ],
          [
           "Hong Kong "
          ],
          [
           "India "
          ],
          [
           "Indonesia "
          ],
          [
           "Iran "
          ],
          [
           "Japan "
          ],
          [
           "Korea, North "
          ],
          [
           "Korea, South "
          ],
          [
           "Laos "
          ],
          [
           "Macau "
          ],
          [
           "Malaysia "
          ],
          [
           "Maldives "
          ],
          [
           "Mongolia "
          ],
          [
           "Nepal "
          ],
          [
           "Pakistan "
          ],
          [
           "Philippines "
          ],
          [
           "Singapore "
          ],
          [
           "Sri Lanka "
          ],
          [
           "Taiwan "
          ],
          [
           "Thailand "
          ],
          [
           "Vietnam "
          ]
         ],
         "dimensions": [
          {
           "axis": {
            "matches": true
           },
           "label": "GDP ($ per capita)",
           "values": [
            700,
            1900,
            1300,
            18600,
            1800,
            1900,
            5000,
            500,
            28800,
            2900,
            3200,
            7000,
            28200,
            1300,
            17800,
            1700,
            19400,
            9000,
            3900,
            1800,
            1400,
            2100,
            4600,
            23700,
            3700,
            23400,
            7400,
            2500
           ]
          },
          {
           "axis": {
            "matches": true
           },
           "label": "Net migration",
           "values": [
            23.06,
            -0.71,
            0,
            3.59,
            -1.8,
            0,
            -0.4,
            0,
            5.24,
            -0.07,
            0,
            -0.84,
            0,
            0,
            0,
            0,
            4.86,
            0,
            0,
            0,
            0,
            -2.77,
            -1.5,
            11.53,
            -1.31,
            0,
            0,
            -0.45
           ]
          },
          {
           "axis": {
            "matches": true
           },
           "label": "Deathrate",
           "values": [
            20.34,
            8.27,
            12.7,
            3.45,
            9.83,
            9.06,
            6.97,
            6.24,
            6.29,
            8.18,
            6.25,
            5.55,
            9.16,
            7.13,
            5.85,
            11.55,
            4.47,
            5.05,
            7.06,
            6.95,
            9.31,
            8.23,
            5.41,
            4.28,
            6.52,
            6.48,
            7.04,
            6.22
           ]
          },
          {
           "axis": {
            "matches": true
           },
           "label": "Literacy (%)",
           "values": [
            36,
            43.1,
            42.2,
            93.9,
            85.3,
            69.4,
            90.9,
            58.6,
            93.5,
            59.5,
            87.9,
            79.4,
            99,
            99,
            97.9,
            66.4,
            94.5,
            88.7,
            97.2,
            97.8,
            45.2,
            45.7,
            92.6,
            92.5,
            92.3,
            96.1,
            92.6,
            90.3
           ]
          },
          {
           "axis": {
            "matches": true
           },
           "label": "Phones (per 1000)",
           "values": [
            3.2,
            7.3,
            14.3,
            237.2,
            10.1,
            2.6,
            266.7,
            61.5,
            546.7,
            45.4,
            52,
            276.4,
            461.2,
            42.4,
            486.1,
            14.1,
            384.9,
            179,
            90,
            55.1,
            15.9,
            31.8,
            38.4,
            411.4,
            61.5,
            591,
            108.9,
            187.7
           ]
          },
          {
           "axis": {
            "matches": true
           },
           "label": "Birthrate",
           "values": [
            46.6,
            29.8,
            33.65,
            18.79,
            17.91,
            26.9,
            13.25,
            26.99,
            7.29,
            22.01,
            20.34,
            17,
            9.37,
            15.54,
            10,
            35.49,
            8.48,
            22.86,
            34.81,
            21.59,
            30.98,
            29.74,
            24.89,
            9.34,
            15.51,
            12.56,
            13.87,
            16.86
           ]
          }
         ],
         "hovertemplate": "Region=ASIA (EX. NEAR EAST)         <br>%{xaxis.title.text}=%{x}<br>%{yaxis.title.text}=%{y}<br>Country=%{customdata[0]}<extra></extra>",
         "legendgroup": "ASIA (EX. NEAR EAST)         ",
         "marker": {
          "color": "#636efa",
          "symbol": "circle"
         },
         "name": "ASIA (EX. NEAR EAST)         ",
         "showlegend": true,
         "type": "splom"
        },
        {
         "customdata": [
          [
           "Albania "
          ],
          [
           "Bosnia & Herzegovina "
          ],
          [
           "Bulgaria "
          ],
          [
           "Croatia "
          ],
          [
           "Czech Republic "
          ],
          [
           "Hungary "
          ],
          [
           "Macedonia "
          ],
          [
           "Poland "
          ],
          [
           "Romania "
          ],
          [
           "Serbia "
          ],
          [
           "Slovakia "
          ],
          [
           "Slovenia "
          ]
         ],
         "dimensions": [
          {
           "axis": {
            "matches": true
           },
           "label": "GDP ($ per capita)",
           "values": [
            4500,
            6100,
            7600,
            10600,
            15700,
            13900,
            6700,
            11100,
            7000,
            2200,
            13300,
            19000
           ]
          },
          {
           "axis": {
            "matches": true
           },
           "label": "Net migration",
           "values": [
            -4.93,
            0.31,
            -4.58,
            1.58,
            0.97,
            0.86,
            -1.45,
            -0.49,
            -0.13,
            -1.33,
            0.3,
            1.12
           ]
          },
          {
           "axis": {
            "matches": true
           },
           "label": "Deathrate",
           "values": [
            5.22,
            8.27,
            14.27,
            11.48,
            10.59,
            13.11,
            8.77,
            9.89,
            11.77,
            10.31,
            9.45,
            10.31
           ]
          },
          {
           "axis": {
            "matches": true
           },
           "label": "Literacy (%)",
           "values": [
            86.5,
            98.6,
            98.6,
            98.5,
            99.9,
            99.4,
            98.6,
            99.8,
            98.4,
            93,
            98.6,
            99.7
           ]
          },
          {
           "axis": {
            "matches": true
           },
           "label": "Phones (per 1000)",
           "values": [
            71.2,
            215.4,
            336.3,
            420.4,
            314.3,
            336.2,
            260,
            306.3,
            196.9,
            285.8,
            220.1,
            406.1
           ]
          },
          {
           "axis": {
            "matches": true
           },
           "label": "Birthrate",
           "values": [
            15.11,
            8.77,
            9.65,
            9.61,
            9.02,
            9.72,
            12.02,
            9.85,
            10.7,
            9.72,
            10.65,
            8.98
           ]
          }
         ],
         "hovertemplate": "Region=EASTERN EUROPE                     <br>%{xaxis.title.text}=%{x}<br>%{yaxis.title.text}=%{y}<br>Country=%{customdata[0]}<extra></extra>",
         "legendgroup": "EASTERN EUROPE                     ",
         "marker": {
          "color": "#EF553B",
          "symbol": "circle"
         },
         "name": "EASTERN EUROPE                     ",
         "showlegend": true,
         "type": "splom"
        },
        {
         "customdata": [
          [
           "Algeria "
          ],
          [
           "Egypt "
          ],
          [
           "Libya "
          ],
          [
           "Morocco "
          ],
          [
           "Tunisia "
          ],
          [
           "Western Sahara "
          ]
         ],
         "dimensions": [
          {
           "axis": {
            "matches": true
           },
           "label": "GDP ($ per capita)",
           "values": [
            6000,
            4000,
            6400,
            4000,
            6900,
            6000
           ]
          },
          {
           "axis": {
            "matches": true
           },
           "label": "Net migration",
           "values": [
            -0.39,
            -0.22,
            0,
            -0.98,
            -0.57,
            -0.39
           ]
          },
          {
           "axis": {
            "matches": true
           },
           "label": "Deathrate",
           "values": [
            4.61,
            5.23,
            3.48,
            5.58,
            5.13,
            5.13
           ]
          },
          {
           "axis": {
            "matches": true
           },
           "label": "Literacy (%)",
           "values": [
            70,
            57.7,
            82.6,
            51.7,
            74.2,
            70
           ]
          },
          {
           "axis": {
            "matches": true
           },
           "label": "Phones (per 1000)",
           "values": [
            78.1,
            131.8,
            127.1,
            40.4,
            123.6,
            123.6
           ]
          },
          {
           "axis": {
            "matches": true
           },
           "label": "Birthrate",
           "values": [
            17.14,
            22.94,
            26.49,
            21.98,
            15.52,
            21.98
           ]
          }
         ],
         "hovertemplate": "Region=NORTHERN AFRICA                    <br>%{xaxis.title.text}=%{x}<br>%{yaxis.title.text}=%{y}<br>Country=%{customdata[0]}<extra></extra>",
         "legendgroup": "NORTHERN AFRICA                    ",
         "marker": {
          "color": "#00cc96",
          "symbol": "circle"
         },
         "name": "NORTHERN AFRICA                    ",
         "showlegend": true,
         "type": "splom"
        },
        {
         "customdata": [
          [
           "American Samoa "
          ],
          [
           "Australia "
          ],
          [
           "Cook Islands "
          ],
          [
           "Fiji "
          ],
          [
           "French Polynesia "
          ],
          [
           "Guam "
          ],
          [
           "Kiribati "
          ],
          [
           "Marshall Islands "
          ],
          [
           "Micronesia, Fed. St. "
          ],
          [
           "Nauru "
          ],
          [
           "New Caledonia "
          ],
          [
           "New Zealand "
          ],
          [
           "N. Mariana Islands "
          ],
          [
           "Palau "
          ],
          [
           "Papua New Guinea "
          ],
          [
           "Samoa "
          ],
          [
           "Solomon Islands "
          ],
          [
           "Tonga "
          ],
          [
           "Tuvalu "
          ],
          [
           "Vanuatu "
          ],
          [
           "Wallis and Futuna "
          ]
         ],
         "dimensions": [
          {
           "axis": {
            "matches": true
           },
           "label": "GDP ($ per capita)",
           "values": [
            8000,
            29000,
            5000,
            5800,
            17500,
            21000,
            800,
            1600,
            2000,
            5000,
            15000,
            21600,
            12500,
            9000,
            2200,
            5600,
            1700,
            2200,
            1100,
            2900,
            3700
           ]
          },
          {
           "axis": {
            "matches": true
           },
           "label": "Net migration",
           "values": [
            -20.71,
            3.98,
            0,
            -3.14,
            2.94,
            0,
            0,
            -6.04,
            -20.99,
            0,
            0,
            4.05,
            9.61,
            2.85,
            0,
            -11.7,
            0,
            0,
            0,
            0,
            0
           ]
          },
          {
           "axis": {
            "matches": true
           },
           "label": "Deathrate",
           "values": [
            3.27,
            7.51,
            5.69,
            5.65,
            4.69,
            4.48,
            8.26,
            4.78,
            4.75,
            6.7,
            5.69,
            7.53,
            2.29,
            6.8,
            7.25,
            6.62,
            3.92,
            5.28,
            7.11,
            7.82,
            5.69
           ]
          },
          {
           "axis": {
            "matches": true
           },
           "label": "Literacy (%)",
           "values": [
            97,
            100,
            95,
            93.7,
            98,
            99,
            95,
            93.7,
            89,
            95,
            91,
            99,
            97,
            92,
            64.6,
            99.7,
            95,
            98.5,
            95,
            53,
            50
           ]
          },
          {
           "axis": {
            "matches": true
           },
           "label": "Phones (per 1000)",
           "values": [
            259.5,
            565.5,
            289.9,
            112.6,
            194.5,
            492,
            42.7,
            91.2,
            114.8,
            143,
            252.2,
            441.7,
            254.7,
            325.6,
            10.9,
            75.2,
            13.4,
            97.7,
            59.3,
            32.6,
            118.6
           ]
          },
          {
           "axis": {
            "matches": true
           },
           "label": "Birthrate",
           "values": [
            22.46,
            12.14,
            21,
            22.55,
            16.68,
            18.79,
            30.65,
            33.05,
            24.68,
            24.76,
            18.11,
            13.76,
            19.43,
            18.03,
            29.36,
            16.43,
            30.01,
            25.37,
            22.18,
            22.72,
            22.32
           ]
          }
         ],
         "hovertemplate": "Region=OCEANIA                            <br>%{xaxis.title.text}=%{x}<br>%{yaxis.title.text}=%{y}<br>Country=%{customdata[0]}<extra></extra>",
         "legendgroup": "OCEANIA                            ",
         "marker": {
          "color": "#ab63fa",
          "symbol": "circle"
         },
         "name": "OCEANIA                            ",
         "showlegend": true,
         "type": "splom"
        },
        {
         "customdata": [
          [
           "Andorra "
          ],
          [
           "Austria "
          ],
          [
           "Belgium "
          ],
          [
           "Denmark "
          ],
          [
           "Faroe Islands "
          ],
          [
           "Finland "
          ],
          [
           "France "
          ],
          [
           "Germany "
          ],
          [
           "Gibraltar "
          ],
          [
           "Greece "
          ],
          [
           "Guernsey "
          ],
          [
           "Iceland "
          ],
          [
           "Ireland "
          ],
          [
           "Isle of Man "
          ],
          [
           "Italy "
          ],
          [
           "Jersey "
          ],
          [
           "Liechtenstein "
          ],
          [
           "Luxembourg "
          ],
          [
           "Malta "
          ],
          [
           "Monaco "
          ],
          [
           "Netherlands "
          ],
          [
           "Norway "
          ],
          [
           "Portugal "
          ],
          [
           "San Marino "
          ],
          [
           "Spain "
          ],
          [
           "Sweden "
          ],
          [
           "Switzerland "
          ],
          [
           "United Kingdom "
          ]
         ],
         "dimensions": [
          {
           "axis": {
            "matches": true
           },
           "label": "GDP ($ per capita)",
           "values": [
            19000,
            30000,
            29100,
            31100,
            22000,
            27400,
            27600,
            27600,
            17500,
            20000,
            20000,
            30900,
            29600,
            21000,
            26700,
            24800,
            25000,
            55100,
            17700,
            27000,
            28600,
            37800,
            18000,
            34600,
            22000,
            26800,
            32700,
            27700
           ]
          },
          {
           "axis": {
            "matches": true
           },
           "label": "Net migration",
           "values": [
            6.6,
            2,
            1.23,
            2.48,
            1.41,
            0.95,
            0.66,
            2.18,
            0,
            2.35,
            3.84,
            2.38,
            4.99,
            5.36,
            2.07,
            2.76,
            4.85,
            8.97,
            2.07,
            7.75,
            2.91,
            1.74,
            3.57,
            10.98,
            0.99,
            1.67,
            4.05,
            2.19
           ]
          },
          {
           "axis": {
            "matches": true
           },
           "label": "Deathrate",
           "values": [
            6.25,
            9.76,
            10.27,
            10.36,
            8.7,
            9.86,
            9.14,
            10.62,
            9.31,
            10.24,
            10.01,
            6.72,
            7.82,
            11.19,
            10.4,
            9.28,
            7.18,
            8.41,
            8.1,
            12.91,
            8.68,
            9.4,
            10.5,
            8.17,
            9.72,
            10.31,
            8.49,
            10.13
           ]
          },
          {
           "axis": {
            "matches": true
           },
           "label": "Literacy (%)",
           "values": [
            100,
            98,
            98,
            100,
            99,
            100,
            99,
            99,
            99,
            97.5,
            99,
            99.9,
            98,
            99,
            98.6,
            99,
            100,
            100,
            92.8,
            99,
            99,
            100,
            93.3,
            96,
            97.9,
            99,
            99,
            99
           ]
          },
          {
           "axis": {
            "matches": true
           },
           "label": "Phones (per 1000)",
           "values": [
            497.2,
            452.2,
            462.6,
            614.6,
            503.8,
            405.3,
            586.4,
            667.9,
            877.7,
            589.7,
            842.4,
            647.7,
            500.5,
            676,
            430.9,
            811.3,
            585.5,
            515.4,
            505,
            1035.6,
            460.8,
            461.7,
            399.2,
            704.3,
            453.5,
            715,
            680.9,
            543.5
           ]
          },
          {
           "axis": {
            "matches": true
           },
           "label": "Birthrate",
           "values": [
            8.71,
            8.74,
            10.38,
            11.13,
            14.05,
            10.45,
            11.99,
            8.25,
            10.74,
            9.68,
            8.81,
            13.64,
            14.45,
            11.05,
            8.72,
            9.3,
            10.21,
            11.94,
            10.22,
            9.19,
            10.9,
            11.46,
            10.72,
            10.02,
            10.06,
            10.27,
            9.71,
            10.71
           ]
          }
         ],
         "hovertemplate": "Region=WESTERN EUROPE                     <br>%{xaxis.title.text}=%{x}<br>%{yaxis.title.text}=%{y}<br>Country=%{customdata[0]}<extra></extra>",
         "legendgroup": "WESTERN EUROPE                     ",
         "marker": {
          "color": "#FFA15A",
          "symbol": "circle"
         },
         "name": "WESTERN EUROPE                     ",
         "showlegend": true,
         "type": "splom"
        },
        {
         "customdata": [
          [
           "Angola "
          ],
          [
           "Benin "
          ],
          [
           "Botswana "
          ],
          [
           "Burkina Faso "
          ],
          [
           "Burundi "
          ],
          [
           "Cameroon "
          ],
          [
           "Cape Verde "
          ],
          [
           "Central African Rep. "
          ],
          [
           "Chad "
          ],
          [
           "Comoros "
          ],
          [
           "Congo, Dem. Rep. "
          ],
          [
           "Congo, Repub. of the "
          ],
          [
           "Cote d'Ivoire "
          ],
          [
           "Djibouti "
          ],
          [
           "Equatorial Guinea "
          ],
          [
           "Eritrea "
          ],
          [
           "Ethiopia "
          ],
          [
           "Gabon "
          ],
          [
           "Gambia, The "
          ],
          [
           "Ghana "
          ],
          [
           "Guinea "
          ],
          [
           "Guinea-Bissau "
          ],
          [
           "Kenya "
          ],
          [
           "Lesotho "
          ],
          [
           "Liberia "
          ],
          [
           "Madagascar "
          ],
          [
           "Malawi "
          ],
          [
           "Mali "
          ],
          [
           "Mauritania "
          ],
          [
           "Mauritius "
          ],
          [
           "Mayotte "
          ],
          [
           "Mozambique "
          ],
          [
           "Namibia "
          ],
          [
           "Niger "
          ],
          [
           "Nigeria "
          ],
          [
           "Reunion "
          ],
          [
           "Rwanda "
          ],
          [
           "Saint Helena "
          ],
          [
           "Sao Tome & Principe "
          ],
          [
           "Senegal "
          ],
          [
           "Seychelles "
          ],
          [
           "Sierra Leone "
          ],
          [
           "Somalia "
          ],
          [
           "South Africa "
          ],
          [
           "Sudan "
          ],
          [
           "Swaziland "
          ],
          [
           "Tanzania "
          ],
          [
           "Togo "
          ],
          [
           "Uganda "
          ],
          [
           "Zambia "
          ],
          [
           "Zimbabwe "
          ]
         ],
         "dimensions": [
          {
           "axis": {
            "matches": true
           },
           "label": "GDP ($ per capita)",
           "values": [
            1900,
            1100,
            9000,
            1100,
            600,
            1800,
            1400,
            1100,
            1200,
            700,
            700,
            700,
            1400,
            1300,
            2700,
            700,
            700,
            5500,
            1700,
            2200,
            2100,
            800,
            1000,
            3000,
            1000,
            800,
            600,
            900,
            1800,
            11400,
            2600,
            1200,
            7200,
            800,
            900,
            5800,
            1300,
            2500,
            1200,
            1600,
            7800,
            500,
            500,
            10700,
            1900,
            4900,
            600,
            1500,
            1400,
            800,
            1900
           ]
          },
          {
           "axis": {
            "matches": true
           },
           "label": "Net migration",
           "values": [
            0,
            0,
            0,
            0,
            -0.06,
            0,
            -12.07,
            0,
            -0.11,
            0,
            0,
            -0.17,
            -0.07,
            0,
            0,
            0,
            0,
            0,
            1.57,
            -0.64,
            -3.06,
            -1.57,
            -0.1,
            -0.74,
            0,
            0,
            0,
            -0.33,
            0,
            -0.9,
            6.78,
            0,
            0,
            -0.67,
            0.26,
            0,
            0,
            0,
            -2.72,
            0.2,
            -5.69,
            0,
            5.37,
            -0.29,
            -0.02,
            0,
            -2.06,
            0,
            0,
            0,
            0
           ]
          },
          {
           "axis": {
            "matches": true
           },
           "label": "Deathrate",
           "values": [
            24.2,
            12.22,
            29.5,
            15.6,
            13.46,
            13.47,
            6.55,
            18.65,
            16.38,
            8.2,
            13.27,
            12.93,
            14.84,
            19.31,
            15.06,
            9.6,
            14.86,
            12.25,
            12.25,
            9.72,
            15.48,
            16.53,
            14.02,
            28.71,
            23.1,
            11.11,
            19.33,
            16.89,
            12.16,
            6.86,
            7.7,
            21.35,
            18.86,
            20.91,
            16.94,
            5.49,
            16.09,
            6.53,
            6.47,
            9.42,
            6.29,
            23.03,
            16.63,
            22,
            8.97,
            29.74,
            16.39,
            9.83,
            12.24,
            19.93,
            21.84
           ]
          },
          {
           "axis": {
            "matches": true
           },
           "label": "Literacy (%)",
           "values": [
            42,
            40.9,
            79.8,
            26.6,
            51.6,
            79,
            76.6,
            51,
            47.5,
            56.5,
            65.5,
            83.8,
            50.9,
            67.9,
            85.7,
            58.6,
            42.7,
            63.2,
            40.1,
            74.8,
            35.9,
            42.4,
            85.1,
            84.8,
            57.5,
            68.9,
            62.7,
            46.4,
            41.7,
            85.6,
            62.95,
            47.8,
            84,
            17.6,
            68,
            88.9,
            70.4,
            97,
            79.3,
            40.2,
            58,
            31.4,
            37.8,
            86.4,
            61.1,
            81.6,
            78.2,
            60.9,
            69.9,
            80.6,
            90.7
           ]
          },
          {
           "axis": {
            "matches": true
           },
           "label": "Phones (per 1000)",
           "values": [
            7.8,
            9.7,
            80.5,
            7,
            3.4,
            5.7,
            169.6,
            2.3,
            1.3,
            24.5,
            0.2,
            3.7,
            14.6,
            22.8,
            18.5,
            7.9,
            8.2,
            27.4,
            26.8,
            14.4,
            2.7,
            7.4,
            8.1,
            23.7,
            2.3,
            3.6,
            7.9,
            6.4,
            12.9,
            289.3,
            49.7,
            3.5,
            62.6,
            1.9,
            9.3,
            380.9,
            2.7,
            293.3,
            36.2,
            22.2,
            262.4,
            4,
            11.3,
            107,
            16.3,
            30.8,
            4,
            10.6,
            3.6,
            8.2,
            26.8
           ]
          },
          {
           "axis": {
            "matches": true
           },
           "label": "Birthrate",
           "values": [
            45.11,
            38.85,
            23.08,
            45.62,
            42.22,
            33.89,
            24.87,
            33.91,
            45.73,
            36.93,
            43.69,
            42.57,
            35.11,
            39.53,
            35.59,
            34.33,
            37.98,
            36.16,
            39.37,
            30.52,
            41.76,
            37.22,
            39.72,
            24.75,
            44.77,
            41.41,
            43.13,
            49.82,
            40.99,
            15.43,
            40.95,
            35.18,
            24.32,
            50.73,
            40.43,
            18.9,
            40.37,
            12.13,
            40.25,
            32.78,
            16.03,
            45.76,
            45.13,
            18.2,
            34.53,
            27.41,
            37.71,
            37.01,
            47.35,
            41,
            28.01
           ]
          }
         ],
         "hovertemplate": "Region=SUB-SAHARAN AFRICA                 <br>%{xaxis.title.text}=%{x}<br>%{yaxis.title.text}=%{y}<br>Country=%{customdata[0]}<extra></extra>",
         "legendgroup": "SUB-SAHARAN AFRICA                 ",
         "marker": {
          "color": "#19d3f3",
          "symbol": "circle"
         },
         "name": "SUB-SAHARAN AFRICA                 ",
         "showlegend": true,
         "type": "splom"
        },
        {
         "customdata": [
          [
           "Anguilla "
          ],
          [
           "Antigua & Barbuda "
          ],
          [
           "Argentina "
          ],
          [
           "Aruba "
          ],
          [
           "Bahamas, The "
          ],
          [
           "Barbados "
          ],
          [
           "Belize "
          ],
          [
           "Bolivia "
          ],
          [
           "Brazil "
          ],
          [
           "British Virgin Is. "
          ],
          [
           "Cayman Islands "
          ],
          [
           "Chile "
          ],
          [
           "Colombia "
          ],
          [
           "Costa Rica "
          ],
          [
           "Cuba "
          ],
          [
           "Dominica "
          ],
          [
           "Dominican Republic "
          ],
          [
           "Ecuador "
          ],
          [
           "El Salvador "
          ],
          [
           "French Guiana "
          ],
          [
           "Grenada "
          ],
          [
           "Guadeloupe "
          ],
          [
           "Guatemala "
          ],
          [
           "Guyana "
          ],
          [
           "Haiti "
          ],
          [
           "Honduras "
          ],
          [
           "Jamaica "
          ],
          [
           "Martinique "
          ],
          [
           "Mexico "
          ],
          [
           "Montserrat "
          ],
          [
           "Netherlands Antilles "
          ],
          [
           "Nicaragua "
          ],
          [
           "Panama "
          ],
          [
           "Paraguay "
          ],
          [
           "Peru "
          ],
          [
           "Puerto Rico "
          ],
          [
           "Saint Kitts & Nevis "
          ],
          [
           "Saint Lucia "
          ],
          [
           "Saint Vincent and the Grenadines "
          ],
          [
           "Suriname "
          ],
          [
           "Trinidad & Tobago "
          ],
          [
           "Turks & Caicos Is "
          ],
          [
           "Uruguay "
          ],
          [
           "Venezuela "
          ],
          [
           "Virgin Islands "
          ]
         ],
         "dimensions": [
          {
           "axis": {
            "matches": true
           },
           "label": "GDP ($ per capita)",
           "values": [
            8600,
            11000,
            11200,
            28000,
            16700,
            15700,
            4900,
            2400,
            7600,
            16000,
            35000,
            9900,
            6300,
            9100,
            2900,
            5400,
            6000,
            3300,
            4800,
            8300,
            5000,
            8000,
            4100,
            4000,
            1600,
            2600,
            3900,
            14400,
            9000,
            3400,
            11400,
            2300,
            6300,
            4700,
            5100,
            16800,
            8800,
            5400,
            2900,
            4000,
            9500,
            9600,
            12800,
            4800,
            17200
           ]
          },
          {
           "axis": {
            "matches": true
           },
           "label": "Net migration",
           "values": [
            10.76,
            -6.15,
            0.61,
            0,
            -2.2,
            -0.31,
            0,
            -1.32,
            -0.03,
            10.01,
            18.75,
            0,
            -0.31,
            0.51,
            -1.58,
            -13.87,
            -3.22,
            -8.58,
            -3.74,
            6.27,
            -13.92,
            -0.15,
            -1.67,
            -2.07,
            -3.4,
            -1.99,
            -4.92,
            -0.05,
            -4.87,
            0,
            -0.41,
            -1.22,
            -0.91,
            -0.08,
            -1.05,
            -1.46,
            -7.11,
            -2.67,
            -7.64,
            -8.81,
            -10.83,
            11.68,
            -0.32,
            -0.04,
            -8.94
           ]
          },
          {
           "axis": {
            "matches": true
           },
           "label": "Deathrate",
           "values": [
            5.34,
            5.37,
            7.55,
            6.68,
            9.05,
            8.67,
            5.72,
            7.53,
            6.17,
            4.42,
            4.89,
            5.81,
            5.58,
            4.36,
            7.22,
            6.73,
            5.73,
            4.23,
            5.78,
            4.88,
            6.88,
            6.09,
            5.2,
            8.28,
            12.17,
            5.28,
            6.52,
            6.48,
            4.74,
            7.1,
            6.45,
            4.45,
            5.36,
            4.49,
            6.23,
            7.65,
            8.33,
            5.08,
            5.98,
            7.27,
            10.57,
            4.21,
            9.05,
            4.92,
            6.43
           ]
          },
          {
           "axis": {
            "matches": true
           },
           "label": "Literacy (%)",
           "values": [
            95,
            89,
            97.1,
            97,
            95.6,
            97.4,
            94.1,
            87.2,
            86.4,
            97.8,
            98,
            96.2,
            92.5,
            96,
            97,
            94,
            84.7,
            92.5,
            80.2,
            83,
            98,
            90,
            70.6,
            98.8,
            52.9,
            76.2,
            87.9,
            97.7,
            92.2,
            97,
            96.7,
            67.5,
            92.6,
            94,
            90.9,
            94.1,
            97,
            67,
            96,
            93,
            98.6,
            98,
            98,
            93.4,
            94.05
           ]
          },
          {
           "axis": {
            "matches": true
           },
           "label": "Phones (per 1000)",
           "values": [
            460,
            549.9,
            220.4,
            516.1,
            460.6,
            481.9,
            115.7,
            71.9,
            225.3,
            506.5,
            836.3,
            213,
            176.2,
            340.7,
            74.7,
            304.8,
            97.4,
            125.6,
            142.4,
            255.6,
            364.5,
            463.8,
            92.1,
            143.5,
            16.9,
            67.5,
            124,
            394.4,
            181.6,
            222.85000000000002,
            365.3,
            39.7,
            137.9,
            49.2,
            79.5,
            283.1,
            638.9,
            303.3,
            190.9,
            184.7,
            303.5,
            269.5,
            291.4,
            140.1,
            652.8
           ]
          },
          {
           "axis": {
            "matches": true
           },
           "label": "Birthrate",
           "values": [
            14.17,
            16.93,
            16.73,
            11.03,
            17.57,
            12.71,
            28.84,
            23.3,
            16.56,
            14.89,
            12.74,
            15.23,
            20.48,
            18.32,
            11.89,
            15.27,
            23.22,
            22.29,
            26.61,
            20.46,
            22.08,
            15.05,
            29.88,
            18.28,
            36.44,
            28.24,
            20.82,
            13.74,
            20.69,
            17.59,
            14.78,
            24.51,
            21.74,
            29.1,
            20.48,
            12.77,
            18.02,
            19.68,
            16.18,
            18.02,
            12.9,
            21.84,
            13.91,
            18.71,
            13.96
           ]
          }
         ],
         "hovertemplate": "Region=LATIN AMER. & CARIB    <br>%{xaxis.title.text}=%{x}<br>%{yaxis.title.text}=%{y}<br>Country=%{customdata[0]}<extra></extra>",
         "legendgroup": "LATIN AMER. & CARIB    ",
         "marker": {
          "color": "#FF6692",
          "symbol": "circle"
         },
         "name": "LATIN AMER. & CARIB    ",
         "showlegend": true,
         "type": "splom"
        },
        {
         "customdata": [
          [
           "Armenia "
          ],
          [
           "Azerbaijan "
          ],
          [
           "Belarus "
          ],
          [
           "Georgia "
          ],
          [
           "Kazakhstan "
          ],
          [
           "Kyrgyzstan "
          ],
          [
           "Moldova "
          ],
          [
           "Russia "
          ],
          [
           "Tajikistan "
          ],
          [
           "Turkmenistan "
          ],
          [
           "Ukraine "
          ],
          [
           "Uzbekistan "
          ]
         ],
         "dimensions": [
          {
           "axis": {
            "matches": true
           },
           "label": "GDP ($ per capita)",
           "values": [
            3500,
            3400,
            6100,
            2500,
            6300,
            1600,
            1800,
            8900,
            1000,
            5800,
            5400,
            1700
           ]
          },
          {
           "axis": {
            "matches": true
           },
           "label": "Net migration",
           "values": [
            -6.47,
            -4.9,
            2.54,
            -4.7,
            -3.35,
            -2.45,
            -0.26,
            1.02,
            -2.86,
            -0.86,
            -0.39,
            -1.72
           ]
          },
          {
           "axis": {
            "matches": true
           },
           "label": "Deathrate",
           "values": [
            8.23,
            9.75,
            14.02,
            9.23,
            9.42,
            7.08,
            12.64,
            14.65,
            8.25,
            8.6,
            14.39,
            7.84
           ]
          },
          {
           "axis": {
            "matches": true
           },
           "label": "Literacy (%)",
           "values": [
            98.6,
            97,
            99.6,
            99,
            98.4,
            97,
            99.1,
            99.6,
            99.4,
            98,
            99.7,
            99.3
           ]
          },
          {
           "axis": {
            "matches": true
           },
           "label": "Phones (per 1000)",
           "values": [
            195.7,
            137.1,
            319.1,
            146.6,
            164.1,
            84,
            208.1,
            280.6,
            33.5,
            74.6,
            259.9,
            62.9
           ]
          },
          {
           "axis": {
            "matches": true
           },
           "label": "Birthrate",
           "values": [
            12.07,
            20.74,
            11.16,
            10.41,
            16,
            22.8,
            15.7,
            9.95,
            32.65,
            27.61,
            8.82,
            26.36
           ]
          }
         ],
         "hovertemplate": "Region=C.W. OF IND. STATES <br>%{xaxis.title.text}=%{x}<br>%{yaxis.title.text}=%{y}<br>Country=%{customdata[0]}<extra></extra>",
         "legendgroup": "C.W. OF IND. STATES ",
         "marker": {
          "color": "#B6E880",
          "symbol": "circle"
         },
         "name": "C.W. OF IND. STATES ",
         "showlegend": true,
         "type": "splom"
        },
        {
         "customdata": [
          [
           "Bahrain "
          ],
          [
           "Cyprus "
          ],
          [
           "Gaza Strip "
          ],
          [
           "Iraq "
          ],
          [
           "Israel "
          ],
          [
           "Jordan "
          ],
          [
           "Kuwait "
          ],
          [
           "Lebanon "
          ],
          [
           "Oman "
          ],
          [
           "Qatar "
          ],
          [
           "Saudi Arabia "
          ],
          [
           "Syria "
          ],
          [
           "Turkey "
          ],
          [
           "United Arab Emirates "
          ],
          [
           "West Bank "
          ],
          [
           "Yemen "
          ]
         ],
         "dimensions": [
          {
           "axis": {
            "matches": true
           },
           "label": "GDP ($ per capita)",
           "values": [
            16900,
            19200,
            600,
            1500,
            19800,
            4300,
            19000,
            4800,
            13100,
            21500,
            11800,
            3300,
            6700,
            23200,
            800,
            800
           ]
          },
          {
           "axis": {
            "matches": true
           },
           "label": "Net migration",
           "values": [
            1.05,
            0.43,
            1.6,
            0,
            0.68,
            6.59,
            14.18,
            0,
            0.28,
            16.29,
            -2.71,
            0,
            0,
            1.03,
            2.98,
            0
           ]
          },
          {
           "axis": {
            "matches": true
           },
           "label": "Deathrate",
           "values": [
            4.14,
            7.68,
            3.8,
            5.37,
            6.18,
            2.65,
            2.41,
            6.21,
            3.81,
            4.72,
            2.58,
            4.81,
            5.97,
            4.4,
            3.92,
            8.3
           ]
          },
          {
           "axis": {
            "matches": true
           },
           "label": "Literacy (%)",
           "values": [
            89.1,
            97.6,
            83,
            40.4,
            95.4,
            91.3,
            83.5,
            87.4,
            75.8,
            82.5,
            78.8,
            76.9,
            86.5,
            77.9,
            83,
            50.2
           ]
          },
          {
           "axis": {
            "matches": true
           },
           "label": "Phones (per 1000)",
           "values": [
            281.3,
            211,
            244.3,
            38.6,
            462.3,
            104.5,
            211,
            255.6,
            85.5,
            232,
            140.6,
            153.8,
            269.5,
            475.3,
            145.2,
            37.2
           ]
          },
          {
           "axis": {
            "matches": true
           },
           "label": "Birthrate",
           "values": [
            17.8,
            12.56,
            39.45,
            31.98,
            17.97,
            21.25,
            21.94,
            18.52,
            36.24,
            15.56,
            29.34,
            27.76,
            16.62,
            18.96,
            31.67,
            42.89
           ]
          }
         ],
         "hovertemplate": "Region=NEAR EAST                          <br>%{xaxis.title.text}=%{x}<br>%{yaxis.title.text}=%{y}<br>Country=%{customdata[0]}<extra></extra>",
         "legendgroup": "NEAR EAST                          ",
         "marker": {
          "color": "#FF97FF",
          "symbol": "circle"
         },
         "name": "NEAR EAST                          ",
         "showlegend": true,
         "type": "splom"
        },
        {
         "customdata": [
          [
           "Bermuda "
          ],
          [
           "Canada "
          ],
          [
           "Greenland "
          ],
          [
           "St Pierre & Miquelon "
          ],
          [
           "United States "
          ]
         ],
         "dimensions": [
          {
           "axis": {
            "matches": true
           },
           "label": "GDP ($ per capita)",
           "values": [
            36000,
            29800,
            20000,
            6900,
            37800
           ]
          },
          {
           "axis": {
            "matches": true
           },
           "label": "Net migration",
           "values": [
            2.49,
            5.96,
            -8.37,
            -4.86,
            3.41
           ]
          },
          {
           "axis": {
            "matches": true
           },
           "label": "Deathrate",
           "values": [
            7.74,
            7.8,
            7.84,
            6.83,
            8.26
           ]
          },
          {
           "axis": {
            "matches": true
           },
           "label": "Literacy (%)",
           "values": [
            98,
            97,
            97.5,
            99,
            97
           ]
          },
          {
           "axis": {
            "matches": true
           },
           "label": "Phones (per 1000)",
           "values": [
            851.4,
            552.2,
            448.9,
            683.2,
            898
           ]
          },
          {
           "axis": {
            "matches": true
           },
           "label": "Birthrate",
           "values": [
            11.4,
            10.78,
            15.93,
            13.52,
            14.14
           ]
          }
         ],
         "hovertemplate": "Region=NORTHERN AMERICA                   <br>%{xaxis.title.text}=%{x}<br>%{yaxis.title.text}=%{y}<br>Country=%{customdata[0]}<extra></extra>",
         "legendgroup": "NORTHERN AMERICA                   ",
         "marker": {
          "color": "#FECB52",
          "symbol": "circle"
         },
         "name": "NORTHERN AMERICA                   ",
         "showlegend": true,
         "type": "splom"
        },
        {
         "customdata": [
          [
           "Estonia "
          ],
          [
           "Latvia "
          ],
          [
           "Lithuania "
          ]
         ],
         "dimensions": [
          {
           "axis": {
            "matches": true
           },
           "label": "GDP ($ per capita)",
           "values": [
            12300,
            10200,
            11400
           ]
          },
          {
           "axis": {
            "matches": true
           },
           "label": "Net migration",
           "values": [
            -3.16,
            -2.23,
            -0.71
           ]
          },
          {
           "axis": {
            "matches": true
           },
           "label": "Deathrate",
           "values": [
            13.25,
            13.66,
            10.98
           ]
          },
          {
           "axis": {
            "matches": true
           },
           "label": "Literacy (%)",
           "values": [
            99.8,
            99.8,
            99.6
           ]
          },
          {
           "axis": {
            "matches": true
           },
           "label": "Phones (per 1000)",
           "values": [
            333.8,
            321.4,
            223.4
           ]
          },
          {
           "axis": {
            "matches": true
           },
           "label": "Birthrate",
           "values": [
            10.04,
            9.24,
            8.75
           ]
          }
         ],
         "hovertemplate": "Region=BALTICS                            <br>%{xaxis.title.text}=%{x}<br>%{yaxis.title.text}=%{y}<br>Country=%{customdata[0]}<extra></extra>",
         "legendgroup": "BALTICS                            ",
         "marker": {
          "color": "#636efa",
          "symbol": "circle"
         },
         "name": "BALTICS                            ",
         "showlegend": true,
         "type": "splom"
        }
       ],
       "layout": {
        "dragmode": "select",
        "height": 1080,
        "legend": {
         "title": {
          "text": "Region"
         },
         "tracegroupgap": 0
        },
        "margin": {
         "t": 60
        },
        "template": {
         "data": {
          "bar": [
           {
            "error_x": {
             "color": "#2a3f5f"
            },
            "error_y": {
             "color": "#2a3f5f"
            },
            "marker": {
             "line": {
              "color": "#E5ECF6",
              "width": 0.5
             },
             "pattern": {
              "fillmode": "overlay",
              "size": 10,
              "solidity": 0.2
             }
            },
            "type": "bar"
           }
          ],
          "barpolar": [
           {
            "marker": {
             "line": {
              "color": "#E5ECF6",
              "width": 0.5
             },
             "pattern": {
              "fillmode": "overlay",
              "size": 10,
              "solidity": 0.2
             }
            },
            "type": "barpolar"
           }
          ],
          "carpet": [
           {
            "aaxis": {
             "endlinecolor": "#2a3f5f",
             "gridcolor": "white",
             "linecolor": "white",
             "minorgridcolor": "white",
             "startlinecolor": "#2a3f5f"
            },
            "baxis": {
             "endlinecolor": "#2a3f5f",
             "gridcolor": "white",
             "linecolor": "white",
             "minorgridcolor": "white",
             "startlinecolor": "#2a3f5f"
            },
            "type": "carpet"
           }
          ],
          "choropleth": [
           {
            "colorbar": {
             "outlinewidth": 0,
             "ticks": ""
            },
            "type": "choropleth"
           }
          ],
          "contour": [
           {
            "colorbar": {
             "outlinewidth": 0,
             "ticks": ""
            },
            "colorscale": [
             [
              0,
              "#0d0887"
             ],
             [
              0.1111111111111111,
              "#46039f"
             ],
             [
              0.2222222222222222,
              "#7201a8"
             ],
             [
              0.3333333333333333,
              "#9c179e"
             ],
             [
              0.4444444444444444,
              "#bd3786"
             ],
             [
              0.5555555555555556,
              "#d8576b"
             ],
             [
              0.6666666666666666,
              "#ed7953"
             ],
             [
              0.7777777777777778,
              "#fb9f3a"
             ],
             [
              0.8888888888888888,
              "#fdca26"
             ],
             [
              1,
              "#f0f921"
             ]
            ],
            "type": "contour"
           }
          ],
          "contourcarpet": [
           {
            "colorbar": {
             "outlinewidth": 0,
             "ticks": ""
            },
            "type": "contourcarpet"
           }
          ],
          "heatmap": [
           {
            "colorbar": {
             "outlinewidth": 0,
             "ticks": ""
            },
            "colorscale": [
             [
              0,
              "#0d0887"
             ],
             [
              0.1111111111111111,
              "#46039f"
             ],
             [
              0.2222222222222222,
              "#7201a8"
             ],
             [
              0.3333333333333333,
              "#9c179e"
             ],
             [
              0.4444444444444444,
              "#bd3786"
             ],
             [
              0.5555555555555556,
              "#d8576b"
             ],
             [
              0.6666666666666666,
              "#ed7953"
             ],
             [
              0.7777777777777778,
              "#fb9f3a"
             ],
             [
              0.8888888888888888,
              "#fdca26"
             ],
             [
              1,
              "#f0f921"
             ]
            ],
            "type": "heatmap"
           }
          ],
          "heatmapgl": [
           {
            "colorbar": {
             "outlinewidth": 0,
             "ticks": ""
            },
            "colorscale": [
             [
              0,
              "#0d0887"
             ],
             [
              0.1111111111111111,
              "#46039f"
             ],
             [
              0.2222222222222222,
              "#7201a8"
             ],
             [
              0.3333333333333333,
              "#9c179e"
             ],
             [
              0.4444444444444444,
              "#bd3786"
             ],
             [
              0.5555555555555556,
              "#d8576b"
             ],
             [
              0.6666666666666666,
              "#ed7953"
             ],
             [
              0.7777777777777778,
              "#fb9f3a"
             ],
             [
              0.8888888888888888,
              "#fdca26"
             ],
             [
              1,
              "#f0f921"
             ]
            ],
            "type": "heatmapgl"
           }
          ],
          "histogram": [
           {
            "marker": {
             "pattern": {
              "fillmode": "overlay",
              "size": 10,
              "solidity": 0.2
             }
            },
            "type": "histogram"
           }
          ],
          "histogram2d": [
           {
            "colorbar": {
             "outlinewidth": 0,
             "ticks": ""
            },
            "colorscale": [
             [
              0,
              "#0d0887"
             ],
             [
              0.1111111111111111,
              "#46039f"
             ],
             [
              0.2222222222222222,
              "#7201a8"
             ],
             [
              0.3333333333333333,
              "#9c179e"
             ],
             [
              0.4444444444444444,
              "#bd3786"
             ],
             [
              0.5555555555555556,
              "#d8576b"
             ],
             [
              0.6666666666666666,
              "#ed7953"
             ],
             [
              0.7777777777777778,
              "#fb9f3a"
             ],
             [
              0.8888888888888888,
              "#fdca26"
             ],
             [
              1,
              "#f0f921"
             ]
            ],
            "type": "histogram2d"
           }
          ],
          "histogram2dcontour": [
           {
            "colorbar": {
             "outlinewidth": 0,
             "ticks": ""
            },
            "colorscale": [
             [
              0,
              "#0d0887"
             ],
             [
              0.1111111111111111,
              "#46039f"
             ],
             [
              0.2222222222222222,
              "#7201a8"
             ],
             [
              0.3333333333333333,
              "#9c179e"
             ],
             [
              0.4444444444444444,
              "#bd3786"
             ],
             [
              0.5555555555555556,
              "#d8576b"
             ],
             [
              0.6666666666666666,
              "#ed7953"
             ],
             [
              0.7777777777777778,
              "#fb9f3a"
             ],
             [
              0.8888888888888888,
              "#fdca26"
             ],
             [
              1,
              "#f0f921"
             ]
            ],
            "type": "histogram2dcontour"
           }
          ],
          "mesh3d": [
           {
            "colorbar": {
             "outlinewidth": 0,
             "ticks": ""
            },
            "type": "mesh3d"
           }
          ],
          "parcoords": [
           {
            "line": {
             "colorbar": {
              "outlinewidth": 0,
              "ticks": ""
             }
            },
            "type": "parcoords"
           }
          ],
          "pie": [
           {
            "automargin": true,
            "type": "pie"
           }
          ],
          "scatter": [
           {
            "fillpattern": {
             "fillmode": "overlay",
             "size": 10,
             "solidity": 0.2
            },
            "type": "scatter"
           }
          ],
          "scatter3d": [
           {
            "line": {
             "colorbar": {
              "outlinewidth": 0,
              "ticks": ""
             }
            },
            "marker": {
             "colorbar": {
              "outlinewidth": 0,
              "ticks": ""
             }
            },
            "type": "scatter3d"
           }
          ],
          "scattercarpet": [
           {
            "marker": {
             "colorbar": {
              "outlinewidth": 0,
              "ticks": ""
             }
            },
            "type": "scattercarpet"
           }
          ],
          "scattergeo": [
           {
            "marker": {
             "colorbar": {
              "outlinewidth": 0,
              "ticks": ""
             }
            },
            "type": "scattergeo"
           }
          ],
          "scattergl": [
           {
            "marker": {
             "colorbar": {
              "outlinewidth": 0,
              "ticks": ""
             }
            },
            "type": "scattergl"
           }
          ],
          "scattermapbox": [
           {
            "marker": {
             "colorbar": {
              "outlinewidth": 0,
              "ticks": ""
             }
            },
            "type": "scattermapbox"
           }
          ],
          "scatterpolar": [
           {
            "marker": {
             "colorbar": {
              "outlinewidth": 0,
              "ticks": ""
             }
            },
            "type": "scatterpolar"
           }
          ],
          "scatterpolargl": [
           {
            "marker": {
             "colorbar": {
              "outlinewidth": 0,
              "ticks": ""
             }
            },
            "type": "scatterpolargl"
           }
          ],
          "scatterternary": [
           {
            "marker": {
             "colorbar": {
              "outlinewidth": 0,
              "ticks": ""
             }
            },
            "type": "scatterternary"
           }
          ],
          "surface": [
           {
            "colorbar": {
             "outlinewidth": 0,
             "ticks": ""
            },
            "colorscale": [
             [
              0,
              "#0d0887"
             ],
             [
              0.1111111111111111,
              "#46039f"
             ],
             [
              0.2222222222222222,
              "#7201a8"
             ],
             [
              0.3333333333333333,
              "#9c179e"
             ],
             [
              0.4444444444444444,
              "#bd3786"
             ],
             [
              0.5555555555555556,
              "#d8576b"
             ],
             [
              0.6666666666666666,
              "#ed7953"
             ],
             [
              0.7777777777777778,
              "#fb9f3a"
             ],
             [
              0.8888888888888888,
              "#fdca26"
             ],
             [
              1,
              "#f0f921"
             ]
            ],
            "type": "surface"
           }
          ],
          "table": [
           {
            "cells": {
             "fill": {
              "color": "#EBF0F8"
             },
             "line": {
              "color": "white"
             }
            },
            "header": {
             "fill": {
              "color": "#C8D4E3"
             },
             "line": {
              "color": "white"
             }
            },
            "type": "table"
           }
          ]
         },
         "layout": {
          "annotationdefaults": {
           "arrowcolor": "#2a3f5f",
           "arrowhead": 0,
           "arrowwidth": 1
          },
          "autotypenumbers": "strict",
          "coloraxis": {
           "colorbar": {
            "outlinewidth": 0,
            "ticks": ""
           }
          },
          "colorscale": {
           "diverging": [
            [
             0,
             "#8e0152"
            ],
            [
             0.1,
             "#c51b7d"
            ],
            [
             0.2,
             "#de77ae"
            ],
            [
             0.3,
             "#f1b6da"
            ],
            [
             0.4,
             "#fde0ef"
            ],
            [
             0.5,
             "#f7f7f7"
            ],
            [
             0.6,
             "#e6f5d0"
            ],
            [
             0.7,
             "#b8e186"
            ],
            [
             0.8,
             "#7fbc41"
            ],
            [
             0.9,
             "#4d9221"
            ],
            [
             1,
             "#276419"
            ]
           ],
           "sequential": [
            [
             0,
             "#0d0887"
            ],
            [
             0.1111111111111111,
             "#46039f"
            ],
            [
             0.2222222222222222,
             "#7201a8"
            ],
            [
             0.3333333333333333,
             "#9c179e"
            ],
            [
             0.4444444444444444,
             "#bd3786"
            ],
            [
             0.5555555555555556,
             "#d8576b"
            ],
            [
             0.6666666666666666,
             "#ed7953"
            ],
            [
             0.7777777777777778,
             "#fb9f3a"
            ],
            [
             0.8888888888888888,
             "#fdca26"
            ],
            [
             1,
             "#f0f921"
            ]
           ],
           "sequentialminus": [
            [
             0,
             "#0d0887"
            ],
            [
             0.1111111111111111,
             "#46039f"
            ],
            [
             0.2222222222222222,
             "#7201a8"
            ],
            [
             0.3333333333333333,
             "#9c179e"
            ],
            [
             0.4444444444444444,
             "#bd3786"
            ],
            [
             0.5555555555555556,
             "#d8576b"
            ],
            [
             0.6666666666666666,
             "#ed7953"
            ],
            [
             0.7777777777777778,
             "#fb9f3a"
            ],
            [
             0.8888888888888888,
             "#fdca26"
            ],
            [
             1,
             "#f0f921"
            ]
           ]
          },
          "colorway": [
           "#636efa",
           "#EF553B",
           "#00cc96",
           "#ab63fa",
           "#FFA15A",
           "#19d3f3",
           "#FF6692",
           "#B6E880",
           "#FF97FF",
           "#FECB52"
          ],
          "font": {
           "color": "#2a3f5f"
          },
          "geo": {
           "bgcolor": "white",
           "lakecolor": "white",
           "landcolor": "#E5ECF6",
           "showlakes": true,
           "showland": true,
           "subunitcolor": "white"
          },
          "hoverlabel": {
           "align": "left"
          },
          "hovermode": "closest",
          "mapbox": {
           "style": "light"
          },
          "paper_bgcolor": "white",
          "plot_bgcolor": "#E5ECF6",
          "polar": {
           "angularaxis": {
            "gridcolor": "white",
            "linecolor": "white",
            "ticks": ""
           },
           "bgcolor": "#E5ECF6",
           "radialaxis": {
            "gridcolor": "white",
            "linecolor": "white",
            "ticks": ""
           }
          },
          "scene": {
           "xaxis": {
            "backgroundcolor": "#E5ECF6",
            "gridcolor": "white",
            "gridwidth": 2,
            "linecolor": "white",
            "showbackground": true,
            "ticks": "",
            "zerolinecolor": "white"
           },
           "yaxis": {
            "backgroundcolor": "#E5ECF6",
            "gridcolor": "white",
            "gridwidth": 2,
            "linecolor": "white",
            "showbackground": true,
            "ticks": "",
            "zerolinecolor": "white"
           },
           "zaxis": {
            "backgroundcolor": "#E5ECF6",
            "gridcolor": "white",
            "gridwidth": 2,
            "linecolor": "white",
            "showbackground": true,
            "ticks": "",
            "zerolinecolor": "white"
           }
          },
          "shapedefaults": {
           "line": {
            "color": "#2a3f5f"
           }
          },
          "ternary": {
           "aaxis": {
            "gridcolor": "white",
            "linecolor": "white",
            "ticks": ""
           },
           "baxis": {
            "gridcolor": "white",
            "linecolor": "white",
            "ticks": ""
           },
           "bgcolor": "#E5ECF6",
           "caxis": {
            "gridcolor": "white",
            "linecolor": "white",
            "ticks": ""
           }
          },
          "title": {
           "x": 0.05
          },
          "xaxis": {
           "automargin": true,
           "gridcolor": "white",
           "linecolor": "white",
           "ticks": "",
           "title": {
            "standoff": 15
           },
           "zerolinecolor": "white",
           "zerolinewidth": 2
          },
          "yaxis": {
           "automargin": true,
           "gridcolor": "white",
           "linecolor": "white",
           "ticks": "",
           "title": {
            "standoff": 15
           },
           "zerolinecolor": "white",
           "zerolinewidth": 2
          }
         }
        },
        "width": 2200
       }
      },
      "text/html": [
       "<div>                            <div id=\"2d969404-4627-4758-931f-968bed628a69\" class=\"plotly-graph-div\" style=\"height:1080px; width:2200px;\"></div>            <script type=\"text/javascript\">                require([\"plotly\"], function(Plotly) {                    window.PLOTLYENV=window.PLOTLYENV || {};                                    if (document.getElementById(\"2d969404-4627-4758-931f-968bed628a69\")) {                    Plotly.newPlot(                        \"2d969404-4627-4758-931f-968bed628a69\",                        [{\"customdata\":[[\"Afghanistan \"],[\"Bangladesh \"],[\"Bhutan \"],[\"Brunei \"],[\"Burma \"],[\"Cambodia \"],[\"China \"],[\"East Timor \"],[\"Hong Kong \"],[\"India \"],[\"Indonesia \"],[\"Iran \"],[\"Japan \"],[\"Korea, North \"],[\"Korea, South \"],[\"Laos \"],[\"Macau \"],[\"Malaysia \"],[\"Maldives \"],[\"Mongolia \"],[\"Nepal \"],[\"Pakistan \"],[\"Philippines \"],[\"Singapore \"],[\"Sri Lanka \"],[\"Taiwan \"],[\"Thailand \"],[\"Vietnam \"]],\"dimensions\":[{\"axis\":{\"matches\":true},\"label\":\"GDP ($ per capita)\",\"values\":[700.0,1900.0,1300.0,18600.0,1800.0,1900.0,5000.0,500.0,28800.0,2900.0,3200.0,7000.0,28200.0,1300.0,17800.0,1700.0,19400.0,9000.0,3900.0,1800.0,1400.0,2100.0,4600.0,23700.0,3700.0,23400.0,7400.0,2500.0]},{\"axis\":{\"matches\":true},\"label\":\"Net migration\",\"values\":[23.06,-0.71,0.0,3.59,-1.8,0.0,-0.4,0.0,5.24,-0.07,0.0,-0.84,0.0,0.0,0.0,0.0,4.86,0.0,0.0,0.0,0.0,-2.77,-1.5,11.53,-1.31,0.0,0.0,-0.45]},{\"axis\":{\"matches\":true},\"label\":\"Deathrate\",\"values\":[20.34,8.27,12.7,3.45,9.83,9.06,6.97,6.24,6.29,8.18,6.25,5.55,9.16,7.13,5.85,11.55,4.47,5.05,7.06,6.95,9.31,8.23,5.41,4.28,6.52,6.48,7.04,6.22]},{\"axis\":{\"matches\":true},\"label\":\"Literacy (%)\",\"values\":[36.0,43.1,42.2,93.9,85.3,69.4,90.9,58.6,93.5,59.5,87.9,79.4,99.0,99.0,97.9,66.4,94.5,88.7,97.2,97.8,45.2,45.7,92.6,92.5,92.3,96.1,92.6,90.3]},{\"axis\":{\"matches\":true},\"label\":\"Phones (per 1000)\",\"values\":[3.2,7.3,14.3,237.2,10.1,2.6,266.7,61.5,546.7,45.4,52.0,276.4,461.2,42.4,486.1,14.1,384.9,179.0,90.0,55.1,15.9,31.8,38.4,411.4,61.5,591.0,108.9,187.7]},{\"axis\":{\"matches\":true},\"label\":\"Birthrate\",\"values\":[46.6,29.8,33.65,18.79,17.91,26.9,13.25,26.99,7.29,22.01,20.34,17.0,9.37,15.54,10.0,35.49,8.48,22.86,34.81,21.59,30.98,29.74,24.89,9.34,15.51,12.56,13.87,16.86]}],\"hovertemplate\":\"Region=ASIA (EX. NEAR EAST)         \\u003cbr\\u003e%{xaxis.title.text}=%{x}\\u003cbr\\u003e%{yaxis.title.text}=%{y}\\u003cbr\\u003eCountry=%{customdata[0]}\\u003cextra\\u003e\\u003c\\u002fextra\\u003e\",\"legendgroup\":\"ASIA (EX. NEAR EAST)         \",\"marker\":{\"color\":\"#636efa\",\"symbol\":\"circle\"},\"name\":\"ASIA (EX. NEAR EAST)         \",\"showlegend\":true,\"type\":\"splom\"},{\"customdata\":[[\"Albania \"],[\"Bosnia & Herzegovina \"],[\"Bulgaria \"],[\"Croatia \"],[\"Czech Republic \"],[\"Hungary \"],[\"Macedonia \"],[\"Poland \"],[\"Romania \"],[\"Serbia \"],[\"Slovakia \"],[\"Slovenia \"]],\"dimensions\":[{\"axis\":{\"matches\":true},\"label\":\"GDP ($ per capita)\",\"values\":[4500.0,6100.0,7600.0,10600.0,15700.0,13900.0,6700.0,11100.0,7000.0,2200.0,13300.0,19000.0]},{\"axis\":{\"matches\":true},\"label\":\"Net migration\",\"values\":[-4.93,0.31,-4.58,1.58,0.97,0.86,-1.45,-0.49,-0.13,-1.33,0.3,1.12]},{\"axis\":{\"matches\":true},\"label\":\"Deathrate\",\"values\":[5.22,8.27,14.27,11.48,10.59,13.11,8.77,9.89,11.77,10.31,9.45,10.31]},{\"axis\":{\"matches\":true},\"label\":\"Literacy (%)\",\"values\":[86.5,98.6,98.6,98.5,99.9,99.4,98.6,99.8,98.4,93.0,98.6,99.7]},{\"axis\":{\"matches\":true},\"label\":\"Phones (per 1000)\",\"values\":[71.2,215.4,336.3,420.4,314.3,336.2,260.0,306.3,196.9,285.8,220.1,406.1]},{\"axis\":{\"matches\":true},\"label\":\"Birthrate\",\"values\":[15.11,8.77,9.65,9.61,9.02,9.72,12.02,9.85,10.7,9.72,10.65,8.98]}],\"hovertemplate\":\"Region=EASTERN EUROPE                     \\u003cbr\\u003e%{xaxis.title.text}=%{x}\\u003cbr\\u003e%{yaxis.title.text}=%{y}\\u003cbr\\u003eCountry=%{customdata[0]}\\u003cextra\\u003e\\u003c\\u002fextra\\u003e\",\"legendgroup\":\"EASTERN EUROPE                     \",\"marker\":{\"color\":\"#EF553B\",\"symbol\":\"circle\"},\"name\":\"EASTERN EUROPE                     \",\"showlegend\":true,\"type\":\"splom\"},{\"customdata\":[[\"Algeria \"],[\"Egypt \"],[\"Libya \"],[\"Morocco \"],[\"Tunisia \"],[\"Western Sahara \"]],\"dimensions\":[{\"axis\":{\"matches\":true},\"label\":\"GDP ($ per capita)\",\"values\":[6000.0,4000.0,6400.0,4000.0,6900.0,6000.0]},{\"axis\":{\"matches\":true},\"label\":\"Net migration\",\"values\":[-0.39,-0.22,0.0,-0.98,-0.57,-0.39]},{\"axis\":{\"matches\":true},\"label\":\"Deathrate\",\"values\":[4.61,5.23,3.48,5.58,5.13,5.13]},{\"axis\":{\"matches\":true},\"label\":\"Literacy (%)\",\"values\":[70.0,57.7,82.6,51.7,74.2,70.0]},{\"axis\":{\"matches\":true},\"label\":\"Phones (per 1000)\",\"values\":[78.1,131.8,127.1,40.4,123.6,123.6]},{\"axis\":{\"matches\":true},\"label\":\"Birthrate\",\"values\":[17.14,22.94,26.49,21.98,15.52,21.98]}],\"hovertemplate\":\"Region=NORTHERN AFRICA                    \\u003cbr\\u003e%{xaxis.title.text}=%{x}\\u003cbr\\u003e%{yaxis.title.text}=%{y}\\u003cbr\\u003eCountry=%{customdata[0]}\\u003cextra\\u003e\\u003c\\u002fextra\\u003e\",\"legendgroup\":\"NORTHERN AFRICA                    \",\"marker\":{\"color\":\"#00cc96\",\"symbol\":\"circle\"},\"name\":\"NORTHERN AFRICA                    \",\"showlegend\":true,\"type\":\"splom\"},{\"customdata\":[[\"American Samoa \"],[\"Australia \"],[\"Cook Islands \"],[\"Fiji \"],[\"French Polynesia \"],[\"Guam \"],[\"Kiribati \"],[\"Marshall Islands \"],[\"Micronesia, Fed. St. \"],[\"Nauru \"],[\"New Caledonia \"],[\"New Zealand \"],[\"N. Mariana Islands \"],[\"Palau \"],[\"Papua New Guinea \"],[\"Samoa \"],[\"Solomon Islands \"],[\"Tonga \"],[\"Tuvalu \"],[\"Vanuatu \"],[\"Wallis and Futuna \"]],\"dimensions\":[{\"axis\":{\"matches\":true},\"label\":\"GDP ($ per capita)\",\"values\":[8000.0,29000.0,5000.0,5800.0,17500.0,21000.0,800.0,1600.0,2000.0,5000.0,15000.0,21600.0,12500.0,9000.0,2200.0,5600.0,1700.0,2200.0,1100.0,2900.0,3700.0]},{\"axis\":{\"matches\":true},\"label\":\"Net migration\",\"values\":[-20.71,3.98,0.0,-3.14,2.94,0.0,0.0,-6.04,-20.99,0.0,0.0,4.05,9.61,2.85,0.0,-11.7,0.0,0.0,0.0,0.0,0.0]},{\"axis\":{\"matches\":true},\"label\":\"Deathrate\",\"values\":[3.27,7.51,5.69,5.65,4.69,4.48,8.26,4.78,4.75,6.7,5.69,7.53,2.29,6.8,7.25,6.62,3.92,5.28,7.11,7.82,5.69]},{\"axis\":{\"matches\":true},\"label\":\"Literacy (%)\",\"values\":[97.0,100.0,95.0,93.7,98.0,99.0,95.0,93.7,89.0,95.0,91.0,99.0,97.0,92.0,64.6,99.7,95.0,98.5,95.0,53.0,50.0]},{\"axis\":{\"matches\":true},\"label\":\"Phones (per 1000)\",\"values\":[259.5,565.5,289.9,112.6,194.5,492.0,42.7,91.2,114.8,143.0,252.2,441.7,254.7,325.6,10.9,75.2,13.4,97.7,59.3,32.6,118.6]},{\"axis\":{\"matches\":true},\"label\":\"Birthrate\",\"values\":[22.46,12.14,21.0,22.55,16.68,18.79,30.65,33.05,24.68,24.76,18.11,13.76,19.43,18.03,29.36,16.43,30.01,25.37,22.18,22.72,22.32]}],\"hovertemplate\":\"Region=OCEANIA                            \\u003cbr\\u003e%{xaxis.title.text}=%{x}\\u003cbr\\u003e%{yaxis.title.text}=%{y}\\u003cbr\\u003eCountry=%{customdata[0]}\\u003cextra\\u003e\\u003c\\u002fextra\\u003e\",\"legendgroup\":\"OCEANIA                            \",\"marker\":{\"color\":\"#ab63fa\",\"symbol\":\"circle\"},\"name\":\"OCEANIA                            \",\"showlegend\":true,\"type\":\"splom\"},{\"customdata\":[[\"Andorra \"],[\"Austria \"],[\"Belgium \"],[\"Denmark \"],[\"Faroe Islands \"],[\"Finland \"],[\"France \"],[\"Germany \"],[\"Gibraltar \"],[\"Greece \"],[\"Guernsey \"],[\"Iceland \"],[\"Ireland \"],[\"Isle of Man \"],[\"Italy \"],[\"Jersey \"],[\"Liechtenstein \"],[\"Luxembourg \"],[\"Malta \"],[\"Monaco \"],[\"Netherlands \"],[\"Norway \"],[\"Portugal \"],[\"San Marino \"],[\"Spain \"],[\"Sweden \"],[\"Switzerland \"],[\"United Kingdom \"]],\"dimensions\":[{\"axis\":{\"matches\":true},\"label\":\"GDP ($ per capita)\",\"values\":[19000.0,30000.0,29100.0,31100.0,22000.0,27400.0,27600.0,27600.0,17500.0,20000.0,20000.0,30900.0,29600.0,21000.0,26700.0,24800.0,25000.0,55100.0,17700.0,27000.0,28600.0,37800.0,18000.0,34600.0,22000.0,26800.0,32700.0,27700.0]},{\"axis\":{\"matches\":true},\"label\":\"Net migration\",\"values\":[6.6,2.0,1.23,2.48,1.41,0.95,0.66,2.18,0.0,2.35,3.84,2.38,4.99,5.36,2.07,2.76,4.85,8.97,2.07,7.75,2.91,1.74,3.57,10.98,0.99,1.67,4.05,2.19]},{\"axis\":{\"matches\":true},\"label\":\"Deathrate\",\"values\":[6.25,9.76,10.27,10.36,8.7,9.86,9.14,10.62,9.31,10.24,10.01,6.72,7.82,11.19,10.4,9.28,7.18,8.41,8.1,12.91,8.68,9.4,10.5,8.17,9.72,10.31,8.49,10.13]},{\"axis\":{\"matches\":true},\"label\":\"Literacy (%)\",\"values\":[100.0,98.0,98.0,100.0,99.0,100.0,99.0,99.0,99.0,97.5,99.0,99.9,98.0,99.0,98.6,99.0,100.0,100.0,92.8,99.0,99.0,100.0,93.3,96.0,97.9,99.0,99.0,99.0]},{\"axis\":{\"matches\":true},\"label\":\"Phones (per 1000)\",\"values\":[497.2,452.2,462.6,614.6,503.8,405.3,586.4,667.9,877.7,589.7,842.4,647.7,500.5,676.0,430.9,811.3,585.5,515.4,505.0,1035.6,460.8,461.7,399.2,704.3,453.5,715.0,680.9,543.5]},{\"axis\":{\"matches\":true},\"label\":\"Birthrate\",\"values\":[8.71,8.74,10.38,11.13,14.05,10.45,11.99,8.25,10.74,9.68,8.81,13.64,14.45,11.05,8.72,9.3,10.21,11.94,10.22,9.19,10.9,11.46,10.72,10.02,10.06,10.27,9.71,10.71]}],\"hovertemplate\":\"Region=WESTERN EUROPE                     \\u003cbr\\u003e%{xaxis.title.text}=%{x}\\u003cbr\\u003e%{yaxis.title.text}=%{y}\\u003cbr\\u003eCountry=%{customdata[0]}\\u003cextra\\u003e\\u003c\\u002fextra\\u003e\",\"legendgroup\":\"WESTERN EUROPE                     \",\"marker\":{\"color\":\"#FFA15A\",\"symbol\":\"circle\"},\"name\":\"WESTERN EUROPE                     \",\"showlegend\":true,\"type\":\"splom\"},{\"customdata\":[[\"Angola \"],[\"Benin \"],[\"Botswana \"],[\"Burkina Faso \"],[\"Burundi \"],[\"Cameroon \"],[\"Cape Verde \"],[\"Central African Rep. \"],[\"Chad \"],[\"Comoros \"],[\"Congo, Dem. Rep. \"],[\"Congo, Repub. of the \"],[\"Cote d'Ivoire \"],[\"Djibouti \"],[\"Equatorial Guinea \"],[\"Eritrea \"],[\"Ethiopia \"],[\"Gabon \"],[\"Gambia, The \"],[\"Ghana \"],[\"Guinea \"],[\"Guinea-Bissau \"],[\"Kenya \"],[\"Lesotho \"],[\"Liberia \"],[\"Madagascar \"],[\"Malawi \"],[\"Mali \"],[\"Mauritania \"],[\"Mauritius \"],[\"Mayotte \"],[\"Mozambique \"],[\"Namibia \"],[\"Niger \"],[\"Nigeria \"],[\"Reunion \"],[\"Rwanda \"],[\"Saint Helena \"],[\"Sao Tome & Principe \"],[\"Senegal \"],[\"Seychelles \"],[\"Sierra Leone \"],[\"Somalia \"],[\"South Africa \"],[\"Sudan \"],[\"Swaziland \"],[\"Tanzania \"],[\"Togo \"],[\"Uganda \"],[\"Zambia \"],[\"Zimbabwe \"]],\"dimensions\":[{\"axis\":{\"matches\":true},\"label\":\"GDP ($ per capita)\",\"values\":[1900.0,1100.0,9000.0,1100.0,600.0,1800.0,1400.0,1100.0,1200.0,700.0,700.0,700.0,1400.0,1300.0,2700.0,700.0,700.0,5500.0,1700.0,2200.0,2100.0,800.0,1000.0,3000.0,1000.0,800.0,600.0,900.0,1800.0,11400.0,2600.0,1200.0,7200.0,800.0,900.0,5800.0,1300.0,2500.0,1200.0,1600.0,7800.0,500.0,500.0,10700.0,1900.0,4900.0,600.0,1500.0,1400.0,800.0,1900.0]},{\"axis\":{\"matches\":true},\"label\":\"Net migration\",\"values\":[0.0,0.0,0.0,0.0,-0.06,0.0,-12.07,0.0,-0.11,0.0,0.0,-0.17,-0.07,0.0,0.0,0.0,0.0,0.0,1.57,-0.64,-3.06,-1.57,-0.1,-0.74,0.0,0.0,0.0,-0.33,0.0,-0.9,6.78,0.0,0.0,-0.67,0.26,0.0,0.0,0.0,-2.72,0.2,-5.69,0.0,5.37,-0.29,-0.02,0.0,-2.06,0.0,0.0,0.0,0.0]},{\"axis\":{\"matches\":true},\"label\":\"Deathrate\",\"values\":[24.2,12.22,29.5,15.6,13.46,13.47,6.55,18.65,16.38,8.2,13.27,12.93,14.84,19.31,15.06,9.6,14.86,12.25,12.25,9.72,15.48,16.53,14.02,28.71,23.1,11.11,19.33,16.89,12.16,6.86,7.7,21.35,18.86,20.91,16.94,5.49,16.09,6.53,6.47,9.42,6.29,23.03,16.63,22.0,8.97,29.74,16.39,9.83,12.24,19.93,21.84]},{\"axis\":{\"matches\":true},\"label\":\"Literacy (%)\",\"values\":[42.0,40.9,79.8,26.6,51.6,79.0,76.6,51.0,47.5,56.5,65.5,83.8,50.9,67.9,85.7,58.6,42.7,63.2,40.1,74.8,35.9,42.4,85.1,84.8,57.5,68.9,62.7,46.4,41.7,85.6,62.95,47.8,84.0,17.6,68.0,88.9,70.4,97.0,79.3,40.2,58.0,31.4,37.8,86.4,61.1,81.6,78.2,60.9,69.9,80.6,90.7]},{\"axis\":{\"matches\":true},\"label\":\"Phones (per 1000)\",\"values\":[7.8,9.7,80.5,7.0,3.4,5.7,169.6,2.3,1.3,24.5,0.2,3.7,14.6,22.8,18.5,7.9,8.2,27.4,26.8,14.4,2.7,7.4,8.1,23.7,2.3,3.6,7.9,6.4,12.9,289.3,49.7,3.5,62.6,1.9,9.3,380.9,2.7,293.3,36.2,22.2,262.4,4.0,11.3,107.0,16.3,30.8,4.0,10.6,3.6,8.2,26.8]},{\"axis\":{\"matches\":true},\"label\":\"Birthrate\",\"values\":[45.11,38.85,23.08,45.62,42.22,33.89,24.87,33.91,45.73,36.93,43.69,42.57,35.11,39.53,35.59,34.33,37.98,36.16,39.37,30.52,41.76,37.22,39.72,24.75,44.77,41.41,43.13,49.82,40.99,15.43,40.95,35.18,24.32,50.73,40.43,18.9,40.37,12.13,40.25,32.78,16.03,45.76,45.13,18.2,34.53,27.41,37.71,37.01,47.35,41.0,28.01]}],\"hovertemplate\":\"Region=SUB-SAHARAN AFRICA                 \\u003cbr\\u003e%{xaxis.title.text}=%{x}\\u003cbr\\u003e%{yaxis.title.text}=%{y}\\u003cbr\\u003eCountry=%{customdata[0]}\\u003cextra\\u003e\\u003c\\u002fextra\\u003e\",\"legendgroup\":\"SUB-SAHARAN AFRICA                 \",\"marker\":{\"color\":\"#19d3f3\",\"symbol\":\"circle\"},\"name\":\"SUB-SAHARAN AFRICA                 \",\"showlegend\":true,\"type\":\"splom\"},{\"customdata\":[[\"Anguilla \"],[\"Antigua & Barbuda \"],[\"Argentina \"],[\"Aruba \"],[\"Bahamas, The \"],[\"Barbados \"],[\"Belize \"],[\"Bolivia \"],[\"Brazil \"],[\"British Virgin Is. \"],[\"Cayman Islands \"],[\"Chile \"],[\"Colombia \"],[\"Costa Rica \"],[\"Cuba \"],[\"Dominica \"],[\"Dominican Republic \"],[\"Ecuador \"],[\"El Salvador \"],[\"French Guiana \"],[\"Grenada \"],[\"Guadeloupe \"],[\"Guatemala \"],[\"Guyana \"],[\"Haiti \"],[\"Honduras \"],[\"Jamaica \"],[\"Martinique \"],[\"Mexico \"],[\"Montserrat \"],[\"Netherlands Antilles \"],[\"Nicaragua \"],[\"Panama \"],[\"Paraguay \"],[\"Peru \"],[\"Puerto Rico \"],[\"Saint Kitts & Nevis \"],[\"Saint Lucia \"],[\"Saint Vincent and the Grenadines \"],[\"Suriname \"],[\"Trinidad & Tobago \"],[\"Turks & Caicos Is \"],[\"Uruguay \"],[\"Venezuela \"],[\"Virgin Islands \"]],\"dimensions\":[{\"axis\":{\"matches\":true},\"label\":\"GDP ($ per capita)\",\"values\":[8600.0,11000.0,11200.0,28000.0,16700.0,15700.0,4900.0,2400.0,7600.0,16000.0,35000.0,9900.0,6300.0,9100.0,2900.0,5400.0,6000.0,3300.0,4800.0,8300.0,5000.0,8000.0,4100.0,4000.0,1600.0,2600.0,3900.0,14400.0,9000.0,3400.0,11400.0,2300.0,6300.0,4700.0,5100.0,16800.0,8800.0,5400.0,2900.0,4000.0,9500.0,9600.0,12800.0,4800.0,17200.0]},{\"axis\":{\"matches\":true},\"label\":\"Net migration\",\"values\":[10.76,-6.15,0.61,0.0,-2.2,-0.31,0.0,-1.32,-0.03,10.01,18.75,0.0,-0.31,0.51,-1.58,-13.87,-3.22,-8.58,-3.74,6.27,-13.92,-0.15,-1.67,-2.07,-3.4,-1.99,-4.92,-0.05,-4.87,0.0,-0.41,-1.22,-0.91,-0.08,-1.05,-1.46,-7.11,-2.67,-7.64,-8.81,-10.83,11.68,-0.32,-0.04,-8.94]},{\"axis\":{\"matches\":true},\"label\":\"Deathrate\",\"values\":[5.34,5.37,7.55,6.68,9.05,8.67,5.72,7.53,6.17,4.42,4.89,5.81,5.58,4.36,7.22,6.73,5.73,4.23,5.78,4.88,6.88,6.09,5.2,8.28,12.17,5.28,6.52,6.48,4.74,7.1,6.45,4.45,5.36,4.49,6.23,7.65,8.33,5.08,5.98,7.27,10.57,4.21,9.05,4.92,6.43]},{\"axis\":{\"matches\":true},\"label\":\"Literacy (%)\",\"values\":[95.0,89.0,97.1,97.0,95.6,97.4,94.1,87.2,86.4,97.8,98.0,96.2,92.5,96.0,97.0,94.0,84.7,92.5,80.2,83.0,98.0,90.0,70.6,98.8,52.9,76.2,87.9,97.7,92.2,97.0,96.7,67.5,92.6,94.0,90.9,94.1,97.0,67.0,96.0,93.0,98.6,98.0,98.0,93.4,94.05]},{\"axis\":{\"matches\":true},\"label\":\"Phones (per 1000)\",\"values\":[460.0,549.9,220.4,516.1,460.6,481.9,115.7,71.9,225.3,506.5,836.3,213.0,176.2,340.7,74.7,304.8,97.4,125.6,142.4,255.6,364.5,463.8,92.1,143.5,16.9,67.5,124.0,394.4,181.6,222.85000000000002,365.3,39.7,137.9,49.2,79.5,283.1,638.9,303.3,190.9,184.7,303.5,269.5,291.4,140.1,652.8]},{\"axis\":{\"matches\":true},\"label\":\"Birthrate\",\"values\":[14.17,16.93,16.73,11.03,17.57,12.71,28.84,23.3,16.56,14.89,12.74,15.23,20.48,18.32,11.89,15.27,23.22,22.29,26.61,20.46,22.08,15.05,29.88,18.28,36.44,28.24,20.82,13.74,20.69,17.59,14.78,24.51,21.74,29.1,20.48,12.77,18.02,19.68,16.18,18.02,12.9,21.84,13.91,18.71,13.96]}],\"hovertemplate\":\"Region=LATIN AMER. & CARIB    \\u003cbr\\u003e%{xaxis.title.text}=%{x}\\u003cbr\\u003e%{yaxis.title.text}=%{y}\\u003cbr\\u003eCountry=%{customdata[0]}\\u003cextra\\u003e\\u003c\\u002fextra\\u003e\",\"legendgroup\":\"LATIN AMER. & CARIB    \",\"marker\":{\"color\":\"#FF6692\",\"symbol\":\"circle\"},\"name\":\"LATIN AMER. & CARIB    \",\"showlegend\":true,\"type\":\"splom\"},{\"customdata\":[[\"Armenia \"],[\"Azerbaijan \"],[\"Belarus \"],[\"Georgia \"],[\"Kazakhstan \"],[\"Kyrgyzstan \"],[\"Moldova \"],[\"Russia \"],[\"Tajikistan \"],[\"Turkmenistan \"],[\"Ukraine \"],[\"Uzbekistan \"]],\"dimensions\":[{\"axis\":{\"matches\":true},\"label\":\"GDP ($ per capita)\",\"values\":[3500.0,3400.0,6100.0,2500.0,6300.0,1600.0,1800.0,8900.0,1000.0,5800.0,5400.0,1700.0]},{\"axis\":{\"matches\":true},\"label\":\"Net migration\",\"values\":[-6.47,-4.9,2.54,-4.7,-3.35,-2.45,-0.26,1.02,-2.86,-0.86,-0.39,-1.72]},{\"axis\":{\"matches\":true},\"label\":\"Deathrate\",\"values\":[8.23,9.75,14.02,9.23,9.42,7.08,12.64,14.65,8.25,8.6,14.39,7.84]},{\"axis\":{\"matches\":true},\"label\":\"Literacy (%)\",\"values\":[98.6,97.0,99.6,99.0,98.4,97.0,99.1,99.6,99.4,98.0,99.7,99.3]},{\"axis\":{\"matches\":true},\"label\":\"Phones (per 1000)\",\"values\":[195.7,137.1,319.1,146.6,164.1,84.0,208.1,280.6,33.5,74.6,259.9,62.9]},{\"axis\":{\"matches\":true},\"label\":\"Birthrate\",\"values\":[12.07,20.74,11.16,10.41,16.0,22.8,15.7,9.95,32.65,27.61,8.82,26.36]}],\"hovertemplate\":\"Region=C.W. OF IND. STATES \\u003cbr\\u003e%{xaxis.title.text}=%{x}\\u003cbr\\u003e%{yaxis.title.text}=%{y}\\u003cbr\\u003eCountry=%{customdata[0]}\\u003cextra\\u003e\\u003c\\u002fextra\\u003e\",\"legendgroup\":\"C.W. OF IND. STATES \",\"marker\":{\"color\":\"#B6E880\",\"symbol\":\"circle\"},\"name\":\"C.W. OF IND. STATES \",\"showlegend\":true,\"type\":\"splom\"},{\"customdata\":[[\"Bahrain \"],[\"Cyprus \"],[\"Gaza Strip \"],[\"Iraq \"],[\"Israel \"],[\"Jordan \"],[\"Kuwait \"],[\"Lebanon \"],[\"Oman \"],[\"Qatar \"],[\"Saudi Arabia \"],[\"Syria \"],[\"Turkey \"],[\"United Arab Emirates \"],[\"West Bank \"],[\"Yemen \"]],\"dimensions\":[{\"axis\":{\"matches\":true},\"label\":\"GDP ($ per capita)\",\"values\":[16900.0,19200.0,600.0,1500.0,19800.0,4300.0,19000.0,4800.0,13100.0,21500.0,11800.0,3300.0,6700.0,23200.0,800.0,800.0]},{\"axis\":{\"matches\":true},\"label\":\"Net migration\",\"values\":[1.05,0.43,1.6,0.0,0.68,6.59,14.18,0.0,0.28,16.29,-2.71,0.0,0.0,1.03,2.98,0.0]},{\"axis\":{\"matches\":true},\"label\":\"Deathrate\",\"values\":[4.14,7.68,3.8,5.37,6.18,2.65,2.41,6.21,3.81,4.72,2.58,4.81,5.97,4.4,3.92,8.3]},{\"axis\":{\"matches\":true},\"label\":\"Literacy (%)\",\"values\":[89.1,97.6,83.0,40.4,95.4,91.3,83.5,87.4,75.8,82.5,78.8,76.9,86.5,77.9,83.0,50.2]},{\"axis\":{\"matches\":true},\"label\":\"Phones (per 1000)\",\"values\":[281.3,211.0,244.3,38.6,462.3,104.5,211.0,255.6,85.5,232.0,140.6,153.8,269.5,475.3,145.2,37.2]},{\"axis\":{\"matches\":true},\"label\":\"Birthrate\",\"values\":[17.8,12.56,39.45,31.98,17.97,21.25,21.94,18.52,36.24,15.56,29.34,27.76,16.62,18.96,31.67,42.89]}],\"hovertemplate\":\"Region=NEAR EAST                          \\u003cbr\\u003e%{xaxis.title.text}=%{x}\\u003cbr\\u003e%{yaxis.title.text}=%{y}\\u003cbr\\u003eCountry=%{customdata[0]}\\u003cextra\\u003e\\u003c\\u002fextra\\u003e\",\"legendgroup\":\"NEAR EAST                          \",\"marker\":{\"color\":\"#FF97FF\",\"symbol\":\"circle\"},\"name\":\"NEAR EAST                          \",\"showlegend\":true,\"type\":\"splom\"},{\"customdata\":[[\"Bermuda \"],[\"Canada \"],[\"Greenland \"],[\"St Pierre & Miquelon \"],[\"United States \"]],\"dimensions\":[{\"axis\":{\"matches\":true},\"label\":\"GDP ($ per capita)\",\"values\":[36000.0,29800.0,20000.0,6900.0,37800.0]},{\"axis\":{\"matches\":true},\"label\":\"Net migration\",\"values\":[2.49,5.96,-8.37,-4.86,3.41]},{\"axis\":{\"matches\":true},\"label\":\"Deathrate\",\"values\":[7.74,7.8,7.84,6.83,8.26]},{\"axis\":{\"matches\":true},\"label\":\"Literacy (%)\",\"values\":[98.0,97.0,97.5,99.0,97.0]},{\"axis\":{\"matches\":true},\"label\":\"Phones (per 1000)\",\"values\":[851.4,552.2,448.9,683.2,898.0]},{\"axis\":{\"matches\":true},\"label\":\"Birthrate\",\"values\":[11.4,10.78,15.93,13.52,14.14]}],\"hovertemplate\":\"Region=NORTHERN AMERICA                   \\u003cbr\\u003e%{xaxis.title.text}=%{x}\\u003cbr\\u003e%{yaxis.title.text}=%{y}\\u003cbr\\u003eCountry=%{customdata[0]}\\u003cextra\\u003e\\u003c\\u002fextra\\u003e\",\"legendgroup\":\"NORTHERN AMERICA                   \",\"marker\":{\"color\":\"#FECB52\",\"symbol\":\"circle\"},\"name\":\"NORTHERN AMERICA                   \",\"showlegend\":true,\"type\":\"splom\"},{\"customdata\":[[\"Estonia \"],[\"Latvia \"],[\"Lithuania \"]],\"dimensions\":[{\"axis\":{\"matches\":true},\"label\":\"GDP ($ per capita)\",\"values\":[12300.0,10200.0,11400.0]},{\"axis\":{\"matches\":true},\"label\":\"Net migration\",\"values\":[-3.16,-2.23,-0.71]},{\"axis\":{\"matches\":true},\"label\":\"Deathrate\",\"values\":[13.25,13.66,10.98]},{\"axis\":{\"matches\":true},\"label\":\"Literacy (%)\",\"values\":[99.8,99.8,99.6]},{\"axis\":{\"matches\":true},\"label\":\"Phones (per 1000)\",\"values\":[333.8,321.4,223.4]},{\"axis\":{\"matches\":true},\"label\":\"Birthrate\",\"values\":[10.04,9.24,8.75]}],\"hovertemplate\":\"Region=BALTICS                            \\u003cbr\\u003e%{xaxis.title.text}=%{x}\\u003cbr\\u003e%{yaxis.title.text}=%{y}\\u003cbr\\u003eCountry=%{customdata[0]}\\u003cextra\\u003e\\u003c\\u002fextra\\u003e\",\"legendgroup\":\"BALTICS                            \",\"marker\":{\"color\":\"#636efa\",\"symbol\":\"circle\"},\"name\":\"BALTICS                            \",\"showlegend\":true,\"type\":\"splom\"}],                        {\"template\":{\"data\":{\"histogram2dcontour\":[{\"type\":\"histogram2dcontour\",\"colorbar\":{\"outlinewidth\":0,\"ticks\":\"\"},\"colorscale\":[[0.0,\"#0d0887\"],[0.1111111111111111,\"#46039f\"],[0.2222222222222222,\"#7201a8\"],[0.3333333333333333,\"#9c179e\"],[0.4444444444444444,\"#bd3786\"],[0.5555555555555556,\"#d8576b\"],[0.6666666666666666,\"#ed7953\"],[0.7777777777777778,\"#fb9f3a\"],[0.8888888888888888,\"#fdca26\"],[1.0,\"#f0f921\"]]}],\"choropleth\":[{\"type\":\"choropleth\",\"colorbar\":{\"outlinewidth\":0,\"ticks\":\"\"}}],\"histogram2d\":[{\"type\":\"histogram2d\",\"colorbar\":{\"outlinewidth\":0,\"ticks\":\"\"},\"colorscale\":[[0.0,\"#0d0887\"],[0.1111111111111111,\"#46039f\"],[0.2222222222222222,\"#7201a8\"],[0.3333333333333333,\"#9c179e\"],[0.4444444444444444,\"#bd3786\"],[0.5555555555555556,\"#d8576b\"],[0.6666666666666666,\"#ed7953\"],[0.7777777777777778,\"#fb9f3a\"],[0.8888888888888888,\"#fdca26\"],[1.0,\"#f0f921\"]]}],\"heatmap\":[{\"type\":\"heatmap\",\"colorbar\":{\"outlinewidth\":0,\"ticks\":\"\"},\"colorscale\":[[0.0,\"#0d0887\"],[0.1111111111111111,\"#46039f\"],[0.2222222222222222,\"#7201a8\"],[0.3333333333333333,\"#9c179e\"],[0.4444444444444444,\"#bd3786\"],[0.5555555555555556,\"#d8576b\"],[0.6666666666666666,\"#ed7953\"],[0.7777777777777778,\"#fb9f3a\"],[0.8888888888888888,\"#fdca26\"],[1.0,\"#f0f921\"]]}],\"heatmapgl\":[{\"type\":\"heatmapgl\",\"colorbar\":{\"outlinewidth\":0,\"ticks\":\"\"},\"colorscale\":[[0.0,\"#0d0887\"],[0.1111111111111111,\"#46039f\"],[0.2222222222222222,\"#7201a8\"],[0.3333333333333333,\"#9c179e\"],[0.4444444444444444,\"#bd3786\"],[0.5555555555555556,\"#d8576b\"],[0.6666666666666666,\"#ed7953\"],[0.7777777777777778,\"#fb9f3a\"],[0.8888888888888888,\"#fdca26\"],[1.0,\"#f0f921\"]]}],\"contourcarpet\":[{\"type\":\"contourcarpet\",\"colorbar\":{\"outlinewidth\":0,\"ticks\":\"\"}}],\"contour\":[{\"type\":\"contour\",\"colorbar\":{\"outlinewidth\":0,\"ticks\":\"\"},\"colorscale\":[[0.0,\"#0d0887\"],[0.1111111111111111,\"#46039f\"],[0.2222222222222222,\"#7201a8\"],[0.3333333333333333,\"#9c179e\"],[0.4444444444444444,\"#bd3786\"],[0.5555555555555556,\"#d8576b\"],[0.6666666666666666,\"#ed7953\"],[0.7777777777777778,\"#fb9f3a\"],[0.8888888888888888,\"#fdca26\"],[1.0,\"#f0f921\"]]}],\"surface\":[{\"type\":\"surface\",\"colorbar\":{\"outlinewidth\":0,\"ticks\":\"\"},\"colorscale\":[[0.0,\"#0d0887\"],[0.1111111111111111,\"#46039f\"],[0.2222222222222222,\"#7201a8\"],[0.3333333333333333,\"#9c179e\"],[0.4444444444444444,\"#bd3786\"],[0.5555555555555556,\"#d8576b\"],[0.6666666666666666,\"#ed7953\"],[0.7777777777777778,\"#fb9f3a\"],[0.8888888888888888,\"#fdca26\"],[1.0,\"#f0f921\"]]}],\"mesh3d\":[{\"type\":\"mesh3d\",\"colorbar\":{\"outlinewidth\":0,\"ticks\":\"\"}}],\"scatter\":[{\"fillpattern\":{\"fillmode\":\"overlay\",\"size\":10,\"solidity\":0.2},\"type\":\"scatter\"}],\"parcoords\":[{\"type\":\"parcoords\",\"line\":{\"colorbar\":{\"outlinewidth\":0,\"ticks\":\"\"}}}],\"scatterpolargl\":[{\"type\":\"scatterpolargl\",\"marker\":{\"colorbar\":{\"outlinewidth\":0,\"ticks\":\"\"}}}],\"bar\":[{\"error_x\":{\"color\":\"#2a3f5f\"},\"error_y\":{\"color\":\"#2a3f5f\"},\"marker\":{\"line\":{\"color\":\"#E5ECF6\",\"width\":0.5},\"pattern\":{\"fillmode\":\"overlay\",\"size\":10,\"solidity\":0.2}},\"type\":\"bar\"}],\"scattergeo\":[{\"type\":\"scattergeo\",\"marker\":{\"colorbar\":{\"outlinewidth\":0,\"ticks\":\"\"}}}],\"scatterpolar\":[{\"type\":\"scatterpolar\",\"marker\":{\"colorbar\":{\"outlinewidth\":0,\"ticks\":\"\"}}}],\"histogram\":[{\"marker\":{\"pattern\":{\"fillmode\":\"overlay\",\"size\":10,\"solidity\":0.2}},\"type\":\"histogram\"}],\"scattergl\":[{\"type\":\"scattergl\",\"marker\":{\"colorbar\":{\"outlinewidth\":0,\"ticks\":\"\"}}}],\"scatter3d\":[{\"type\":\"scatter3d\",\"line\":{\"colorbar\":{\"outlinewidth\":0,\"ticks\":\"\"}},\"marker\":{\"colorbar\":{\"outlinewidth\":0,\"ticks\":\"\"}}}],\"scattermapbox\":[{\"type\":\"scattermapbox\",\"marker\":{\"colorbar\":{\"outlinewidth\":0,\"ticks\":\"\"}}}],\"scatterternary\":[{\"type\":\"scatterternary\",\"marker\":{\"colorbar\":{\"outlinewidth\":0,\"ticks\":\"\"}}}],\"scattercarpet\":[{\"type\":\"scattercarpet\",\"marker\":{\"colorbar\":{\"outlinewidth\":0,\"ticks\":\"\"}}}],\"carpet\":[{\"aaxis\":{\"endlinecolor\":\"#2a3f5f\",\"gridcolor\":\"white\",\"linecolor\":\"white\",\"minorgridcolor\":\"white\",\"startlinecolor\":\"#2a3f5f\"},\"baxis\":{\"endlinecolor\":\"#2a3f5f\",\"gridcolor\":\"white\",\"linecolor\":\"white\",\"minorgridcolor\":\"white\",\"startlinecolor\":\"#2a3f5f\"},\"type\":\"carpet\"}],\"table\":[{\"cells\":{\"fill\":{\"color\":\"#EBF0F8\"},\"line\":{\"color\":\"white\"}},\"header\":{\"fill\":{\"color\":\"#C8D4E3\"},\"line\":{\"color\":\"white\"}},\"type\":\"table\"}],\"barpolar\":[{\"marker\":{\"line\":{\"color\":\"#E5ECF6\",\"width\":0.5},\"pattern\":{\"fillmode\":\"overlay\",\"size\":10,\"solidity\":0.2}},\"type\":\"barpolar\"}],\"pie\":[{\"automargin\":true,\"type\":\"pie\"}]},\"layout\":{\"autotypenumbers\":\"strict\",\"colorway\":[\"#636efa\",\"#EF553B\",\"#00cc96\",\"#ab63fa\",\"#FFA15A\",\"#19d3f3\",\"#FF6692\",\"#B6E880\",\"#FF97FF\",\"#FECB52\"],\"font\":{\"color\":\"#2a3f5f\"},\"hovermode\":\"closest\",\"hoverlabel\":{\"align\":\"left\"},\"paper_bgcolor\":\"white\",\"plot_bgcolor\":\"#E5ECF6\",\"polar\":{\"bgcolor\":\"#E5ECF6\",\"angularaxis\":{\"gridcolor\":\"white\",\"linecolor\":\"white\",\"ticks\":\"\"},\"radialaxis\":{\"gridcolor\":\"white\",\"linecolor\":\"white\",\"ticks\":\"\"}},\"ternary\":{\"bgcolor\":\"#E5ECF6\",\"aaxis\":{\"gridcolor\":\"white\",\"linecolor\":\"white\",\"ticks\":\"\"},\"baxis\":{\"gridcolor\":\"white\",\"linecolor\":\"white\",\"ticks\":\"\"},\"caxis\":{\"gridcolor\":\"white\",\"linecolor\":\"white\",\"ticks\":\"\"}},\"coloraxis\":{\"colorbar\":{\"outlinewidth\":0,\"ticks\":\"\"}},\"colorscale\":{\"sequential\":[[0.0,\"#0d0887\"],[0.1111111111111111,\"#46039f\"],[0.2222222222222222,\"#7201a8\"],[0.3333333333333333,\"#9c179e\"],[0.4444444444444444,\"#bd3786\"],[0.5555555555555556,\"#d8576b\"],[0.6666666666666666,\"#ed7953\"],[0.7777777777777778,\"#fb9f3a\"],[0.8888888888888888,\"#fdca26\"],[1.0,\"#f0f921\"]],\"sequentialminus\":[[0.0,\"#0d0887\"],[0.1111111111111111,\"#46039f\"],[0.2222222222222222,\"#7201a8\"],[0.3333333333333333,\"#9c179e\"],[0.4444444444444444,\"#bd3786\"],[0.5555555555555556,\"#d8576b\"],[0.6666666666666666,\"#ed7953\"],[0.7777777777777778,\"#fb9f3a\"],[0.8888888888888888,\"#fdca26\"],[1.0,\"#f0f921\"]],\"diverging\":[[0,\"#8e0152\"],[0.1,\"#c51b7d\"],[0.2,\"#de77ae\"],[0.3,\"#f1b6da\"],[0.4,\"#fde0ef\"],[0.5,\"#f7f7f7\"],[0.6,\"#e6f5d0\"],[0.7,\"#b8e186\"],[0.8,\"#7fbc41\"],[0.9,\"#4d9221\"],[1,\"#276419\"]]},\"xaxis\":{\"gridcolor\":\"white\",\"linecolor\":\"white\",\"ticks\":\"\",\"title\":{\"standoff\":15},\"zerolinecolor\":\"white\",\"automargin\":true,\"zerolinewidth\":2},\"yaxis\":{\"gridcolor\":\"white\",\"linecolor\":\"white\",\"ticks\":\"\",\"title\":{\"standoff\":15},\"zerolinecolor\":\"white\",\"automargin\":true,\"zerolinewidth\":2},\"scene\":{\"xaxis\":{\"backgroundcolor\":\"#E5ECF6\",\"gridcolor\":\"white\",\"linecolor\":\"white\",\"showbackground\":true,\"ticks\":\"\",\"zerolinecolor\":\"white\",\"gridwidth\":2},\"yaxis\":{\"backgroundcolor\":\"#E5ECF6\",\"gridcolor\":\"white\",\"linecolor\":\"white\",\"showbackground\":true,\"ticks\":\"\",\"zerolinecolor\":\"white\",\"gridwidth\":2},\"zaxis\":{\"backgroundcolor\":\"#E5ECF6\",\"gridcolor\":\"white\",\"linecolor\":\"white\",\"showbackground\":true,\"ticks\":\"\",\"zerolinecolor\":\"white\",\"gridwidth\":2}},\"shapedefaults\":{\"line\":{\"color\":\"#2a3f5f\"}},\"annotationdefaults\":{\"arrowcolor\":\"#2a3f5f\",\"arrowhead\":0,\"arrowwidth\":1},\"geo\":{\"bgcolor\":\"white\",\"landcolor\":\"#E5ECF6\",\"subunitcolor\":\"white\",\"showland\":true,\"showlakes\":true,\"lakecolor\":\"white\"},\"title\":{\"x\":0.05},\"mapbox\":{\"style\":\"light\"}}},\"legend\":{\"title\":{\"text\":\"Region\"},\"tracegroupgap\":0},\"margin\":{\"t\":60},\"dragmode\":\"select\",\"height\":1080,\"width\":2200},                        {\"responsive\": true}                    ).then(function(){\n",
       "                            \n",
       "var gd = document.getElementById('2d969404-4627-4758-931f-968bed628a69');\n",
       "var x = new MutationObserver(function (mutations, observer) {{\n",
       "        var display = window.getComputedStyle(gd).display;\n",
       "        if (!display || display === 'none') {{\n",
       "            console.log([gd, 'removed!']);\n",
       "            Plotly.purge(gd);\n",
       "            observer.disconnect();\n",
       "        }}\n",
       "}});\n",
       "\n",
       "// Listen for the removal of the full notebook cells\n",
       "var notebookContainer = gd.closest('#notebook-container');\n",
       "if (notebookContainer) {{\n",
       "    x.observe(notebookContainer, {childList: true});\n",
       "}}\n",
       "\n",
       "// Listen for the clearing of the current output cell\n",
       "var outputEl = gd.closest('.output');\n",
       "if (outputEl) {{\n",
       "    x.observe(outputEl, {childList: true});\n",
       "}}\n",
       "\n",
       "                        })                };                });            </script>        </div>"
      ]
     },
     "metadata": {},
     "output_type": "display_data"
    }
   ],
   "source": [
    "# Scatter Matrix\n",
    "\n",
    "px.scatter_matrix(\n",
    "    graph_data, \n",
    "    dimensions=[\n",
    "        'GDP ($ per capita)',\n",
    "        'Net migration',\n",
    "        'Deathrate',\n",
    "        'Literacy (%)',\n",
    "        'Phones (per 1000)',\n",
    "        'Birthrate',\n",
    "    ], \n",
    "    width= 2200, \n",
    "    height=1080,\n",
    "    color='Region', \n",
    "    hover_data='Country')\n",
    "\n",
    "# Birthrate and phones are related logarithmically\n",
    "\n",
    "# Net migration is clustered around 0, may benefit from quadratic scaling\n",
    "\n",
    "# other observations"
   ]
  },
  {
   "cell_type": "markdown",
   "id": "6e1715d2",
   "metadata": {},
   "source": [
    "# Preprocessing for Machine Learning"
   ]
  },
  {
   "cell_type": "code",
   "execution_count": null,
   "id": "b1020a09",
   "metadata": {},
   "outputs": [],
   "source": [
    "# Make dummies for Region \n",
    "\n",
    "dummies = pd.get_dummies(df['Region'])\n",
    "\n",
    "df['Asia'] = dummies['ASIA (EX. NEAR EAST)         ']\n",
    "df['Eastern Europe'] = dummies['EASTERN EUROPE                     ']\n",
    "df['Northern Africa'] = dummies['NORTHERN AFRICA                    ']\n",
    "df['Oceania'] = dummies['OCEANIA                            ']\n",
    "df['Western Europe'] = dummies['WESTERN EUROPE                     ']\n",
    "df['Sub-Saharan Africa'] = dummies['SUB-SAHARAN AFRICA                 ']\n",
    "df['Latin America and Caribbean'] = dummies['LATIN AMER. & CARIB    ']\n",
    "df['Commonwealth of Independent States'] = dummies['C.W. OF IND. STATES ']\n",
    "df['Near East'] = dummies['NEAR EAST                          ']\n",
    "df['North America'] = dummies['NORTHERN AMERICA                   ']\n",
    "df['Baltics'] = dummies['BALTICS                            ']\n",
    "\n",
    "df.drop('Region', axis=1, inplace=True)"
   ]
  },
  {
   "cell_type": "code",
   "execution_count": null,
   "id": "4589d0f6",
   "metadata": {},
   "outputs": [],
   "source": [
    "# Cannot use for prediction\n",
    "\n",
    "df.drop('Country', axis=1, inplace=True)"
   ]
  },
  {
   "cell_type": "code",
   "execution_count": 6,
   "id": "58be56ce",
   "metadata": {},
   "outputs": [],
   "source": [
    "# Split data\n",
    "\n",
    "target = df['GDP ($ per capita)']\n",
    "features = df.loc[:, df.columns != 'GDP ($ per capita)']\n",
    "\n",
    "from sklearn.model_selection import train_test_split\n",
    "\n",
    "x_train, x_test, y_train, y_test = train_test_split(features, target, test_size = 0.2, random_state = 21) # random state to keep splits the same in different runs"
   ]
  },
  {
   "cell_type": "markdown",
   "id": "9a795889",
   "metadata": {},
   "source": [
    "# Decision Trees"
   ]
  },
  {
   "cell_type": "markdown",
   "id": "32527e16",
   "metadata": {},
   "source": [
    "### Description of Decision Trees\n",
    "\n",
    "A decision tree is a ML model that utilize “if-then” logic. The decision nodes (eg “Outlook”) represent a decision that needs to be made or a question that needs to be answered. The branches associated with a decision node represent the possible outcomes of that decision (eg “Sunny”, “Overcast”, “Rainy”). Eventually, the branches lead to leaf nodes which represent the final decision made or outcome. \n",
    "\n",
    "![Alt text](https://www.saedsayad.com/images/Decision_tree_r1.png)"
   ]
  },
  {
   "cell_type": "code",
   "execution_count": 38,
   "id": "7c29decf",
   "metadata": {},
   "outputs": [
    {
     "name": "stdout",
     "output_type": "stream",
     "text": [
      "{'criterion': 'friedman_mse', 'max_depth': 60, 'min_samples_leaf': 2, 'min_samples_split': 2}\n"
     ]
    }
   ],
   "source": [
    "# Hyperparameter tuning\n",
    "\n",
    "from sklearn.model_selection import GridSearchCV\n",
    "from sklearn.tree import DecisionTreeRegressor\n",
    "\n",
    "criterion = ['squared_error', 'friedman_mse', 'absolute_error', 'poisson']\n",
    "\n",
    "max_depth = [10, 20, 30, 40, 50, 60, 70]\n",
    "\n",
    "min_samples_split = [2, 3, 4, 5, 6]\n",
    "\n",
    "min_samples_leaf = [1, 2, 3, 4, 5, 6]\n",
    "\n",
    "param_grid = {\n",
    "    'criterion' : criterion,\n",
    "    'max_depth' : max_depth,\n",
    "    'min_samples_split': min_samples_split,\n",
    "    'min_samples_leaf' : min_samples_leaf\n",
    "    \n",
    "}\n",
    "\n",
    "dt_grid_search = GridSearchCV(DecisionTreeRegressor(), param_grid, n_jobs = -1)\n",
    "dt_grid_search.fit(x_train, y_train)\n",
    "print(dt_grid_search.best_params_)"
   ]
  },
  {
   "cell_type": "code",
   "execution_count": null,
   "id": "97f8e65b",
   "metadata": {},
   "outputs": [],
   "source": [
    "# Feature Selection\n",
    "\n",
    "import numpy as np\n",
    "\n",
    "my_decision_tree = DecisionTreeRegressor(criterion = 'friedman_mse', max_depth = 60, min_samples_split=2, min_samples_leaf=5)\n",
    "\n",
    "my_decision_tree.fit(x_train, y_train)\n",
    "\n",
    "feature_importance = my_decision_tree.feature_importances_\n",
    "\n",
    "my_features = (df.iloc[:, df.columns != 'GDP ($ per capita)'].columns)\n",
    "\n",
    "def sortSecond(val):\n",
    "\treturn val[1]\n",
    "\n",
    "feature_order = []\n",
    "importances = [] \n",
    "\n",
    "importances = [(my_features[i], feature_importance[i]) for i in range(len(my_features))]\n",
    "importances.sort(reverse=True, key=sortSecond)\n",
    "\n",
    "# select the top 10 features from your importances array \n",
    "top_dt_features = [feature[0] for feature in importances[:12]]\n"
   ]
  },
  {
   "cell_type": "code",
   "execution_count": 48,
   "id": "63e41db4",
   "metadata": {},
   "outputs": [
    {
     "data": {
      "text/html": [
       "<style>#sk-container-id-1 {color: black;}#sk-container-id-1 pre{padding: 0;}#sk-container-id-1 div.sk-toggleable {background-color: white;}#sk-container-id-1 label.sk-toggleable__label {cursor: pointer;display: block;width: 100%;margin-bottom: 0;padding: 0.3em;box-sizing: border-box;text-align: center;}#sk-container-id-1 label.sk-toggleable__label-arrow:before {content: \"▸\";float: left;margin-right: 0.25em;color: #696969;}#sk-container-id-1 label.sk-toggleable__label-arrow:hover:before {color: black;}#sk-container-id-1 div.sk-estimator:hover label.sk-toggleable__label-arrow:before {color: black;}#sk-container-id-1 div.sk-toggleable__content {max-height: 0;max-width: 0;overflow: hidden;text-align: left;background-color: #f0f8ff;}#sk-container-id-1 div.sk-toggleable__content pre {margin: 0.2em;color: black;border-radius: 0.25em;background-color: #f0f8ff;}#sk-container-id-1 input.sk-toggleable__control:checked~div.sk-toggleable__content {max-height: 200px;max-width: 100%;overflow: auto;}#sk-container-id-1 input.sk-toggleable__control:checked~label.sk-toggleable__label-arrow:before {content: \"▾\";}#sk-container-id-1 div.sk-estimator input.sk-toggleable__control:checked~label.sk-toggleable__label {background-color: #d4ebff;}#sk-container-id-1 div.sk-label input.sk-toggleable__control:checked~label.sk-toggleable__label {background-color: #d4ebff;}#sk-container-id-1 input.sk-hidden--visually {border: 0;clip: rect(1px 1px 1px 1px);clip: rect(1px, 1px, 1px, 1px);height: 1px;margin: -1px;overflow: hidden;padding: 0;position: absolute;width: 1px;}#sk-container-id-1 div.sk-estimator {font-family: monospace;background-color: #f0f8ff;border: 1px dotted black;border-radius: 0.25em;box-sizing: border-box;margin-bottom: 0.5em;}#sk-container-id-1 div.sk-estimator:hover {background-color: #d4ebff;}#sk-container-id-1 div.sk-parallel-item::after {content: \"\";width: 100%;border-bottom: 1px solid gray;flex-grow: 1;}#sk-container-id-1 div.sk-label:hover label.sk-toggleable__label {background-color: #d4ebff;}#sk-container-id-1 div.sk-serial::before {content: \"\";position: absolute;border-left: 1px solid gray;box-sizing: border-box;top: 0;bottom: 0;left: 50%;z-index: 0;}#sk-container-id-1 div.sk-serial {display: flex;flex-direction: column;align-items: center;background-color: white;padding-right: 0.2em;padding-left: 0.2em;position: relative;}#sk-container-id-1 div.sk-item {position: relative;z-index: 1;}#sk-container-id-1 div.sk-parallel {display: flex;align-items: stretch;justify-content: center;background-color: white;position: relative;}#sk-container-id-1 div.sk-item::before, #sk-container-id-1 div.sk-parallel-item::before {content: \"\";position: absolute;border-left: 1px solid gray;box-sizing: border-box;top: 0;bottom: 0;left: 50%;z-index: -1;}#sk-container-id-1 div.sk-parallel-item {display: flex;flex-direction: column;z-index: 1;position: relative;background-color: white;}#sk-container-id-1 div.sk-parallel-item:first-child::after {align-self: flex-end;width: 50%;}#sk-container-id-1 div.sk-parallel-item:last-child::after {align-self: flex-start;width: 50%;}#sk-container-id-1 div.sk-parallel-item:only-child::after {width: 0;}#sk-container-id-1 div.sk-dashed-wrapped {border: 1px dashed gray;margin: 0 0.4em 0.5em 0.4em;box-sizing: border-box;padding-bottom: 0.4em;background-color: white;}#sk-container-id-1 div.sk-label label {font-family: monospace;font-weight: bold;display: inline-block;line-height: 1.2em;}#sk-container-id-1 div.sk-label-container {text-align: center;}#sk-container-id-1 div.sk-container {/* jupyter's `normalize.less` sets `[hidden] { display: none; }` but bootstrap.min.css set `[hidden] { display: none !important; }` so we also need the `!important` here to be able to override the default hidden behavior on the sphinx rendered scikit-learn.org. See: https://github.com/scikit-learn/scikit-learn/issues/21755 */display: inline-block !important;position: relative;}#sk-container-id-1 div.sk-text-repr-fallback {display: none;}</style><div id=\"sk-container-id-1\" class=\"sk-top-container\"><div class=\"sk-text-repr-fallback\"><pre>DecisionTreeRegressor(criterion=&#x27;poisson&#x27;, max_depth=50, min_samples_leaf=5,\n",
       "                      min_samples_split=5)</pre><b>In a Jupyter environment, please rerun this cell to show the HTML representation or trust the notebook. <br />On GitHub, the HTML representation is unable to render, please try loading this page with nbviewer.org.</b></div><div class=\"sk-container\" hidden><div class=\"sk-item\"><div class=\"sk-estimator sk-toggleable\"><input class=\"sk-toggleable__control sk-hidden--visually\" id=\"sk-estimator-id-1\" type=\"checkbox\" checked><label for=\"sk-estimator-id-1\" class=\"sk-toggleable__label sk-toggleable__label-arrow\">DecisionTreeRegressor</label><div class=\"sk-toggleable__content\"><pre>DecisionTreeRegressor(criterion=&#x27;poisson&#x27;, max_depth=50, min_samples_leaf=5,\n",
       "                      min_samples_split=5)</pre></div></div></div></div></div>"
      ],
      "text/plain": [
       "DecisionTreeRegressor(criterion='poisson', max_depth=50, min_samples_leaf=5,\n",
       "                      min_samples_split=5)"
      ]
     },
     "execution_count": 48,
     "metadata": {},
     "output_type": "execute_result"
    }
   ],
   "source": [
    "# Training Optimized Decision Tree Model\n",
    "\n",
    "\n",
    "dt_features = df[top_dt_features]\n",
    "\n",
    "x_train_dt, x_test_dt, y_train_dt, y_test_dt = train_test_split(dt_features, target, test_size = 0.2)\n",
    "\n",
    "my_decision_tree = DecisionTreeRegressor(criterion = 'poisson', max_depth = 50, min_samples_split=5, min_samples_leaf=5)\n",
    "\n",
    "my_decision_tree.fit(x_train_dt, y_train_dt)"
   ]
  },
  {
   "cell_type": "markdown",
   "id": "e01701e4",
   "metadata": {},
   "source": [
    "R^2 shows how well the data fit the regression model (the goodness of fit). The value of R^2 can range from 0 to 1, where 0 means that our model does not predict any variability in our data and 1 means that our model prefectly fits/predicts our data.\n",
    "\n",
    "MAE, or the Mean Absolute Error, is way of seeing how accurate our model is. MAE more intuitive and easy to interpret than R^2. Our Mean Squared Error represents, on average, how much our predicted value differed from the real value."
   ]
  },
  {
   "cell_type": "code",
   "execution_count": 49,
   "id": "81263bcb",
   "metadata": {},
   "outputs": [
    {
     "name": "stdout",
     "output_type": "stream",
     "text": [
      "r2 score:  0.8390501844149421\n",
      "mae:  2944.678226363009\n"
     ]
    }
   ],
   "source": [
    "# Evaluating Decision Tree Model\n",
    "\n",
    "from sklearn.metrics import r2_score, mean_absolute_error\n",
    "\n",
    "y_hat_dt = my_decision_tree.predict(x_test_dt)\n",
    "\n",
    "r2_dt = r2_score(y_test_dt, y_hat_dt)\n",
    "\n",
    "mae_dt = mean_absolute_error(y_test_dt, y_hat_dt)\n",
    "\n",
    "print('r2 score: ', r2_dt)\n",
    "print('mae: ', mae_dt)"
   ]
  },
  {
   "cell_type": "markdown",
   "id": "0499cab5",
   "metadata": {},
   "source": [
    "# Random Forests"
   ]
  },
  {
   "cell_type": "markdown",
   "id": "21d16aca",
   "metadata": {},
   "source": [
    "### Description of Random Forests\n",
    "\n",
    "Random Forests clasify data into smaller classes each with unique values and features, and then trains these subsections using Decision Trees. It starts with data and for every node it asks specific type of question, which will classify given data. After all iterations through tree of questions, random forest is trained and has classified data. "
   ]
  },
  {
   "cell_type": "code",
   "execution_count": null,
   "id": "9df74716",
   "metadata": {},
   "outputs": [],
   "source": [
    "# Hyperparameter Tuning\n",
    "\n",
    "from sklearn.model_selection import GridSearchCV\n",
    "from sklearn.ensemble import RandomForestRegressor\n",
    "\n",
    "n_estimators = [50, 70, 90, 110, 130, 150]\n",
    "\n",
    "criterion = ['squared_error', 'friedman_mse', 'absolute_error', 'poisson']\n",
    "\n",
    "max_depth = [10, 20, 30, 40, 50, 60, 70]\n",
    "\n",
    "min_samples_split = [2, 3, 4, 5]\n",
    "\n",
    "min_samples_leaf = [1, 2, 3, 4, 5]\n",
    "\n",
    "param_grid = {\n",
    "    'n_estimators': n_estimators,\n",
    "    'criterion' : criterion,\n",
    "    'max_depth' : max_depth,\n",
    "    'min_samples_split': min_samples_split,\n",
    "    'min_samples_leaf' : min_samples_leaf\n",
    "}\n",
    "\n",
    "rf_grid_search = GridSearchCV(RandomForestRegressor(), param_grid, n_jobs = -1)\n",
    "rf_grid_search.fit(x_train, y_train)\n",
    "print(rf_grid_search.best_params_)"
   ]
  },
  {
   "cell_type": "code",
   "execution_count": null,
   "id": "1b218dfb",
   "metadata": {},
   "outputs": [],
   "source": [
    "# Feature Selection\n",
    "\n",
    "import numpy as np\n",
    "from sklearn.ensemble import RandomForestRegressor\n",
    "\n",
    "my_random_forest = RandomForestRegressor(criterion = 'friedman_mse', max_depth = 40, min_samples_leaf = 1, min_samples_split = 5, n_estimators = 90)\n",
    "my_random_forest.fit(x_train, y_train)\n",
    "\n",
    "feature_importance = my_random_forest.feature_importances_\n",
    "\n",
    "my_features = (df.iloc[:, df.columns != 'GDP ($ per capita)'].columns)\n",
    "\n",
    "def sortSecond(val):\n",
    "\treturn val[1]\n",
    "\n",
    "feature_order = []\n",
    "importances = []\n",
    "\n",
    "importances = [(my_features[i], feature_importance[i]) for i in range(len(my_features))]\n",
    "importances.sort(reverse=True, key=sortSecond)\n",
    "\n",
    "# select the top 15 features from your importances array\n",
    "top_names = [feature[0] for feature in importances[:15]]\n"
   ]
  },
  {
   "cell_type": "code",
   "execution_count": null,
   "id": "ae5e3372",
   "metadata": {},
   "outputs": [],
   "source": [
    "# Best Model\n",
    "\n",
    "rf_features = df[top_names]\n",
    "\n",
    "x_train_rf, x_test_rf, y_train_rf, y_test_rf = train_test_split(rf_features, target, test_size = 0.2)\n",
    "\n",
    "my_random_forest_2 = RandomForestRegressor(criterion = 'friedman_mse', max_depth = 40, min_samples_leaf = 1, min_samples_split = 5, n_estimators = 90)\n",
    "\n",
    "my_random_forest_2.fit(x_train_rf, y_train_rf)\n",
    "\n"
   ]
  },
  {
   "cell_type": "code",
   "execution_count": null,
   "id": "61c30f0d",
   "metadata": {},
   "outputs": [],
   "source": [
    "# Evaluate Model\n",
    "\n",
    "from sklearn.metrics import r2_score, mean_absolute_error\n",
    "\n",
    "y_hat_rf = my_random_forest_2.predict(x_test_rf)\n",
    "\n",
    "r2_rf = r2_score(y_test_rf, y_hat_rf)\n",
    "\n",
    "mae_rf = mean_absolute_error(y_test_rf, y_hat_rf)\n",
    "\n",
    "print('r2 score: ', r2_rf)\n",
    "print('mae: ', mae_rf)"
   ]
  },
  {
   "cell_type": "markdown",
   "id": "89f9d7c3",
   "metadata": {},
   "source": [
    "# Stochastic Gradient Descent"
   ]
  },
  {
   "cell_type": "code",
   "execution_count": null,
   "id": "ade98197",
   "metadata": {},
   "outputs": [],
   "source": [
    "# Description of model (how it works) \n",
    "\n",
    "#Stochastic gradient decent is an optimization alogrothim used to train machine learning models\n",
    "#Makes sure that the model doesn't make mistakes such as overfitting\n",
    "'''\n",
    "Steps Include:\n",
    "1) Initialize Parameters --> Random variables for the model's paramters (weights, baises etc)\n",
    "2) Shuffle Data --> To get rid of baises \n",
    "3) Mini-Batch Detection --> Dividng data into small batches for better training\n",
    "4) Paramter Update --> For each mini-batch, compute gradient of the loss function and update parameters as such\n",
    "5) Iterate --> Repeat steps 3 & 4 for certain number of iteration (epochs)\n",
    "'''"
   ]
  },
  {
   "cell_type": "code",
   "execution_count": null,
   "id": "f4672286",
   "metadata": {},
   "outputs": [],
   "source": [
    "# Scaling\n",
    "\n",
    "from sklearn.preprocessing import MinMaxScaler\n",
    "\n",
    "min_max_scaler = MinMaxScaler()\n",
    "features_scaled = min_max_scaler.fit_transform(features)\n",
    "\n",
    "x_train_s, x_test_s, y_train_s, y_test_s = train_test_split(features_scaled, target, test_size = 0.2)"
   ]
  },
  {
   "cell_type": "code",
   "execution_count": null,
   "id": "32cba46c",
   "metadata": {},
   "outputs": [],
   "source": [
    "# Hyperparameter tuning\n",
    "\n",
    "# want loss to be default\n",
    "\n",
    "from sklearn.model_selection import GridSearchCV\n",
    "from sklearn.linear_model import SGDRegressor\n",
    "\n",
    "alpha = [0.001, 0.0001, 0.00001]\n",
    "learning_rate = ['constant', 'optimal', 'invscaling', 'adaptive']\n",
    "penalty = ['l1', 'l2', 'elasticnet']\n",
    "\n",
    "param_grid = {\n",
    "    'alpha' : alpha,\n",
    "    'learning_rate' : learning_rate,\n",
    "    'penalty' : penalty\n",
    "\n",
    "}\n",
    "\n",
    "grid_search = GridSearchCV(SGDRegressor(), param_grid, n_jobs = -1)\n",
    "\n",
    "grid_search.fit(x_train_s, y_train_s)\n",
    "\n",
    "print(grid_search.best_params_)"
   ]
  },
  {
   "cell_type": "code",
   "execution_count": 16,
   "id": "569751f6",
   "metadata": {},
   "outputs": [
    {
     "name": "stderr",
     "output_type": "stream",
     "text": [
      "/home/codespace/.local/lib/python3.10/site-packages/sklearn/linear_model/_stochastic_gradient.py:1561: ConvergenceWarning: Maximum number of iteration reached before convergence. Consider increasing max_iter to improve the fit.\n",
      "  warnings.warn(\n"
     ]
    },
    {
     "data": {
      "text/html": [
       "<style>#sk-container-id-1 {color: black;}#sk-container-id-1 pre{padding: 0;}#sk-container-id-1 div.sk-toggleable {background-color: white;}#sk-container-id-1 label.sk-toggleable__label {cursor: pointer;display: block;width: 100%;margin-bottom: 0;padding: 0.3em;box-sizing: border-box;text-align: center;}#sk-container-id-1 label.sk-toggleable__label-arrow:before {content: \"▸\";float: left;margin-right: 0.25em;color: #696969;}#sk-container-id-1 label.sk-toggleable__label-arrow:hover:before {color: black;}#sk-container-id-1 div.sk-estimator:hover label.sk-toggleable__label-arrow:before {color: black;}#sk-container-id-1 div.sk-toggleable__content {max-height: 0;max-width: 0;overflow: hidden;text-align: left;background-color: #f0f8ff;}#sk-container-id-1 div.sk-toggleable__content pre {margin: 0.2em;color: black;border-radius: 0.25em;background-color: #f0f8ff;}#sk-container-id-1 input.sk-toggleable__control:checked~div.sk-toggleable__content {max-height: 200px;max-width: 100%;overflow: auto;}#sk-container-id-1 input.sk-toggleable__control:checked~label.sk-toggleable__label-arrow:before {content: \"▾\";}#sk-container-id-1 div.sk-estimator input.sk-toggleable__control:checked~label.sk-toggleable__label {background-color: #d4ebff;}#sk-container-id-1 div.sk-label input.sk-toggleable__control:checked~label.sk-toggleable__label {background-color: #d4ebff;}#sk-container-id-1 input.sk-hidden--visually {border: 0;clip: rect(1px 1px 1px 1px);clip: rect(1px, 1px, 1px, 1px);height: 1px;margin: -1px;overflow: hidden;padding: 0;position: absolute;width: 1px;}#sk-container-id-1 div.sk-estimator {font-family: monospace;background-color: #f0f8ff;border: 1px dotted black;border-radius: 0.25em;box-sizing: border-box;margin-bottom: 0.5em;}#sk-container-id-1 div.sk-estimator:hover {background-color: #d4ebff;}#sk-container-id-1 div.sk-parallel-item::after {content: \"\";width: 100%;border-bottom: 1px solid gray;flex-grow: 1;}#sk-container-id-1 div.sk-label:hover label.sk-toggleable__label {background-color: #d4ebff;}#sk-container-id-1 div.sk-serial::before {content: \"\";position: absolute;border-left: 1px solid gray;box-sizing: border-box;top: 0;bottom: 0;left: 50%;z-index: 0;}#sk-container-id-1 div.sk-serial {display: flex;flex-direction: column;align-items: center;background-color: white;padding-right: 0.2em;padding-left: 0.2em;position: relative;}#sk-container-id-1 div.sk-item {position: relative;z-index: 1;}#sk-container-id-1 div.sk-parallel {display: flex;align-items: stretch;justify-content: center;background-color: white;position: relative;}#sk-container-id-1 div.sk-item::before, #sk-container-id-1 div.sk-parallel-item::before {content: \"\";position: absolute;border-left: 1px solid gray;box-sizing: border-box;top: 0;bottom: 0;left: 50%;z-index: -1;}#sk-container-id-1 div.sk-parallel-item {display: flex;flex-direction: column;z-index: 1;position: relative;background-color: white;}#sk-container-id-1 div.sk-parallel-item:first-child::after {align-self: flex-end;width: 50%;}#sk-container-id-1 div.sk-parallel-item:last-child::after {align-self: flex-start;width: 50%;}#sk-container-id-1 div.sk-parallel-item:only-child::after {width: 0;}#sk-container-id-1 div.sk-dashed-wrapped {border: 1px dashed gray;margin: 0 0.4em 0.5em 0.4em;box-sizing: border-box;padding-bottom: 0.4em;background-color: white;}#sk-container-id-1 div.sk-label label {font-family: monospace;font-weight: bold;display: inline-block;line-height: 1.2em;}#sk-container-id-1 div.sk-label-container {text-align: center;}#sk-container-id-1 div.sk-container {/* jupyter's `normalize.less` sets `[hidden] { display: none; }` but bootstrap.min.css set `[hidden] { display: none !important; }` so we also need the `!important` here to be able to override the default hidden behavior on the sphinx rendered scikit-learn.org. See: https://github.com/scikit-learn/scikit-learn/issues/21755 */display: inline-block !important;position: relative;}#sk-container-id-1 div.sk-text-repr-fallback {display: none;}</style><div id=\"sk-container-id-1\" class=\"sk-top-container\"><div class=\"sk-text-repr-fallback\"><pre>SGDRegressor(learning_rate=&#x27;adaptive&#x27;)</pre><b>In a Jupyter environment, please rerun this cell to show the HTML representation or trust the notebook. <br />On GitHub, the HTML representation is unable to render, please try loading this page with nbviewer.org.</b></div><div class=\"sk-container\" hidden><div class=\"sk-item\"><div class=\"sk-estimator sk-toggleable\"><input class=\"sk-toggleable__control sk-hidden--visually\" id=\"sk-estimator-id-1\" type=\"checkbox\" checked><label for=\"sk-estimator-id-1\" class=\"sk-toggleable__label sk-toggleable__label-arrow\">SGDRegressor</label><div class=\"sk-toggleable__content\"><pre>SGDRegressor(learning_rate=&#x27;adaptive&#x27;)</pre></div></div></div></div></div>"
      ],
      "text/plain": [
       "SGDRegressor(learning_rate='adaptive')"
      ]
     },
     "execution_count": 16,
     "metadata": {},
     "output_type": "execute_result"
    }
   ],
   "source": [
    "# SGD optimized\n",
    "\n",
    "from sklearn.linear_model import SGDRegressor\n",
    "\n",
    "my_SGD = SGDRegressor(learning_rate = 'adaptive')\n",
    "\n",
    "my_SGD.fit(x_train_s, y_train_s)"
   ]
  },
  {
   "cell_type": "code",
   "execution_count": 17,
   "id": "35197693",
   "metadata": {},
   "outputs": [
    {
     "name": "stdout",
     "output_type": "stream",
     "text": [
      "r2 score:  0.825185796640268\n",
      "mae:  2885.8973634957624\n"
     ]
    }
   ],
   "source": [
    "y_hat_sgd = my_SGD.predict(x_test_s)\n",
    "\n",
    "r2_sgd = r2_score(y_test_s, y_hat_sgd)\n",
    "\n",
    "mae_sgd = mean_absolute_error(y_test_s, y_hat_sgd)\n",
    "\n",
    "print('r2 score: ', r2_sgd)\n",
    "print('mae: ', mae_sgd)"
   ]
  },
  {
   "cell_type": "markdown",
   "id": "bceaf9f0",
   "metadata": {},
   "source": [
    "# MLP Neural Network\n"
   ]
  },
  {
   "cell_type": "markdown",
   "id": "df44e0d7",
   "metadata": {},
   "source": [
    "### Description of a MLP NN\n",
    "\n",
    "An MLP (Multi Layer Perceptron) Neural network works by using different \"nodes\" in various layers. Many neural networks have three \"hidden\" layers, and an input and output layer. Each layer will take an input of N features and output some number of features. Each layer must have the same input size as the output of the layer above, or in the case of the input layer, the same number of inputs as features being used. \n",
    "\n",
    "Each \"node\" in a neural network uses an activation function, which determines if the node is activated or disabled. Most commonly and in our case, the ReLU activation function is used. Each node will have a weight attached to it that determines the activation function parameters as well as the activation threshold of the node."
   ]
  },
  {
   "cell_type": "code",
   "execution_count": 18,
   "id": "29569fdd",
   "metadata": {},
   "outputs": [],
   "source": [
    "# SKLearn MLPRegressor model was difficult to work with and customize so we moved to pytorch"
   ]
  }
 ],
 "metadata": {
  "kernelspec": {
   "display_name": "Python 3",
   "language": "python",
   "name": "python3"
  },
  "language_info": {
   "codemirror_mode": {
    "name": "ipython",
    "version": 3
   },
   "file_extension": ".py",
   "mimetype": "text/x-python",
   "name": "python",
   "nbconvert_exporter": "python",
   "pygments_lexer": "ipython3",
   "version": "3.10.8"
  }
 },
 "nbformat": 4,
 "nbformat_minor": 5
}
