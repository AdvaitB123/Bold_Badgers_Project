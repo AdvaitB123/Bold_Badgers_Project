{
 "cells": [
  {
   "cell_type": "markdown",
   "metadata": {},
   "source": [
    "# Load data"
   ]
  },
  {
   "cell_type": "markdown",
   "metadata": {},
   "source": [
    "Our dataset contains the average GDP per capita of 227 countries from 1970 to 2017 as well as the average of other metrics such as Infant mortality (per 1000 births) and Literacy % for each country\n",
    "\n",
    "We want our model to be able to predict the GDP per capita for a country based on inputted values for the other metrics."
   ]
  },
  {
   "cell_type": "code",
   "execution_count": 5,
   "metadata": {},
   "outputs": [],
   "source": [
    "import pandas as pd\n",
    "\n",
    "file = 'countries of the world.csv'\n",
    "\n",
    "df = pd.read_csv(file, decimal = ',')"
   ]
  },
  {
   "cell_type": "markdown",
   "metadata": {},
   "source": [
    "# Preprocessing for data analysis"
   ]
  },
  {
   "cell_type": "code",
   "execution_count": 7,
   "metadata": {},
   "outputs": [],
   "source": [
    "# Fills null values with the average column value by region \n",
    "\n",
    "for col in df.columns.values:\n",
    "  if df[col].isnull().sum() == 0: # if column does not have null values\n",
    "    continue \n",
    "  #otherwise\n",
    "  med_values = df.groupby('Region')[col].median()\n",
    "  for region in df['Region'].unique():\n",
    "    # replace value where value is null and df[Region] = region\n",
    "    df[col].loc[(df[col].isnull()) & (df['Region'] == region)] = med_values[region]"
   ]
  },
  {
   "cell_type": "markdown",
   "metadata": {},
   "source": [
    "# Data Analysis and Graphs"
   ]
  },
  {
   "cell_type": "code",
   "execution_count": 8,
   "metadata": {},
   "outputs": [
    {
     "name": "stdout",
     "output_type": "stream",
     "text": [
      "Population, St Pierre & Miquelon , 7026\n",
      "Area (sq. mi.), Monaco , 2\n",
      "Pop. Density (per sq. mi.), Greenland , 0.0\n",
      "Coastline (coast/area ratio), Afghanistan , 0.0\n",
      "Net migration, Micronesia, Fed. St. , -20.99\n",
      "Infant mortality (per 1000 births), Singapore , 2.29\n",
      "GDP ($ per capita), East Timor , 500.0\n",
      "Literacy (%), Niger , 17.6\n",
      "Phones (per 1000), Congo, Dem. Rep. , 0.2\n",
      "Arable (%), Anguilla , 0.0\n",
      "Crops (%), Andorra , 0.0\n",
      "Other (%), Tonga , 33.33\n",
      "Climate, Afghanistan , 1.0\n",
      "Birthrate, Hong Kong , 7.29\n",
      "Deathrate, N. Mariana Islands , 2.29\n",
      "Agriculture, Singapore , 0.0\n",
      "Industry, Jersey , 0.02\n",
      "Service, Equatorial Guinea , 0.062\n"
     ]
    }
   ],
   "source": [
    "# min column values with country name\n",
    "\n",
    "for col in df.columns.values[2:]:\n",
    "  index_of_min = df[col].idxmin()\n",
    "  min_country = df['Country'].loc[index_of_min]\n",
    "  min_value = df[col].min()\n",
    "  print(col + \", \" + min_country + \", \" + str(min_value))"
   ]
  },
  {
   "cell_type": "code",
   "execution_count": 9,
   "metadata": {},
   "outputs": [
    {
     "name": "stdout",
     "output_type": "stream",
     "text": [
      "Population, China , 1313973713\n",
      "Area (sq. mi.), Russia , 17075200\n",
      "Pop. Density (per sq. mi.), Monaco , 16271.5\n",
      "Coastline (coast/area ratio), Micronesia, Fed. St. , 870.66\n",
      "Net migration, Afghanistan , 23.06\n",
      "Infant mortality (per 1000 births), Angola , 191.19\n",
      "GDP ($ per capita), Luxembourg , 55100.0\n",
      "Literacy (%), Andorra , 100.0\n",
      "Phones (per 1000), Monaco , 1035.6\n",
      "Arable (%), Bangladesh , 62.11\n",
      "Crops (%), Kiribati , 50.68\n",
      "Other (%), Anguilla , 100.0\n",
      "Climate, Armenia , 4.0\n",
      "Birthrate, Niger , 50.73\n",
      "Deathrate, Swaziland , 29.74\n",
      "Agriculture, Liberia , 0.769\n",
      "Industry, Equatorial Guinea , 0.906\n",
      "Service, Cayman Islands , 0.954\n"
     ]
    }
   ],
   "source": [
    "# max column values with country name\n",
    "\n",
    "for col in df.columns.values[2:]:\n",
    "  index_of_max = df[col].idxmax()\n",
    "  max_country = df['Country'].loc[index_of_max]\n",
    "  max_value = df[col].max()\n",
    "  print(col + \", \" + max_country + \", \" + str(max_value))"
   ]
  },
  {
   "cell_type": "code",
   "execution_count": null,
   "metadata": {},
   "outputs": [],
   "source": [
    "import plotly_express as px\n",
    "\n",
    "corr = df[df.columns.values[2:]].corr()\n",
    "px.imshow(corr, text_auto=True, width=1300, height=1300)\n",
    "\n",
    "\"\"\"\n",
    "Correlation map of all features in the dataframe\n",
    "Higher numbers are a good indicator of important features in the dataset\n",
    "For example, GDP is highly correlated to Phones per 1000 people\n",
    "\"\"\""
   ]
  },
  {
   "cell_type": "code",
   "execution_count": null,
   "id": "a732331e",
   "metadata": {},
   "outputs": [],
   "source": [
    "\"\"\"\n",
    "Most of the data in this set is logarithmically correlated\n",
    "\"\"\""
   ]
  },
  {
   "cell_type": "markdown",
   "metadata": {},
   "source": [
    "# Preprocessing for Machine Learning"
   ]
  },
  {
   "cell_type": "code",
   "execution_count": 10,
   "metadata": {},
   "outputs": [],
   "source": [
    "# Make dummies for Region \n",
    "\n",
    "dummies = pd.get_dummies(df['Region'])\n",
    "\n",
    "df['Asia'] = dummies['ASIA (EX. NEAR EAST)         ']\n",
    "df['Eastern Europe'] = dummies['EASTERN EUROPE                     ']\n",
    "df['Northern Africa'] = dummies['NORTHERN AFRICA                    ']\n",
    "df['Oceania'] = dummies['OCEANIA                            ']\n",
    "df['Western Europe'] = dummies['WESTERN EUROPE                     ']\n",
    "df['Sub-Saharan Africa'] = dummies['SUB-SAHARAN AFRICA                 ']\n",
    "df['Latin America and Caribbean'] = dummies['LATIN AMER. & CARIB    ']\n",
    "df['Commonwealth of Independent States'] = dummies['C.W. OF IND. STATES ']\n",
    "df['Near East'] = dummies['NEAR EAST                          ']\n",
    "df['North America'] = dummies['NORTHERN AMERICA                   ']\n",
    "df['Baltics'] = dummies['BALTICS                            ']\n",
    "\n",
    "df.drop('Region', axis=1, inplace=True)"
   ]
  },
  {
   "cell_type": "code",
   "execution_count": 11,
   "metadata": {},
   "outputs": [],
   "source": [
    "# Cannot use for prediction\n",
    "\n",
    "df.drop('Country', axis=1, inplace=True)"
   ]
  },
  {
   "cell_type": "code",
   "execution_count": 12,
   "metadata": {},
   "outputs": [],
   "source": [
    "# Split data\n",
    "\n",
    "target = df['GDP ($ per capita)']\n",
    "features = df.loc[:, df.columns != 'GDP ($ per capita)']\n",
    "\n",
    "from sklearn.model_selection import train_test_split\n",
    "\n",
    "x_train, x_test, y_train, y_test = train_test_split(features, target, test_size = 0.2, random_state = 21) # random state to keep splits the same in different runs"
   ]
  },
  {
   "cell_type": "markdown",
   "metadata": {},
   "source": [
    "# Decision Trees"
   ]
  },
  {
   "cell_type": "code",
   "execution_count": null,
   "metadata": {},
   "outputs": [],
   "source": [
    "# Description of model (how it works)\n",
    "# A decision tree \n",
    "\n",
    "# Hyperparameter tuning / feature selection\n",
    "\n",
    "# Train model\n",
    "\n",
    "# Model performance analysis"
   ]
  },
  {
   "cell_type": "markdown",
   "metadata": {},
   "source": [
    "# Random Forests"
   ]
  },
  {
   "cell_type": "code",
   "execution_count": null,
   "id": "eaa53f73",
   "metadata": {},
   "outputs": [],
   "source": [
    "# Description of model (how it works)\n",
    "\n",
    "# Hyperparameter tuning / feature selection\n",
    "\n",
    "# Train model\n",
    "\n",
    "# Model performance analysis"
   ]
  },
  {
   "cell_type": "markdown",
   "id": "89f9d7c3",
   "metadata": {},
   "source": [
    "# Stochastic Gradient Descent"
   ]
  },
  {
   "cell_type": "code",
   "execution_count": null,
   "id": "ade98197",
   "metadata": {},
   "outputs": [],
   "source": [
    "# Description of model (how it works)\n",
    "\n",
    "# Hyperparameter tuning / feature scaling\n",
    "\n",
    "# Train model\n",
    "\n",
    "# Model performance analysis"
   ]
  }
 ],
 "metadata": {
  "kernelspec": {
   "display_name": "Python 3",
   "language": "python",
   "name": "python3"
  },
  "language_info": {
   "codemirror_mode": {
    "name": "ipython",
    "version": 3
   },
   "file_extension": ".py",
   "mimetype": "text/x-python",
   "name": "python",
   "nbconvert_exporter": "python",
   "pygments_lexer": "ipython3",
   "version": "3.11.3"
  }
 },
 "nbformat": 4,
 "nbformat_minor": 5
}
